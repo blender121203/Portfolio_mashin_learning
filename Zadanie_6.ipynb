{
 "cells": [
  {
   "cell_type": "markdown",
   "id": "7cf64ebd",
   "metadata": {},
   "source": [
    "# Сессия_1"
   ]
  },
  {
   "cell_type": "markdown",
   "id": "de0522b4",
   "metadata": {},
   "source": [
    "*В этой сессии необходимо будет  загрузить представленные данные и билиотеки, а также предобработать выборку, так как такие действия позволяют улучшать точность при обучении.Для того, что-бы обработка была сделана корректно,необходимо выполним следующие пункты:*\n",
    "* *Загрузка данных и библиотек*\n",
    "* *Исследование данных*\n",
    "* *Обработка пропущенных значений*\n",
    "* *Преобразование выборки*\n",
    "* *Удаление пробелов и повторяющихся значений в данных*\n",
    "* *Кодирование номинативных признаков*"
   ]
  },
  {
   "cell_type": "markdown",
   "id": "258fb000",
   "metadata": {},
   "source": [
    "**Загрузка данных**"
   ]
  },
  {
   "cell_type": "code",
   "execution_count": 1,
   "id": "89585c2d",
   "metadata": {},
   "outputs": [],
   "source": [
    "import pandas as pd\n",
    "import numpy as np\n",
    "import matplotlib.pyplot as plt\n",
    "import seaborn as sns\n",
    "plt.rcParams ['figure.figsize']=(6,4)\n",
    "from sklearn.preprocessing import LabelEncoder\n",
    "from sklearn.preprocessing import MinMaxScaler\n",
    "import warnings\n",
    "warnings.filterwarnings('ignore')\n",
    "from sklearn.feature_extraction.text import CountVectorizer\n",
    "from pandas.api.types import is_string_dtype\n",
    "from sklearn.feature_extraction.text import TfidfVectorizer\n",
    "from sklearn.feature_extraction.text import HashingVectorizer"
   ]
  },
  {
   "cell_type": "code",
   "execution_count": 2,
   "id": "9a2e1372",
   "metadata": {},
   "outputs": [],
   "source": [
    "file_1='adult_test.csv'\n",
    "file_2='adult_train.csv'\n",
    "df_1=pd.read_csv(file_1, sep=';' ,skiprows=[1])\n",
    "df_2=pd.read_csv(file_2, sep=';')"
   ]
  },
  {
   "cell_type": "code",
   "execution_count": 3,
   "id": "cbdc09da",
   "metadata": {},
   "outputs": [],
   "source": [
    "data=pd.concat([df_1, df_2], axis=0)"
   ]
  },
  {
   "cell_type": "code",
   "execution_count": 4,
   "id": "91939dc1",
   "metadata": {},
   "outputs": [
    {
     "data": {
      "text/html": [
       "<div>\n",
       "<style scoped>\n",
       "    .dataframe tbody tr th:only-of-type {\n",
       "        vertical-align: middle;\n",
       "    }\n",
       "\n",
       "    .dataframe tbody tr th {\n",
       "        vertical-align: top;\n",
       "    }\n",
       "\n",
       "    .dataframe thead th {\n",
       "        text-align: right;\n",
       "    }\n",
       "</style>\n",
       "<table border=\"1\" class=\"dataframe\">\n",
       "  <thead>\n",
       "    <tr style=\"text-align: right;\">\n",
       "      <th></th>\n",
       "      <th>Age</th>\n",
       "      <th>Workclass</th>\n",
       "      <th>fnlwgt</th>\n",
       "      <th>Education</th>\n",
       "      <th>Education_Num</th>\n",
       "      <th>Martial_Status</th>\n",
       "      <th>Occupation</th>\n",
       "      <th>Relationship</th>\n",
       "      <th>Race</th>\n",
       "      <th>Sex</th>\n",
       "      <th>Capital_Gain</th>\n",
       "      <th>Capital_Loss</th>\n",
       "      <th>Hours_per_week</th>\n",
       "      <th>Country</th>\n",
       "      <th>Target</th>\n",
       "    </tr>\n",
       "  </thead>\n",
       "  <tbody>\n",
       "    <tr>\n",
       "      <th>0</th>\n",
       "      <td>25</td>\n",
       "      <td>Private</td>\n",
       "      <td>226802.0</td>\n",
       "      <td>11th</td>\n",
       "      <td>7.0</td>\n",
       "      <td>Never-married</td>\n",
       "      <td>Machine-op-inspct</td>\n",
       "      <td>Own-child</td>\n",
       "      <td>Black</td>\n",
       "      <td>Male</td>\n",
       "      <td>0.0</td>\n",
       "      <td>0.0</td>\n",
       "      <td>40.0</td>\n",
       "      <td>United-States</td>\n",
       "      <td>&lt;=50K.</td>\n",
       "    </tr>\n",
       "    <tr>\n",
       "      <th>1</th>\n",
       "      <td>38</td>\n",
       "      <td>Private</td>\n",
       "      <td>89814.0</td>\n",
       "      <td>HS-grad</td>\n",
       "      <td>9.0</td>\n",
       "      <td>Married-civ-spouse</td>\n",
       "      <td>Farming-fishing</td>\n",
       "      <td>Husband</td>\n",
       "      <td>White</td>\n",
       "      <td>Male</td>\n",
       "      <td>0.0</td>\n",
       "      <td>0.0</td>\n",
       "      <td>50.0</td>\n",
       "      <td>United-States</td>\n",
       "      <td>&lt;=50K.</td>\n",
       "    </tr>\n",
       "    <tr>\n",
       "      <th>2</th>\n",
       "      <td>28</td>\n",
       "      <td>Local-gov</td>\n",
       "      <td>336951.0</td>\n",
       "      <td>Assoc-acdm</td>\n",
       "      <td>12.0</td>\n",
       "      <td>Married-civ-spouse</td>\n",
       "      <td>Protective-serv</td>\n",
       "      <td>Husband</td>\n",
       "      <td>White</td>\n",
       "      <td>Male</td>\n",
       "      <td>0.0</td>\n",
       "      <td>0.0</td>\n",
       "      <td>40.0</td>\n",
       "      <td>United-States</td>\n",
       "      <td>&gt;50K.</td>\n",
       "    </tr>\n",
       "    <tr>\n",
       "      <th>3</th>\n",
       "      <td>44</td>\n",
       "      <td>Private</td>\n",
       "      <td>160323.0</td>\n",
       "      <td>Some-college</td>\n",
       "      <td>10.0</td>\n",
       "      <td>Married-civ-spouse</td>\n",
       "      <td>Machine-op-inspct</td>\n",
       "      <td>Husband</td>\n",
       "      <td>Black</td>\n",
       "      <td>Male</td>\n",
       "      <td>7688.0</td>\n",
       "      <td>0.0</td>\n",
       "      <td>40.0</td>\n",
       "      <td>United-States</td>\n",
       "      <td>&gt;50K.</td>\n",
       "    </tr>\n",
       "    <tr>\n",
       "      <th>4</th>\n",
       "      <td>18</td>\n",
       "      <td>NaN</td>\n",
       "      <td>103497.0</td>\n",
       "      <td>Some-college</td>\n",
       "      <td>10.0</td>\n",
       "      <td>Never-married</td>\n",
       "      <td>NaN</td>\n",
       "      <td>Own-child</td>\n",
       "      <td>White</td>\n",
       "      <td>Female</td>\n",
       "      <td>0.0</td>\n",
       "      <td>0.0</td>\n",
       "      <td>30.0</td>\n",
       "      <td>United-States</td>\n",
       "      <td>&lt;=50K.</td>\n",
       "    </tr>\n",
       "  </tbody>\n",
       "</table>\n",
       "</div>"
      ],
      "text/plain": [
       "   Age   Workclass    fnlwgt      Education  Education_Num  \\\n",
       "0   25     Private  226802.0           11th            7.0   \n",
       "1   38     Private   89814.0        HS-grad            9.0   \n",
       "2   28   Local-gov  336951.0     Assoc-acdm           12.0   \n",
       "3   44     Private  160323.0   Some-college           10.0   \n",
       "4   18         NaN  103497.0   Some-college           10.0   \n",
       "\n",
       "        Martial_Status          Occupation Relationship    Race      Sex  \\\n",
       "0        Never-married   Machine-op-inspct    Own-child   Black     Male   \n",
       "1   Married-civ-spouse     Farming-fishing      Husband   White     Male   \n",
       "2   Married-civ-spouse     Protective-serv      Husband   White     Male   \n",
       "3   Married-civ-spouse   Machine-op-inspct      Husband   Black     Male   \n",
       "4        Never-married                 NaN    Own-child   White   Female   \n",
       "\n",
       "   Capital_Gain  Capital_Loss  Hours_per_week         Country   Target  \n",
       "0           0.0           0.0            40.0   United-States   <=50K.  \n",
       "1           0.0           0.0            50.0   United-States   <=50K.  \n",
       "2           0.0           0.0            40.0   United-States    >50K.  \n",
       "3        7688.0           0.0            40.0   United-States    >50K.  \n",
       "4           0.0           0.0            30.0   United-States   <=50K.  "
      ]
     },
     "execution_count": 4,
     "metadata": {},
     "output_type": "execute_result"
    }
   ],
   "source": [
    "data.head(5)"
   ]
  },
  {
   "cell_type": "markdown",
   "id": "cf4942a0",
   "metadata": {},
   "source": [
    "**Исследование данных**"
   ]
  },
  {
   "cell_type": "markdown",
   "id": "b689172d",
   "metadata": {},
   "source": [
    "*Теперь можно посмотреть размер данных, это должно пригодиться в предобработки.*"
   ]
  },
  {
   "cell_type": "code",
   "execution_count": 5,
   "id": "77b8e07f",
   "metadata": {},
   "outputs": [
    {
     "data": {
      "text/plain": [
       "(48842, 15)"
      ]
     },
     "execution_count": 5,
     "metadata": {},
     "output_type": "execute_result"
    }
   ],
   "source": [
    "data.shape"
   ]
  },
  {
   "cell_type": "markdown",
   "id": "42543560",
   "metadata": {},
   "source": [
    "*Наши данные имеют 48842 объектов и 13 признаков, это считается средним размером данных*\n",
    "***\n",
    "*Для понимания с какими значениями предстоит работать, выведим на экран статистическую таблицу:*"
   ]
  },
  {
   "cell_type": "code",
   "execution_count": 6,
   "id": "b6d38e16",
   "metadata": {},
   "outputs": [
    {
     "data": {
      "text/html": [
       "<div>\n",
       "<style scoped>\n",
       "    .dataframe tbody tr th:only-of-type {\n",
       "        vertical-align: middle;\n",
       "    }\n",
       "\n",
       "    .dataframe tbody tr th {\n",
       "        vertical-align: top;\n",
       "    }\n",
       "\n",
       "    .dataframe thead th {\n",
       "        text-align: right;\n",
       "    }\n",
       "</style>\n",
       "<table border=\"1\" class=\"dataframe\">\n",
       "  <thead>\n",
       "    <tr style=\"text-align: right;\">\n",
       "      <th></th>\n",
       "      <th>count</th>\n",
       "      <th>mean</th>\n",
       "      <th>std</th>\n",
       "      <th>min</th>\n",
       "      <th>25%</th>\n",
       "      <th>50%</th>\n",
       "      <th>75%</th>\n",
       "      <th>max</th>\n",
       "    </tr>\n",
       "  </thead>\n",
       "  <tbody>\n",
       "    <tr>\n",
       "      <th>Age</th>\n",
       "      <td>48842.0</td>\n",
       "      <td>38.643585</td>\n",
       "      <td>13.710510</td>\n",
       "      <td>17.0</td>\n",
       "      <td>28.0</td>\n",
       "      <td>37.0</td>\n",
       "      <td>48.0</td>\n",
       "      <td>90.0</td>\n",
       "    </tr>\n",
       "    <tr>\n",
       "      <th>fnlwgt</th>\n",
       "      <td>48842.0</td>\n",
       "      <td>189664.134597</td>\n",
       "      <td>105604.025423</td>\n",
       "      <td>12285.0</td>\n",
       "      <td>117550.5</td>\n",
       "      <td>178144.5</td>\n",
       "      <td>237642.0</td>\n",
       "      <td>1490400.0</td>\n",
       "    </tr>\n",
       "    <tr>\n",
       "      <th>Education_Num</th>\n",
       "      <td>48842.0</td>\n",
       "      <td>10.078089</td>\n",
       "      <td>2.570973</td>\n",
       "      <td>1.0</td>\n",
       "      <td>9.0</td>\n",
       "      <td>10.0</td>\n",
       "      <td>12.0</td>\n",
       "      <td>16.0</td>\n",
       "    </tr>\n",
       "    <tr>\n",
       "      <th>Capital_Gain</th>\n",
       "      <td>48842.0</td>\n",
       "      <td>1079.067626</td>\n",
       "      <td>7452.019058</td>\n",
       "      <td>0.0</td>\n",
       "      <td>0.0</td>\n",
       "      <td>0.0</td>\n",
       "      <td>0.0</td>\n",
       "      <td>99999.0</td>\n",
       "    </tr>\n",
       "    <tr>\n",
       "      <th>Capital_Loss</th>\n",
       "      <td>48842.0</td>\n",
       "      <td>87.502314</td>\n",
       "      <td>403.004552</td>\n",
       "      <td>0.0</td>\n",
       "      <td>0.0</td>\n",
       "      <td>0.0</td>\n",
       "      <td>0.0</td>\n",
       "      <td>4356.0</td>\n",
       "    </tr>\n",
       "    <tr>\n",
       "      <th>Hours_per_week</th>\n",
       "      <td>48842.0</td>\n",
       "      <td>40.422382</td>\n",
       "      <td>12.391444</td>\n",
       "      <td>1.0</td>\n",
       "      <td>40.0</td>\n",
       "      <td>40.0</td>\n",
       "      <td>45.0</td>\n",
       "      <td>99.0</td>\n",
       "    </tr>\n",
       "  </tbody>\n",
       "</table>\n",
       "</div>"
      ],
      "text/plain": [
       "                  count           mean            std      min       25%  \\\n",
       "Age             48842.0      38.643585      13.710510     17.0      28.0   \n",
       "fnlwgt          48842.0  189664.134597  105604.025423  12285.0  117550.5   \n",
       "Education_Num   48842.0      10.078089       2.570973      1.0       9.0   \n",
       "Capital_Gain    48842.0    1079.067626    7452.019058      0.0       0.0   \n",
       "Capital_Loss    48842.0      87.502314     403.004552      0.0       0.0   \n",
       "Hours_per_week  48842.0      40.422382      12.391444      1.0      40.0   \n",
       "\n",
       "                     50%       75%        max  \n",
       "Age                 37.0      48.0       90.0  \n",
       "fnlwgt          178144.5  237642.0  1490400.0  \n",
       "Education_Num       10.0      12.0       16.0  \n",
       "Capital_Gain         0.0       0.0    99999.0  \n",
       "Capital_Loss         0.0       0.0     4356.0  \n",
       "Hours_per_week      40.0      45.0       99.0  "
      ]
     },
     "execution_count": 6,
     "metadata": {},
     "output_type": "execute_result"
    }
   ],
   "source": [
    "data.describe().T"
   ]
  },
  {
   "cell_type": "markdown",
   "id": "47bb7343",
   "metadata": {},
   "source": [
    "*Видно, что медианное значение приближено к среднему, это говорит о том, что в данных имеется мало выбросов, также отклонение значение достпаточно маленькое, это должно хорошо повлиять на результат обучения.*\n",
    "***\n",
    "*В заключении иследования можно посмотреть какой тип имеют признаки, так как это тоже важно знать при обучениии модели:*"
   ]
  },
  {
   "cell_type": "code",
   "execution_count": 7,
   "id": "f11e684d",
   "metadata": {},
   "outputs": [
    {
     "data": {
      "text/plain": [
       "Age                 int64\n",
       "Workclass          object\n",
       "fnlwgt            float64\n",
       "Education          object\n",
       "Education_Num     float64\n",
       "Martial_Status     object\n",
       "Occupation         object\n",
       "Relationship       object\n",
       "Race               object\n",
       "Sex                object\n",
       "Capital_Gain      float64\n",
       "Capital_Loss      float64\n",
       "Hours_per_week    float64\n",
       "Country            object\n",
       "Target             object\n",
       "dtype: object"
      ]
     },
     "execution_count": 7,
     "metadata": {},
     "output_type": "execute_result"
    }
   ],
   "source": [
    "data.dtypes"
   ]
  },
  {
   "cell_type": "markdown",
   "id": "27e5bcec",
   "metadata": {},
   "source": [
    "*Данные практически все состоят из количественных признаков, это стоит учитывать при обработке данных.*"
   ]
  },
  {
   "cell_type": "markdown",
   "id": "b708a5e6",
   "metadata": {},
   "source": [
    "**Обработка пропущенных значений**"
   ]
  },
  {
   "cell_type": "markdown",
   "id": "dad366cf",
   "metadata": {},
   "source": [
    "*В начале необходимо обработать пропущенные значения в данных.Существует три метода:*\n",
    "* *Удаление призаков или значений(применять лучше если пропущенных значений отсутствует мало ,а выборка имеет большой размер)*\n",
    "* *Замена пропщенных значений на моду числа или среднее или мелианное значение(считается самым стандартным способом)*\n",
    "* *Предсказание пропщенных значений(здесь важно, что бы призанки имели зависимость от признаков с пропущенными значениями)*"
   ]
  },
  {
   "cell_type": "markdown",
   "id": "c558a816",
   "metadata": {},
   "source": [
    "*Что бы определить каким способом мы будем обрабатывать пропущенные значения, посмотрим на их колличество:*"
   ]
  },
  {
   "cell_type": "code",
   "execution_count": 8,
   "id": "1d2220b7",
   "metadata": {},
   "outputs": [
    {
     "data": {
      "text/plain": [
       "Age                  0\n",
       "Workclass         2799\n",
       "fnlwgt               0\n",
       "Education            0\n",
       "Education_Num        0\n",
       "Martial_Status       0\n",
       "Occupation        2809\n",
       "Relationship         0\n",
       "Race                 0\n",
       "Sex                  0\n",
       "Capital_Gain         0\n",
       "Capital_Loss         0\n",
       "Hours_per_week       0\n",
       "Country            857\n",
       "Target               0\n",
       "dtype: int64"
      ]
     },
     "execution_count": 8,
     "metadata": {},
     "output_type": "execute_result"
    }
   ],
   "source": [
    "data.isnull().sum()"
   ]
  },
  {
   "cell_type": "markdown",
   "id": "d618169a",
   "metadata": {},
   "source": [
    "Так как пропущенных значений мало, и большиноство из них не случайно отсутствуют мы воспользуемся методом-заменой заменой пропущенных значений.Все пропущенные значения я заменю модой числа, так как отсутствуют они только в номинативных признаках:*"
   ]
  },
  {
   "cell_type": "code",
   "execution_count": 9,
   "id": "19443ea3",
   "metadata": {},
   "outputs": [
    {
     "name": "stdout",
     "output_type": "stream",
     "text": [
      "Workclass\n",
      "Occupation\n",
      "Country\n"
     ]
    }
   ],
   "source": [
    "df_nomics=data.select_dtypes(exclude=[np.number])\n",
    "df_cols=df_nomics.columns.values\n",
    "for col in df_cols:\n",
    "    missing=data[col].isnull()\n",
    "    df_missing=np.sum(missing)\n",
    "    if df_missing >0:\n",
    "        print(f'{col}')\n",
    "    top=data[col].describe()['top']\n",
    "    data[col]=data[col].fillna(top)"
   ]
  },
  {
   "cell_type": "markdown",
   "id": "31613750",
   "metadata": {},
   "source": [
    "**Преобразование выборки**"
   ]
  },
  {
   "cell_type": "markdown",
   "id": "6aa08fbf",
   "metadata": {},
   "source": [
    "*Для того, что-бы компьютер показовал большую вероятность прогноза, используют преобразование выборки.Так как в данных много категориальных признаков, в качестве преобразования используем Векторайзер, который будет считать количество повторений в выборки в каждом значении.*"
   ]
  },
  {
   "cell_type": "code",
   "execution_count": 10,
   "id": "8f6f35fc",
   "metadata": {},
   "outputs": [],
   "source": [
    "vectorizer = CountVectorizer()"
   ]
  },
  {
   "cell_type": "code",
   "execution_count": 11,
   "id": "c1a3bb82",
   "metadata": {},
   "outputs": [
    {
     "data": {
      "text/plain": [
       "array([[25, ' Private', 226802.0, ..., 40.0, ' United-States', ' <=50K.'],\n",
       "       [38, ' Private', 89814.0, ..., 50.0, ' United-States', ' <=50K.'],\n",
       "       [28, ' Local-gov', 336951.0, ..., 40.0, ' United-States',\n",
       "        ' >50K.'],\n",
       "       ...,\n",
       "       [58, ' Private', 151910.0, ..., 40.0, ' United-States', ' <=50K'],\n",
       "       [22, ' Private', 201490.0, ..., 20.0, ' United-States', ' <=50K'],\n",
       "       [52, ' Self-emp-inc', 287927.0, ..., 40.0, ' United-States',\n",
       "        ' >50K']], dtype=object)"
      ]
     },
     "execution_count": 11,
     "metadata": {},
     "output_type": "execute_result"
    }
   ],
   "source": [
    "data.values"
   ]
  },
  {
   "cell_type": "code",
   "execution_count": 12,
   "id": "31b75ff7",
   "metadata": {},
   "outputs": [
    {
     "data": {
      "text/plain": [
       "CountVectorizer()"
      ]
     },
     "execution_count": 12,
     "metadata": {},
     "output_type": "execute_result"
    }
   ],
   "source": [
    "vectorizer.fit(data)"
   ]
  },
  {
   "cell_type": "code",
   "execution_count": 13,
   "id": "63bcb038",
   "metadata": {},
   "outputs": [
    {
     "name": "stdout",
     "output_type": "stream",
     "text": [
      "{'age': 0, 'workclass': 14, 'fnlwgt': 6, 'education': 4, 'education_num': 5, 'martial_status': 8, 'occupation': 9, 'relationship': 11, 'race': 10, 'sex': 12, 'capital_gain': 1, 'capital_loss': 2, 'hours_per_week': 7, 'country': 3, 'target': 13}\n"
     ]
    }
   ],
   "source": [
    "print(vectorizer.vocabulary_)"
   ]
  },
  {
   "cell_type": "code",
   "execution_count": 14,
   "id": "cfac3e74",
   "metadata": {},
   "outputs": [],
   "source": [
    "vector = vectorizer.transform(data)"
   ]
  },
  {
   "cell_type": "code",
   "execution_count": 15,
   "id": "488c4e2b",
   "metadata": {},
   "outputs": [
    {
     "name": "stdout",
     "output_type": "stream",
     "text": [
      "(15, 15)\n",
      "<class 'scipy.sparse.csr.csr_matrix'>\n",
      "[[1 0 0 0 0 0 0 0 0 0 0 0 0 0 0]\n",
      " [0 0 0 0 0 0 0 0 0 0 0 0 0 0 1]\n",
      " [0 0 0 0 0 0 1 0 0 0 0 0 0 0 0]\n",
      " [0 0 0 0 1 0 0 0 0 0 0 0 0 0 0]\n",
      " [0 0 0 0 0 1 0 0 0 0 0 0 0 0 0]\n",
      " [0 0 0 0 0 0 0 0 1 0 0 0 0 0 0]\n",
      " [0 0 0 0 0 0 0 0 0 1 0 0 0 0 0]\n",
      " [0 0 0 0 0 0 0 0 0 0 0 1 0 0 0]\n",
      " [0 0 0 0 0 0 0 0 0 0 1 0 0 0 0]\n",
      " [0 0 0 0 0 0 0 0 0 0 0 0 1 0 0]\n",
      " [0 1 0 0 0 0 0 0 0 0 0 0 0 0 0]\n",
      " [0 0 1 0 0 0 0 0 0 0 0 0 0 0 0]\n",
      " [0 0 0 0 0 0 0 1 0 0 0 0 0 0 0]\n",
      " [0 0 0 1 0 0 0 0 0 0 0 0 0 0 0]\n",
      " [0 0 0 0 0 0 0 0 0 0 0 0 0 1 0]]\n"
     ]
    }
   ],
   "source": [
    "print(vector.shape)\n",
    "print(type(vector))\n",
    "print(vector.toarray())"
   ]
  },
  {
   "cell_type": "markdown",
   "id": "0b0796dc",
   "metadata": {},
   "source": [
    "*Также можно увидить частоты слов текста:*"
   ]
  },
  {
   "cell_type": "code",
   "execution_count": 16,
   "id": "fd5ede40",
   "metadata": {},
   "outputs": [
    {
     "name": "stdout",
     "output_type": "stream",
     "text": [
      "{'age': 0, 'workclass': 14, 'fnlwgt': 6, 'education': 4, 'education_num': 5, 'martial_status': 8, 'occupation': 9, 'relationship': 11, 'race': 10, 'sex': 12, 'capital_gain': 1, 'capital_loss': 2, 'hours_per_week': 7, 'country': 3, 'target': 13}\n",
      "[3.07944154 3.07944154 3.07944154 3.07944154 3.07944154 3.07944154\n",
      " 3.07944154 3.07944154 3.07944154 3.07944154 3.07944154 3.07944154\n",
      " 3.07944154 3.07944154 3.07944154]\n"
     ]
    }
   ],
   "source": [
    "vectorizer = TfidfVectorizer()\n",
    "vectorizer.fit(data)\n",
    "print(vectorizer.vocabulary_)\n",
    "print(vectorizer.idf_)"
   ]
  },
  {
   "cell_type": "markdown",
   "id": "c0c0d0ec",
   "metadata": {},
   "source": [
    "*В заключении воспользуемся хеширование слов*"
   ]
  },
  {
   "cell_type": "code",
   "execution_count": 17,
   "id": "6e6867db",
   "metadata": {},
   "outputs": [
    {
     "name": "stdout",
     "output_type": "stream",
     "text": [
      "(15, 20)\n",
      "[[ 0.  0.  0.  0.  0.  0.  0.  0.  0.  1.  0.  0.  0.  0.  0.  0.  0.  0.\n",
      "   0.  0.]\n",
      " [ 0.  0.  0.  0.  0.  0.  0.  0.  0.  0.  0.  0.  0.  0.  0.  0.  0.  0.\n",
      "   1.  0.]\n",
      " [ 0.  0.  0.  0.  0.  0.  0.  0.  0.  0.  0.  1.  0.  0.  0.  0.  0.  0.\n",
      "   0.  0.]\n",
      " [ 0.  0.  0.  0.  0.  0.  0.  0. -1.  0.  0.  0.  0.  0.  0.  0.  0.  0.\n",
      "   0.  0.]\n",
      " [ 0.  0.  0.  0.  0.  0.  0.  0.  0.  0.  0.  0.  0.  0.  0.  0. -1.  0.\n",
      "   0.  0.]\n",
      " [ 0. -1.  0.  0.  0.  0.  0.  0.  0.  0.  0.  0.  0.  0.  0.  0.  0.  0.\n",
      "   0.  0.]\n",
      " [ 0.  0.  0.  0.  0.  0.  0.  0.  0.  0.  0.  0.  0.  0.  0.  0.  0.  0.\n",
      "   0.  1.]\n",
      " [ 0.  0.  0. -1.  0.  0.  0.  0.  0.  0.  0.  0.  0.  0.  0.  0.  0.  0.\n",
      "   0.  0.]\n",
      " [ 0.  0.  0.  0.  0.  0.  0.  0.  0.  0.  0.  1.  0.  0.  0.  0.  0.  0.\n",
      "   0.  0.]\n",
      " [ 0.  1.  0.  0.  0.  0.  0.  0.  0.  0.  0.  0.  0.  0.  0.  0.  0.  0.\n",
      "   0.  0.]\n",
      " [ 0.  0.  0.  0.  0.  0.  0.  0.  0.  0.  0.  0.  1.  0.  0.  0.  0.  0.\n",
      "   0.  0.]\n",
      " [ 0.  0.  0.  0.  0.  0.  0.  0.  0.  0.  0.  0.  0.  0.  0. -1.  0.  0.\n",
      "   0.  0.]\n",
      " [ 0.  0.  0.  0.  0.  0.  0.  0.  0.  0.  0.  0. -1.  0.  0.  0.  0.  0.\n",
      "   0.  0.]\n",
      " [ 0.  0.  0.  0.  0.  0.  0.  0.  0.  0.  0.  1.  0.  0.  0.  0.  0.  0.\n",
      "   0.  0.]\n",
      " [ 0.  1.  0.  0.  0.  0.  0.  0.  0.  0.  0.  0.  0.  0.  0.  0.  0.  0.\n",
      "   0.  0.]]\n"
     ]
    }
   ],
   "source": [
    "vectorizer = HashingVectorizer(n_features=20)\n",
    "vector = vectorizer.transform(data)\n",
    "print(vector.shape)\n",
    "print(vector.toarray())"
   ]
  },
  {
   "cell_type": "markdown",
   "id": "5caf4df9",
   "metadata": {},
   "source": [
    "**Удаление пробелов и повторяющихся значений в данных**"
   ]
  },
  {
   "cell_type": "markdown",
   "id": "3cd61095",
   "metadata": {},
   "source": [
    "*Так как в выборке помимо текста присутствуют числа, будет правильным удалить пропущенные значения , так как они могут плохо повлиять на обучение.И все же не стоит забывать, что в данных также есть текст, и там скорее всего много пробелов, по той же причине избавимся от них.*"
   ]
  },
  {
   "cell_type": "code",
   "execution_count": 18,
   "id": "0e1cee74",
   "metadata": {},
   "outputs": [
    {
     "name": "stdout",
     "output_type": "stream",
     "text": [
      "Capital_Gain-92%\n",
      "Capital_Loss-95%\n"
     ]
    }
   ],
   "source": [
    "rows=len(data.index)\n",
    "information_cols=[]\n",
    "df_nomics=data.select_dtypes(include=[np.number])\n",
    "df_cols=df_nomics.columns.values\n",
    "for col in df_cols:\n",
    "    conts=data[col].value_counts(dropna=True)\n",
    "    top_row=(conts/rows).iloc[0]  \n",
    "    if top_row>0.80:\n",
    "        del data[col]\n",
    "        print(\"{}-{}%\".format(col, round(top_row*100)))"
   ]
  },
  {
   "cell_type": "code",
   "execution_count": 19,
   "id": "4c166353",
   "metadata": {},
   "outputs": [],
   "source": [
    "df_nomics=data.select_dtypes(exclude=[np.number])\n",
    "df_cols=df_nomics.columns.values\n",
    "for column in df_cols:\n",
    "    if is_string_dtype(data[column].dtype):\n",
    "        data[column] = data[column].map(str.strip)"
   ]
  },
  {
   "cell_type": "markdown",
   "id": "90e26024",
   "metadata": {},
   "source": [
    "**Кодирование номинативных признаков**"
   ]
  },
  {
   "cell_type": "markdown",
   "id": "4b40525e",
   "metadata": {},
   "source": [
    "*Под конец предобработки, закодируем номинативные признаки, так как на текстовых данных машина точно не сможет обучиться:*"
   ]
  },
  {
   "cell_type": "code",
   "execution_count": 20,
   "id": "4e5bb5d5",
   "metadata": {},
   "outputs": [],
   "source": [
    "lbl=LabelEncoder()\n",
    "df_nomic=data.select_dtypes(exclude=[np.number])\n",
    "nomic_cols=df_nomic.columns.values\n",
    "for col in nomic_cols:\n",
    "    data[col]=lbl.fit_transform(data[col])"
   ]
  },
  {
   "cell_type": "markdown",
   "id": "22d286b2",
   "metadata": {},
   "source": [
    "# Сессия_2"
   ]
  },
  {
   "cell_type": "markdown",
   "id": "e5a783de",
   "metadata": {},
   "source": [
    "*В этой сессии необходимо проанализировать данные, и оставить только такие признаки для обучения, которые хорошо зависят от целевой переменной.Также в этой сессии необходимо выбрать алгоритм регрессии и провести обучение:*"
   ]
  },
  {
   "cell_type": "markdown",
   "id": "abc261ad",
   "metadata": {},
   "source": [
    "*Для того, что-бы посмотреть зависимость признаков от целевого атрибута,  выведем на экран диграмму попарной зависимости:*"
   ]
  },
  {
   "cell_type": "code",
   "execution_count": 21,
   "id": "f729c51b",
   "metadata": {},
   "outputs": [],
   "source": [
    "#sns.pairplot(data, palette='Spectral', hue='Sex');"
   ]
  },
  {
   "cell_type": "markdown",
   "id": "c55a1767",
   "metadata": {},
   "source": [
    "*По диограмме видно, что атрибуты хорошо зависят от целевого признака, потому-что все они расположены на плоскости хаотично, некоторые признаки даже образуют на плоскости линию, что говорит о их линейной зависимости.*"
   ]
  },
  {
   "cell_type": "code",
   "execution_count": 22,
   "id": "b97d1e8b",
   "metadata": {},
   "outputs": [
    {
     "data": {
      "image/png": "[encoded data removed]",
      "text/plain": [
       "<Figure size 792x1008 with 2 Axes>"
      ]
     },
     "metadata": {
      "needs_background": "light"
     },
     "output_type": "display_data"
    }
   ],
   "source": [
    "plt.figure(figsize=(11,14))\n",
    "sns.heatmap(data.corr()[['Workclass']].sort_values(by='Workclass', ascending=False), vmin=-1, vmax=1, annot=True, cmap='PiYG', fmt='.1f');"
   ]
  },
  {
   "cell_type": "markdown",
   "id": "cbb868a4",
   "metadata": {},
   "source": [
    "*Коэффициент корреляции признаки имею хороший от целевого атрибута, так как он меньше 0.2, это говорит о том, что обычные атрибуты не имеют схожести с целевым признаком.*"
   ]
  },
  {
   "cell_type": "code",
   "execution_count": 23,
   "id": "103b437a",
   "metadata": {},
   "outputs": [
    {
     "data": {
      "image/png": "[encoded data removed]",
      "text/plain": [
       "<Figure size 792x1008 with 16 Axes>"
      ]
     },
     "metadata": {
      "needs_background": "light"
     },
     "output_type": "display_data"
    }
   ],
   "source": [
    "data.hist(color='lightgreen', figsize=(11,14));"
   ]
  },
  {
   "cell_type": "markdown",
   "id": "0f361b4a",
   "metadata": {},
   "source": [
    "*Видно, что распределены признаки симитрично, это хорошо повлияет на точность при обучении.*"
   ]
  },
  {
   "cell_type": "code",
   "execution_count": 24,
   "id": "2f4a4355",
   "metadata": {},
   "outputs": [
    {
     "data": {
      "image/png": "[encoded data removed]",
      "text/plain": [
       "<Figure size 1008x792 with 1 Axes>"
      ]
     },
     "metadata": {
      "needs_background": "light"
     },
     "output_type": "display_data"
    }
   ],
   "source": [
    "plt.figure(figsize=(14,11))\n",
    "sns.set_context('poster',font_scale=0.7)\n",
    "sns.boxplot(x='Workclass', y='Education_Num', data=data, hue='Sex', palette='Spectral');"
   ]
  },
  {
   "cell_type": "markdown",
   "id": "b61c9806",
   "metadata": {},
   "source": [
    "*На бокс-плоте видно, что в выборке очень мало выбросов, и если их удалить, это даже может ухудшить точность обучения, так как данные могут потерять уникальность , что не очень хорошо.*\n",
    "***\n",
    "*После того, как мы обработали и отбрали признаки для обучения можно приступить к регрессионному анализу, но для начало стоит определиться с алгоритмами. В качестве обучения я буду использовать регрессию Лассо(так как с помощью него получаются более точные и стабильные оценки истинных параметров, уменьшение ошибок выборки и отсутствия выборки, и эт все потому-что этот алгоритм основан на приближении значений к центральной точке), Дерево Решений Регрессия( он отслеживает особенности объекта) и SVD(это альтернатива метод опорных векторов для регрессии)*\n",
    "*** \n",
    "*Для начала осуществим загрузку выбранных алгоритмов регрессии:*"
   ]
  },
  {
   "cell_type": "code",
   "execution_count": 25,
   "id": "f690db7c",
   "metadata": {},
   "outputs": [],
   "source": [
    "from sklearn.linear_model import LassoCV\n",
    "from sklearn.svm import SVR\n",
    "from sklearn.tree import DecisionTreeRegressor\n",
    "from sklearn.model_selection import train_test_split"
   ]
  },
  {
   "cell_type": "markdown",
   "id": "738099d2",
   "metadata": {},
   "source": [
    "*Так как в выборке признаки имеют разные диапазоны и тем самым способствуют искажению восприятия взаимоотношений между переменными-предикторами, применим масштабирование.Для начало необходимо разобраться какую библиотеку лучше применить.Выделяют всего четыре MinMaxScaler,RobustScaler,StandardScaler, а такжеNormalizer.*\n",
    "* *MinMaxScaler используется по умолчанию, если необходимо преобразовываете функцию. Он не искажает результат.*\n",
    "* *RobustScaler если есть выбросы и необходимо уменьшить их влияние. Тем не менее, лучше удалить выбросы.*\n",
    "* *StandardScaler, если нужен относительно нормальный дистрибутив(он вычисляет дисперсию)*\n",
    "* *Normalizer экономно - он нормализует строки выборки, а не столбцы объектов.*\n",
    "\n",
    "*Так как наши данные восновном состоят из чисел, здесь уместно будет применить MinMaxScaler:*"
   ]
  },
  {
   "cell_type": "code",
   "execution_count": 26,
   "id": "5db43385",
   "metadata": {},
   "outputs": [],
   "source": [
    "scal=MinMaxScaler()\n",
    "df_scaler=scal.fit_transform(data.drop(\"Workclass\",axis=1))"
   ]
  },
  {
   "cell_type": "markdown",
   "id": "07b3fade",
   "metadata": {},
   "source": [
    "*Для того, что бы наша модель могла в будующем нормально переобучаться, необходимо разделить данные на обучающую и тестовую части, что позволит корректно выдовать результат при внесении новых объектов.*"
   ]
  },
  {
   "cell_type": "code",
   "execution_count": 27,
   "id": "39e53efa",
   "metadata": {},
   "outputs": [],
   "source": [
    "X=df_scaler.copy()\n",
    "Y=data[\"Workclass\"]\n",
    "X_train, X_test, Y_train, Y_test=train_test_split(X,Y,test_size=0.3, random_state=69)"
   ]
  },
  {
   "cell_type": "code",
   "execution_count": 28,
   "id": "93dc9067",
   "metadata": {},
   "outputs": [],
   "source": [
    "scaler = MinMaxScaler(feature_range=(0, 1))\n",
    "scaler.fit(X)\n",
    "X = scaler.transform(X)\n",
    "X_test = scaler.transform(X_test)"
   ]
  },
  {
   "cell_type": "code",
   "execution_count": 29,
   "id": "e1ee6c1a",
   "metadata": {},
   "outputs": [],
   "source": [
    "def mae(y_true, y_pred):\n",
    "    return np.mean(abs(y_true-y_pred))\n",
    "def fit_and_evaluate(model):\n",
    "    model.fit(X, Y)\n",
    "    model_pred = model.predict(X_test)\n",
    "    model_mae=mae(Y_test, model_pred)\n",
    "    return model_mae"
   ]
  },
  {
   "cell_type": "markdown",
   "id": "1c19654c",
   "metadata": {},
   "source": [
    "*Обучение на регрессии Лассо*"
   ]
  },
  {
   "cell_type": "code",
   "execution_count": 30,
   "id": "344420c1",
   "metadata": {},
   "outputs": [
    {
     "name": "stdout",
     "output_type": "stream",
     "text": [
      "LassoRegression Performance on the test set: MAE = 0.6145\n"
     ]
    }
   ],
   "source": [
    "lasso = LassoCV()\n",
    "lr_mae_lasso = fit_and_evaluate(lasso)\n",
    "print('LassoRegression Performance on the test set: MAE = %0.4f' % lr_mae_lasso)"
   ]
  },
  {
   "cell_type": "markdown",
   "id": "734ea7b7",
   "metadata": {},
   "source": [
    "*Обучение на регрессии опорных векторов*"
   ]
  },
  {
   "cell_type": "code",
   "execution_count": 31,
   "id": "d0bcfd69",
   "metadata": {},
   "outputs": [],
   "source": [
    "#svm = SVR(C = 1000, gamma = 0.1)\n",
    "#svm_mae = fit_and_evaluate(svm)\n",
    "#print('Support Vector Machine Regression Performance on the test set: MAE = %0.4f' % svm_mae)"
   ]
  },
  {
   "cell_type": "markdown",
   "id": "1c8a0547",
   "metadata": {},
   "source": [
    "*Обучение на регрессии дерева решений*"
   ]
  },
  {
   "cell_type": "code",
   "execution_count": 32,
   "id": "067faec4",
   "metadata": {},
   "outputs": [
    {
     "name": "stdout",
     "output_type": "stream",
     "text": [
      "DecisionTreeRegressor Performance on the test set: MAE = 0.0006\n"
     ]
    }
   ],
   "source": [
    "tree_reg=DecisionTreeRegressor()\n",
    "lr_mae_tree = fit_and_evaluate(tree_reg)\n",
    "print('DecisionTreeRegressor Performance on the test set: MAE = %0.4f' % lr_mae_tree)"
   ]
  },
  {
   "cell_type": "code",
   "execution_count": 33,
   "id": "3aa1f7f1",
   "metadata": {},
   "outputs": [
    {
     "data": {
      "text/plain": [
       "<Figure size 792x1008 with 0 Axes>"
      ]
     },
     "metadata": {},
     "output_type": "display_data"
    },
    {
     "data": {
      "image/png": "[encoded data removed]",
      "text/plain": [
       "<Figure size 432x288 with 1 Axes>"
      ]
     },
     "metadata": {},
     "output_type": "display_data"
    }
   ],
   "source": [
    "plt.style.use('fivethirtyeight')\n",
    "plt.figure(figsize=(11,14))\n",
    "model_comparison = pd.DataFrame({'model': ['LassoRegression',\n",
    "                                           'DecisionTreeRegressor'],\n",
    "                                 'mae': [lr_mae_lasso, \n",
    "                                         lr_mae_tree]})\n",
    "\n",
    "model_comparison.sort_values('mae', ascending = False).plot(x = 'model', y = 'mae', kind = 'barh',\n",
    "                                                           color = 'darkblue', edgecolor = 'black')\n",
    "plt.ylabel(''); plt.yticks(size = 14); plt.xlabel('Mean Absolute Error'); plt.xticks(size = 14)\n",
    "plt.title('Model Comparison on Test MAE', size = 20);"
   ]
  },
  {
   "cell_type": "markdown",
   "id": "50b71afe",
   "metadata": {},
   "source": [
    "*Из данной гистограммы можно сказать, что лучшую точность вывел алгоритм \"Дерево решений\"*"
   ]
  },
  {
   "cell_type": "markdown",
   "id": "3ac94999",
   "metadata": {},
   "source": [
    "# Сессия_3"
   ]
  },
  {
   "cell_type": "markdown",
   "id": "c1efc526",
   "metadata": {},
   "source": [
    "*Теперь нужно решить, какую модель классификации будем использовать для входящих документов по адресату.Мне кажется, больше всего подходит алгоритм Дерева решений или SGDClassifier, так как выборка относительно большого размера, и также эти классификаторы не чувствительны к выбросам в данных.Еще применим ансамблевый алгоритм XGBClassifier, потомучто он способен давать более лучший результат, так как комбинируют прогнозы из двух и более алгоритмов машинного обучения.Импортируем эти классификаторы:*"
   ]
  },
  {
   "cell_type": "code",
   "execution_count": 34,
   "id": "528e471e",
   "metadata": {},
   "outputs": [],
   "source": [
    "from sklearn.linear_model import SGDClassifier\n",
    "from sklearn.tree import DecisionTreeClassifier\n",
    "from xgboost import XGBClassifier"
   ]
  },
  {
   "cell_type": "markdown",
   "id": "4ccc5865",
   "metadata": {},
   "source": [
    "*Обучение с помощью алгоритма DecisionTree*"
   ]
  },
  {
   "cell_type": "code",
   "execution_count": 35,
   "id": "c7a25b8c",
   "metadata": {},
   "outputs": [],
   "source": [
    "tree=DecisionTreeClassifier(random_state=20)"
   ]
  },
  {
   "cell_type": "code",
   "execution_count": 36,
   "id": "43964623",
   "metadata": {},
   "outputs": [
    {
     "data": {
      "text/plain": [
       "DecisionTreeClassifier(random_state=20)"
      ]
     },
     "execution_count": 36,
     "metadata": {},
     "output_type": "execute_result"
    }
   ],
   "source": [
    "tree.fit(X_train, Y_train) "
   ]
  },
  {
   "cell_type": "code",
   "execution_count": 37,
   "id": "ca909bfe",
   "metadata": {},
   "outputs": [],
   "source": [
    "y_pred=tree.predict(X_test)"
   ]
  },
  {
   "cell_type": "code",
   "execution_count": 38,
   "id": "ecbf91cd",
   "metadata": {},
   "outputs": [],
   "source": [
    "pred_tree=tree.score(X_test, Y_test)"
   ]
  },
  {
   "cell_type": "markdown",
   "id": "515cf29e",
   "metadata": {},
   "source": [
    "*Обучение с помощью алгоритма \"eXtreme Gradient Boosting\"*"
   ]
  },
  {
   "cell_type": "code",
   "execution_count": 39,
   "id": "852fcb62",
   "metadata": {},
   "outputs": [],
   "source": [
    "xgb=XGBClassifier(random_state=110,n_estmats=22, learning_rate=0.19,min_child_weight=1,gamma=0,subsample=0.9,colsample_bytree=0.8,nthread=4,scale_pos_weight=1,seed=27)"
   ]
  },
  {
   "cell_type": "code",
   "execution_count": 40,
   "id": "43fa2da8",
   "metadata": {
    "scrolled": false
   },
   "outputs": [
    {
     "name": "stdout",
     "output_type": "stream",
     "text": [
      "[16:52:37] WARNING: C:/Users/Administrator/workspace/xgboost-win64_release_1.5.0/src/learner.cc:576: \n",
      "Parameters: { \"n_estmats\", \"scale_pos_weight\" } might not be used.\n",
      "\n",
      "  This could be a false alarm, with some parameters getting used by language bindings but\n",
      "  then being mistakenly passed down to XGBoost core, or some parameter actually being used\n",
      "  but getting flagged wrongly here. Please open an issue if you find any such cases.\n",
      "\n",
      "\n",
      "[16:52:37] WARNING: C:/Users/Administrator/workspace/xgboost-win64_release_1.5.0/src/learner.cc:1115: Starting in XGBoost 1.3.0, the default evaluation metric used with the objective 'multi:softprob' was changed from 'merror' to 'mlogloss'. Explicitly set eval_metric if you'd like to restore the old behavior.\n"
     ]
    },
    {
     "data": {
      "text/plain": [
       "XGBClassifier(base_score=0.5, booster='gbtree', colsample_bylevel=1,\n",
       "              colsample_bynode=1, colsample_bytree=0.8,\n",
       "              enable_categorical=False, gamma=0, gpu_id=-1,\n",
       "              importance_type=None, interaction_constraints='',\n",
       "              learning_rate=0.19, max_delta_step=0, max_depth=6,\n",
       "              min_child_weight=1, missing=nan, monotone_constraints='()',\n",
       "              n_estimators=100, n_estmats=22, n_jobs=4, nthread=4,\n",
       "              num_parallel_tree=1, objective='multi:softprob', predictor='auto',\n",
       "              random_state=110, reg_alpha=0, reg_lambda=1, scale_pos_weight=1,\n",
       "              seed=27, subsample=0.9, tree_method='exact', ...)"
      ]
     },
     "execution_count": 40,
     "metadata": {},
     "output_type": "execute_result"
    }
   ],
   "source": [
    "xgb.fit(X_train, Y_train)"
   ]
  },
  {
   "cell_type": "code",
   "execution_count": 41,
   "id": "99e9aaf8",
   "metadata": {},
   "outputs": [],
   "source": [
    "y_pred=xgb.predict(X_test)"
   ]
  },
  {
   "cell_type": "code",
   "execution_count": 42,
   "id": "74de97c3",
   "metadata": {},
   "outputs": [],
   "source": [
    "pred_xgb=xgb.score(X_test, Y_test)"
   ]
  },
  {
   "cell_type": "markdown",
   "id": "8aba38a2",
   "metadata": {},
   "source": [
    "*Обучение с помощью алгоритма Stochastic Gradient Descent:*"
   ]
  },
  {
   "cell_type": "code",
   "execution_count": 43,
   "id": "caf5e415",
   "metadata": {},
   "outputs": [],
   "source": [
    "sgd=SGDClassifier(random_state=1,epsilon=0.01)"
   ]
  },
  {
   "cell_type": "code",
   "execution_count": 44,
   "id": "df8ccfca",
   "metadata": {},
   "outputs": [
    {
     "data": {
      "text/plain": [
       "SGDClassifier(epsilon=0.01, random_state=1)"
      ]
     },
     "execution_count": 44,
     "metadata": {},
     "output_type": "execute_result"
    }
   ],
   "source": [
    "sgd.fit(X_train ,Y_train)"
   ]
  },
  {
   "cell_type": "code",
   "execution_count": 45,
   "id": "dcc0a2ee",
   "metadata": {},
   "outputs": [],
   "source": [
    "y_pred=sgd.predict(X_test)"
   ]
  },
  {
   "cell_type": "code",
   "execution_count": 46,
   "id": "ef7cdb2c",
   "metadata": {},
   "outputs": [],
   "source": [
    "pred_sgd=sgd.score(X_test, Y_test)"
   ]
  },
  {
   "cell_type": "code",
   "execution_count": 47,
   "id": "0270f739",
   "metadata": {},
   "outputs": [
    {
     "data": {
      "text/plain": [
       "<Figure size 792x1008 with 0 Axes>"
      ]
     },
     "metadata": {},
     "output_type": "display_data"
    },
    {
     "data": {
      "image/png": "[encoded data removed]",
      "text/plain": [
       "<Figure size 432x288 with 1 Axes>"
      ]
     },
     "metadata": {},
     "output_type": "display_data"
    }
   ],
   "source": [
    "plt.style.use('fivethirtyeight')\n",
    "plt.figure(figsize=(11,14))\n",
    "model_comparison = pd.DataFrame({'model': ['DecisionTree', 'eXtreme Gradient Boosting',\"Stochastic Gradient Descent\"],\n",
    "                                 'score': [pred_tree, pred_xgb,pred_sgd]})\n",
    "model_comparison.sort_values('score', ascending = False).plot(x = 'model', y = 'score', kind = 'barh',\n",
    "                                                           color = 'lightyellow', edgecolor = 'black')\n",
    "\n",
    "plt.ylabel(''); plt.yticks(size = 14); plt.xlabel('Score models'); plt.xticks(size = 14)\n",
    "plt.title('Model Comparison on  Score', size = 20);"
   ]
  },
  {
   "cell_type": "markdown",
   "id": "7b2ecfe8",
   "metadata": {},
   "source": [
    "*На гистограмме видно, что лучше всего с обучением справился алгоритм eXtreme Gradient Boosting.*"
   ]
  },
  {
   "cell_type": "markdown",
   "id": "6971e50c",
   "metadata": {},
   "source": [
    "**Feature Engineering**"
   ]
  },
  {
   "cell_type": "markdown",
   "id": "53ef0abf",
   "metadata": {},
   "source": [
    "*Что-бы точность модели была ещё лучше, воспользуемся настройкой параметров между признаками, так как меньше всего параметров имеется у алгоритма Дерева решений, настроем его точность:*"
   ]
  },
  {
   "cell_type": "code",
   "execution_count": 48,
   "id": "edb59c7e",
   "metadata": {},
   "outputs": [],
   "source": [
    "tree=DecisionTreeClassifier(random_state=1)"
   ]
  },
  {
   "cell_type": "code",
   "execution_count": 49,
   "id": "5cda0151",
   "metadata": {},
   "outputs": [],
   "source": [
    "from sklearn.model_selection import GridSearchCV"
   ]
  },
  {
   "cell_type": "code",
   "execution_count": 50,
   "id": "74199ed9",
   "metadata": {},
   "outputs": [],
   "source": [
    "params={\"max_depth\":np.arange(1,7,1),\"min_samples_leaf\":range(1,6,1)}"
   ]
  },
  {
   "cell_type": "code",
   "execution_count": 51,
   "id": "bcf058d6",
   "metadata": {},
   "outputs": [],
   "source": [
    "grid=GridSearchCV(tree, params, cv=5, n_jobs= -1)"
   ]
  },
  {
   "cell_type": "code",
   "execution_count": 52,
   "id": "911a1a16",
   "metadata": {},
   "outputs": [
    {
     "name": "stdout",
     "output_type": "stream",
     "text": [
      "1.26 s ± 32.7 ms per loop (mean ± std. dev. of 7 runs, 1 loop each)\n"
     ]
    }
   ],
   "source": [
    "%%timeit\n",
    "grid.fit(X_train, Y_train)"
   ]
  },
  {
   "cell_type": "code",
   "execution_count": 53,
   "id": "d511814c",
   "metadata": {},
   "outputs": [
    {
     "data": {
      "text/plain": [
       "{'max_depth': 6, 'min_samples_leaf': 5}"
      ]
     },
     "execution_count": 53,
     "metadata": {},
     "output_type": "execute_result"
    }
   ],
   "source": [
    "grid.best_params_"
   ]
  },
  {
   "cell_type": "code",
   "execution_count": 54,
   "id": "4cefdbc4",
   "metadata": {},
   "outputs": [],
   "source": [
    "best_tree = grid.best_estimator_"
   ]
  },
  {
   "cell_type": "code",
   "execution_count": 55,
   "id": "edd81098",
   "metadata": {},
   "outputs": [],
   "source": [
    "y_pred = best_tree.predict(X_test)"
   ]
  },
  {
   "cell_type": "code",
   "execution_count": 56,
   "id": "b8d310ff",
   "metadata": {},
   "outputs": [
    {
     "data": {
      "text/plain": [
       "0.7558570794640914"
      ]
     },
     "execution_count": 56,
     "metadata": {},
     "output_type": "execute_result"
    }
   ],
   "source": [
    "grid.best_score_"
   ]
  },
  {
   "cell_type": "markdown",
   "id": "ef1a2c21",
   "metadata": {},
   "source": [
    "*Точность алгоритма \"eXtreme Gradient Boosting\" увеличилась на 13%, это доказывает, что параметры были подобраны верно.* "
   ]
  },
  {
   "cell_type": "markdown",
   "id": "266581f4",
   "metadata": {},
   "source": [
    "# Сессия_4"
   ]
  },
  {
   "cell_type": "markdown",
   "id": "1760aabb",
   "metadata": {},
   "source": [
    "*В этой сессии мы применим модели построенные в предыдущих сессиях.Создадим программный продукты : API*"
   ]
  },
  {
   "cell_type": "markdown",
   "id": "93c32b1a",
   "metadata": {},
   "source": [
    "**API**"
   ]
  },
  {
   "cell_type": "code",
   "execution_count": 57,
   "id": "fc1fea78",
   "metadata": {},
   "outputs": [],
   "source": [
    "from flask import render_template, request, jsonify\n",
    "import flask\n",
    "import numpy as np\n",
    "import traceback\n",
    "import pickle\n",
    "import pandas as pd\n",
    "from flask import Flask"
   ]
  },
  {
   "cell_type": "code",
   "execution_count": 58,
   "id": "a9fe555c",
   "metadata": {},
   "outputs": [],
   "source": [
    "import pickle\n",
    "with open('model.pkl','wb') as file:\n",
    "    pickle.dump(xgb, file)"
   ]
  },
  {
   "cell_type": "code",
   "execution_count": 59,
   "id": "98681c2a",
   "metadata": {},
   "outputs": [],
   "source": [
    "model_columns = list(X)\n",
    "with open('model_columns.pkl','wb') as file:\n",
    "    pickle.dump(model_columns, file)"
   ]
  },
  {
   "cell_type": "code",
   "execution_count": null,
   "id": "45e636b3",
   "metadata": {},
   "outputs": [
    {
     "name": "stdout",
     "output_type": "stream",
     "text": [
      " * Serving Flask app \"__main__\" (lazy loading)\n",
      " * Environment: production\n",
      "   WARNING: This is a development server. Do not use it in a production deployment.\n",
      "   Use a production WSGI server instead.\n",
      " * Debug mode: off\n"
     ]
    },
    {
     "name": "stderr",
     "output_type": "stream",
     "text": [
      " * Running on http://127.0.0.1:5000/ (Press CTRL+C to quit)\n",
      "127.0.0.1 - - [27/Dec/2021 16:53:00] \"\u001b[37mGET / HTTP/1.1\u001b[0m\" 200 -\n",
      "127.0.0.1 - - [27/Dec/2021 16:53:19] \"\u001b[37mGET / HTTP/1.1\u001b[0m\" 200 -\n",
      "127.0.0.1 - - [27/Dec/2021 16:53:31] \"\u001b[31m\u001b[1mPOST / HTTP/1.1\u001b[0m\" 405 -\n",
      "127.0.0.1 - - [27/Dec/2021 16:53:40] \"\u001b[31m\u001b[1mPOST / HTTP/1.1\u001b[0m\" 405 -\n",
      "127.0.0.1 - - [27/Dec/2021 16:54:06] \"\u001b[37mGET / HTTP/1.1\u001b[0m\" 200 -\n",
      "127.0.0.1 - - [27/Dec/2021 16:54:24] \"\u001b[31m\u001b[1mPOST / HTTP/1.1\u001b[0m\" 405 -\n",
      "127.0.0.1 - - [27/Dec/2021 16:55:00] \"\u001b[37mGET / HTTP/1.1\u001b[0m\" 200 -\n",
      "127.0.0.1 - - [27/Dec/2021 16:55:34] \"\u001b[37mPOST /predict HTTP/1.1\u001b[0m\" 200 -\n"
     ]
    },
    {
     "name": "stdout",
     "output_type": "stream",
     "text": [
      "None\n"
     ]
    },
    {
     "name": "stderr",
     "output_type": "stream",
     "text": [
      "127.0.0.1 - - [27/Dec/2021 17:30:19] \"\u001b[37mPOST /predict HTTP/1.1\u001b[0m\" 200 -\n"
     ]
    },
    {
     "name": "stdout",
     "output_type": "stream",
     "text": [
      "{'Age': '38', 'Workclass': 'Private', 'fnlwgt': '89814.0', 'Education': 'HS-grad'}\n"
     ]
    },
    {
     "name": "stderr",
     "output_type": "stream",
     "text": [
      "127.0.0.1 - - [27/Dec/2021 17:30:25] \"\u001b[37mPOST /predict HTTP/1.1\u001b[0m\" 200 -\n"
     ]
    },
    {
     "name": "stdout",
     "output_type": "stream",
     "text": [
      "{'Age': '38', 'Workclass': 'Private', 'fnlwgt': '89814.0', 'Education': 'HS-grad'}\n"
     ]
    },
    {
     "name": "stderr",
     "output_type": "stream",
     "text": [
      "127.0.0.1 - - [27/Dec/2021 17:30:53] \"\u001b[37mPOST /predict HTTP/1.1\u001b[0m\" 200 -\n"
     ]
    },
    {
     "name": "stdout",
     "output_type": "stream",
     "text": [
      "None\n"
     ]
    },
    {
     "name": "stderr",
     "output_type": "stream",
     "text": [
      "127.0.0.1 - - [27/Dec/2021 17:32:50] \"\u001b[37mPOST /predict HTTP/1.1\u001b[0m\" 200 -\n"
     ]
    },
    {
     "name": "stdout",
     "output_type": "stream",
     "text": [
      "{'Age': '38', 'Workclass': 'Private', 'fnlwgt': '89814.0', 'Education': 'HS-grad'}\n"
     ]
    },
    {
     "name": "stderr",
     "output_type": "stream",
     "text": [
      "127.0.0.1 - - [27/Dec/2021 17:32:56] \"\u001b[37mGET / HTTP/1.1\u001b[0m\" 200 -\n",
      "127.0.0.1 - - [27/Dec/2021 17:33:10] \"\u001b[37mPOST /predict HTTP/1.1\u001b[0m\" 200 -\n"
     ]
    },
    {
     "name": "stdout",
     "output_type": "stream",
     "text": [
      "{'Age': '38', 'Workclass': 'Private', 'fnlwgt': '89814.0', 'Education': 'HS-grad'}\n",
      "[{'Age': '38', 'Workclass': 'Private', 'fnlwgt': '89814.0', 'Education': 'HS-grad', 'Education_Num': '9.0', 'Martial_Status': 'Married-civ-spouse', 'Occupation': 'Farming-fishing', 'Relationship': 'Husband', 'Race': 'White', 'Sex': 'Male', 'Capital_Gain': '0.0', 'Capital_Loss': '0.0', 'Hours_per_week': '50.0', 'Country': 'United-States', 'Target': '<=50K.'}]\n"
     ]
    },
    {
     "name": "stderr",
     "output_type": "stream",
     "text": [
      "127.0.0.1 - - [27/Dec/2021 17:39:24] \"\u001b[37mPOST /predict HTTP/1.1\u001b[0m\" 200 -\n",
      "127.0.0.1 - - [27/Dec/2021 17:48:55] \"\u001b[37mGET /predict HTTP/1.1\u001b[0m\" 200 -\n",
      "127.0.0.1 - - [27/Dec/2021 17:49:05] \"\u001b[37mGET / HTTP/1.1\u001b[0m\" 200 -\n",
      "127.0.0.1 - - [27/Dec/2021 17:49:09] \"\u001b[37mGET /predict HTTP/1.1\u001b[0m\" 200 -\n",
      "127.0.0.1 - - [27/Dec/2021 17:49:10] \"\u001b[37mGET /predict HTTP/1.1\u001b[0m\" 200 -\n",
      "127.0.0.1 - - [27/Dec/2021 17:49:10] \"\u001b[37mGET /predict HTTP/1.1\u001b[0m\" 200 -\n",
      "127.0.0.1 - - [27/Dec/2021 17:49:10] \"\u001b[37mGET /predict HTTP/1.1\u001b[0m\" 200 -\n",
      "127.0.0.1 - - [27/Dec/2021 17:49:10] \"\u001b[37mGET /predict HTTP/1.1\u001b[0m\" 200 -\n",
      "127.0.0.1 - - [27/Dec/2021 17:49:30] \"\u001b[37mGET /predict HTTP/1.1\u001b[0m\" 200 -\n"
     ]
    }
   ],
   "source": [
    "app = Flask(__name__,template_folder='templates')\n",
    " \n",
    "\n",
    "with open('model.pkl', 'rb') as f:\n",
    "    xgb = pickle.load (f)\n",
    "\n",
    "with open('model_columns.pkl', 'rb') as f:\n",
    "    model_columns = pickle.load (f)\n",
    "\n",
    "@app.route('/')\n",
    "def welcome():\n",
    "    return \"Boston Housing Price Prediction\"\n",
    "\n",
    "@app.route('/predict', methods=['POST','GET'])\n",
    "def predict():\n",
    "    if flask.request.method == 'GET':\n",
    "        return \"Prediction page\"\n",
    "    \n",
    "    if flask.request.method == 'POST':\n",
    "        try:\n",
    "            json_ = request.json\n",
    "            print(json_)\n",
    "            query_ = pd.get_dummies(pd.DataFrame(json_))\n",
    "            query = query_.reindex(columns = model_columns, fill_value= 0)\n",
    "            prediction = list(xgb.predict(query))\n",
    " \n",
    "            return jsonify({\n",
    "                \"prediction\":str(prediction)\n",
    "            })\n",
    " \n",
    "        except:\n",
    "            return jsonify({\n",
    "                \"trace\": traceback.format_exc()\n",
    "            })\n",
    "        \n",
    "if __name__ == \"__main__\":\n",
    "   app.run()"
   ]
  },
  {
   "cell_type": "code",
   "execution_count": null,
   "id": "c70f9067",
   "metadata": {},
   "outputs": [],
   "source": []
  }
 ],
 "metadata": {
  "kernelspec": {
   "display_name": "Python 3 (ipykernel)",
   "language": "python",
   "name": "python3"
  },
  "language_info": {
   "codemirror_mode": {
    "name": "ipython",
    "version": 3
   },
   "file_extension": ".py",
   "mimetype": "text/x-python",
   "name": "python",
   "nbconvert_exporter": "python",
   "pygments_lexer": "ipython3",
   "version": "3.9.12"
  }
 },
 "nbformat": 4,
 "nbformat_minor": 5
}
