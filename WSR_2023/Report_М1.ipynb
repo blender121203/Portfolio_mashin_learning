{
 "cells": [
  {
   "cell_type": "markdown",
   "id": "af9fceec",
   "metadata": {},
   "source": [
    "# Модуль А.  Парсинг и предобработка данных"
   ]
  },
  {
   "cell_type": "markdown",
   "id": "759e9b69",
   "metadata": {},
   "source": [
    "### 1.1 Парсинг данных"
   ]
  },
  {
   "cell_type": "markdown",
   "id": "63d89e62",
   "metadata": {},
   "source": [
    "*Импортируем необходимы библиотеки для дальнейших действий:*"
   ]
  },
  {
   "cell_type": "code",
   "execution_count": 1,
   "id": "7a36d6f9",
   "metadata": {},
   "outputs": [],
   "source": [
    "import pandas as pd\n",
    "import numpy as np\n",
    "import seaborn as sns\n",
    "import matplotlib.pyplot as plt\n",
    "from bs4 import BeautifulSoup\n",
    "from tqdm import notebook\n",
    "import requests\n",
    "import re\n",
    "import os\n",
    "%matplotlib inline\n",
    "import glob\n",
    "import nltk\n",
    "from nltk.corpus import stopwords \n",
    "from nltk.tokenize import word_tokenize \n",
    "from nltk.tokenize import sent_tokenize\n",
    "from nltk.stem import wordnet \n",
    "from nltk import pos_tag  \n",
    "from nltk import word_tokenize \n",
    "from nltk.tokenize import sent_tokenize, word_tokenize\n",
    "from nltk.corpus import stopwords\n",
    "from sklearn.feature_extraction.text import CountVectorizer \n",
    "from sklearn.feature_extraction.text import TfidfVectorizer \n",
    "from sklearn.metrics import pairwise_distances \n",
    "from nltk.stem.snowball import SnowballStemmer\n",
    "from sklearn.linear_model import LogisticRegression\n",
    "import zipfile\n",
    "import xml.etree.ElementTree as ET\n",
    "import docx\n",
    "from sklearn.preprocessing import LabelEncoder\n",
    "from sklearn.preprocessing import MinMaxScaler\n",
    "from sklearn.model_selection import train_test_split"
   ]
  },
  {
   "cell_type": "markdown",
   "id": "c1e44082",
   "metadata": {},
   "source": [
    "*Для начало импортируем данные из представленной папки. Они изначально имеют расширение json, так как dataframe лучше рабоет с расширение csv, передем эти файлы в другую папку с данным расширением.Так, как файлов большое количество, импорт будет сделан через корневую дерикторию.*"
   ]
  },
  {
   "cell_type": "code",
   "execution_count": 2,
   "id": "120ac660",
   "metadata": {},
   "outputs": [],
   "source": [
    "modules = glob.glob('data\\*.json')"
   ]
  },
  {
   "cell_type": "code",
   "execution_count": 3,
   "id": "a68a0f2e",
   "metadata": {},
   "outputs": [],
   "source": [
    "data_json=[]\n",
    "for i in modules:\n",
    "    data_json=pd.read_json(i)\n",
    "    data_json.to_csv(f'meeting/data.csv')"
   ]
  },
  {
   "cell_type": "code",
   "execution_count": 4,
   "id": "772c87b2",
   "metadata": {},
   "outputs": [],
   "source": [
    "data=pd.read_csv(\"meeting/data.csv\")"
   ]
  },
  {
   "cell_type": "code",
   "execution_count": 5,
   "id": "577912ca",
   "metadata": {},
   "outputs": [],
   "source": [
    "def first_letter(input_str):\n",
    "    end=input_str.partition('{')[2]\n",
    "    return end"
   ]
  },
  {
   "cell_type": "code",
   "execution_count": 6,
   "id": "71fce6c9",
   "metadata": {},
   "outputs": [],
   "source": [
    "def first_kow_letter(input_str):\n",
    "    end=input_str.partition(\"'\")[2]\n",
    "    return end"
   ]
  },
  {
   "cell_type": "code",
   "execution_count": 7,
   "id": "1c43a54d",
   "metadata": {},
   "outputs": [],
   "source": [
    "def one_kow_letter(input_str):\n",
    "    end=input_str.partition(\"'\")[0]\n",
    "    return end"
   ]
  },
  {
   "cell_type": "code",
   "execution_count": 8,
   "id": "4242d228",
   "metadata": {},
   "outputs": [],
   "source": [
    "def one_letter(input_str):\n",
    "    end=input_str.partition('}')[2]\n",
    "    return end"
   ]
  },
  {
   "cell_type": "code",
   "execution_count": 9,
   "id": "901e56c1",
   "metadata": {},
   "outputs": [],
   "source": [
    "def one_letter_dvac(input_str):\n",
    "    end=input_str.partition(':')[2]\n",
    "    return end"
   ]
  },
  {
   "cell_type": "code",
   "execution_count": 10,
   "id": "25af0cf3",
   "metadata": {},
   "outputs": [],
   "source": [
    "def one_starr_letter(input_str):\n",
    "    end=input_str.partition('}')[0]\n",
    "    return end"
   ]
  },
  {
   "cell_type": "code",
   "execution_count": 11,
   "id": "66c9e233",
   "metadata": {},
   "outputs": [],
   "source": [
    "def fist_letter(input_str):\n",
    "    end=input_str.partition('{')[0]\n",
    "    return end"
   ]
  },
  {
   "cell_type": "code",
   "execution_count": 12,
   "id": "49714f35",
   "metadata": {},
   "outputs": [],
   "source": [
    "def zip_star_letter(input_str):\n",
    "    end=input_str.partition(',')[0]\n",
    "    return end"
   ]
  },
  {
   "cell_type": "code",
   "execution_count": 13,
   "id": "b27f5418",
   "metadata": {},
   "outputs": [],
   "source": [
    "def zip_fish_letter(input_str):\n",
    "    end=input_str.partition(',')[2]\n",
    "    return end"
   ]
  },
  {
   "cell_type": "code",
   "execution_count": 14,
   "id": "f4bd98cd",
   "metadata": {},
   "outputs": [],
   "source": [
    "data['data']=data['refs'].apply(first_letter)\n",
    "data['refs']=data['refs'].apply(fist_letter)\n",
    "data['data_1']=data['data'].apply(one_letter)\n",
    "data['day']=data['data'].apply(zip_star_letter)\n",
    "data[\"day\"]=data[\"day\"].apply(one_letter_dvac)"
   ]
  },
  {
   "cell_type": "code",
   "execution_count": 15,
   "id": "0cd08a96",
   "metadata": {},
   "outputs": [],
   "source": [
    "data['data_3']=data['data'].apply(zip_fish_letter)\n",
    "data['month']=data['data_3'].apply(zip_star_letter)\n",
    "data[\"month\"]=data[\"month\"].apply(one_letter_dvac)\n",
    "data['data_5']=data['data_3'].apply(zip_fish_letter)\n",
    "data['time']=data['data_5'].apply(one_starr_letter)\n",
    "data[\"time\"]=data[\"time\"].apply(one_letter_dvac)\n",
    "data[\"time\"]=data[\"time\"].apply(first_kow_letter)\n",
    "data[\"time\"]=data[\"time\"].apply(one_kow_letter)"
   ]
  },
  {
   "cell_type": "code",
   "execution_count": 16,
   "id": "3499748b",
   "metadata": {},
   "outputs": [],
   "source": [
    "data[\"data_6\"]=data[\"data_1\"].apply(first_letter)\n",
    "data[\"rating\"]=data[\"data_6\"].apply(zip_star_letter)\n",
    "data[\"rating\"]=data[\"rating\"].apply(one_letter_dvac)"
   ]
  },
  {
   "cell_type": "code",
   "execution_count": 17,
   "id": "15d7c926",
   "metadata": {},
   "outputs": [],
   "source": [
    "data[\"views\"]=data[\"data_6\"].apply(zip_fish_letter)\n",
    "data[\"views\"]=data[\"views\"].apply(one_starr_letter)\n",
    "data[\"views\"]=data[\"views\"].apply(one_letter_dvac)"
   ]
  },
  {
   "cell_type": "code",
   "execution_count": 18,
   "id": "b763067a",
   "metadata": {},
   "outputs": [],
   "source": [
    "data=data[[\"rating\",\"day\",\"month\",\"time\",\"views\",\"refs\"]]"
   ]
  },
  {
   "cell_type": "code",
   "execution_count": 19,
   "id": "b94e4764",
   "metadata": {},
   "outputs": [
    {
     "name": "stdout",
     "output_type": "stream",
     "text": [
      "<class 'pandas.core.frame.DataFrame'>\n",
      "RangeIndex: 10 entries, 0 to 9\n",
      "Data columns (total 6 columns):\n",
      " #   Column  Non-Null Count  Dtype \n",
      "---  ------  --------------  ----- \n",
      " 0   rating  10 non-null     object\n",
      " 1   day     10 non-null     object\n",
      " 2   month   10 non-null     object\n",
      " 3   time    10 non-null     object\n",
      " 4   views   10 non-null     object\n",
      " 5   refs    10 non-null     object\n",
      "dtypes: object(6)\n",
      "memory usage: 608.0+ bytes\n"
     ]
    }
   ],
   "source": [
    "data.info()"
   ]
  },
  {
   "cell_type": "code",
   "execution_count": 20,
   "id": "c775d004",
   "metadata": {},
   "outputs": [],
   "source": [
    "def preprocessor(text):\n",
    "    text=re.sub('<[^>]*>', '', text)\n",
    "    emoticons=re.findall('(?::|;|=)(?:-)?(?:\\)|\\(|D|P)', text)\n",
    "    text=re.sub('[\\W]+', ' ', text.lower())+ ' '.join(emoticons).replace('-', '')\n",
    "    return text"
   ]
  },
  {
   "cell_type": "code",
   "execution_count": 21,
   "id": "6e698d37",
   "metadata": {},
   "outputs": [],
   "source": [
    "text=data[[\"rating\",\"day\",\"month\",\"views\",\"refs\"]]\n",
    "text=text.astype('str')"
   ]
  },
  {
   "cell_type": "code",
   "execution_count": 22,
   "id": "6f9f7dc8",
   "metadata": {},
   "outputs": [],
   "source": [
    "for col in text.columns:\n",
    "    text[col]=text[col].apply(preprocessor)"
   ]
  },
  {
   "cell_type": "code",
   "execution_count": 23,
   "id": "c6b235ec",
   "metadata": {},
   "outputs": [],
   "source": [
    "data=pd.concat([text, data[\"time\"]], axis=1)"
   ]
  },
  {
   "cell_type": "code",
   "execution_count": 24,
   "id": "ac81d947",
   "metadata": {},
   "outputs": [],
   "source": [
    "data[\"data\"]=data['day']+  data['month'] + data['time']"
   ]
  },
  {
   "cell_type": "code",
   "execution_count": 25,
   "id": "57f1174a",
   "metadata": {},
   "outputs": [
    {
     "data": {
      "text/html": [
       "<div>\n",
       "<style scoped>\n",
       "    .dataframe tbody tr th:only-of-type {\n",
       "        vertical-align: middle;\n",
       "    }\n",
       "\n",
       "    .dataframe tbody tr th {\n",
       "        vertical-align: top;\n",
       "    }\n",
       "\n",
       "    .dataframe thead th {\n",
       "        text-align: right;\n",
       "    }\n",
       "</style>\n",
       "<table border=\"1\" class=\"dataframe\">\n",
       "  <thead>\n",
       "    <tr style=\"text-align: right;\">\n",
       "      <th></th>\n",
       "      <th>rating</th>\n",
       "      <th>day</th>\n",
       "      <th>month</th>\n",
       "      <th>views</th>\n",
       "      <th>refs</th>\n",
       "      <th>time</th>\n",
       "      <th>data</th>\n",
       "    </tr>\n",
       "  </thead>\n",
       "  <tbody>\n",
       "    <tr>\n",
       "      <th>0</th>\n",
       "      <td>8</td>\n",
       "      <td>25</td>\n",
       "      <td>марта</td>\n",
       "      <td>1900</td>\n",
       "      <td>фонд содействия инновациям проводит приём зая...</td>\n",
       "      <td>15:35</td>\n",
       "      <td>25  марта 15:35</td>\n",
       "    </tr>\n",
       "    <tr>\n",
       "      <th>1</th>\n",
       "      <td>6</td>\n",
       "      <td>8</td>\n",
       "      <td>декабря</td>\n",
       "      <td>2300</td>\n",
       "      <td>7 декабря состоялась церемония награждения ла...</td>\n",
       "      <td>09:30</td>\n",
       "      <td>8  декабря 09:30</td>\n",
       "    </tr>\n",
       "    <tr>\n",
       "      <th>2</th>\n",
       "      <td>12</td>\n",
       "      <td>29</td>\n",
       "      <td>июля</td>\n",
       "      <td>3500</td>\n",
       "      <td>российские власти планируют к концу 2022 года...</td>\n",
       "      <td>11:36</td>\n",
       "      <td>29  июля 11:36</td>\n",
       "    </tr>\n",
       "    <tr>\n",
       "      <th>3</th>\n",
       "      <td>15</td>\n",
       "      <td>4</td>\n",
       "      <td>января</td>\n",
       "      <td>8300</td>\n",
       "      <td>артур хачуян известный российский специалист ...</td>\n",
       "      <td>12:30</td>\n",
       "      <td>4  января 12:30</td>\n",
       "    </tr>\n",
       "    <tr>\n",
       "      <th>4</th>\n",
       "      <td>20</td>\n",
       "      <td>1</td>\n",
       "      <td>мая</td>\n",
       "      <td>12000</td>\n",
       "      <td>как менеджер вы должны заботиться о ваших сот...</td>\n",
       "      <td>10:00</td>\n",
       "      <td>1  мая 10:00</td>\n",
       "    </tr>\n",
       "    <tr>\n",
       "      <th>5</th>\n",
       "      <td>32</td>\n",
       "      <td>30</td>\n",
       "      <td>января</td>\n",
       "      <td>9300</td>\n",
       "      <td>привет хабр представляю вашему вниманию перев...</td>\n",
       "      <td>10:43</td>\n",
       "      <td>30  января 10:43</td>\n",
       "    </tr>\n",
       "    <tr>\n",
       "      <th>6</th>\n",
       "      <td>3</td>\n",
       "      <td>24</td>\n",
       "      <td>апреля</td>\n",
       "      <td>7700</td>\n",
       "      <td>источник n умный человек не делает все ошибки...</td>\n",
       "      <td>12:37</td>\n",
       "      <td>24  апреля 12:37</td>\n",
       "    </tr>\n",
       "    <tr>\n",
       "      <th>7</th>\n",
       "      <td>19</td>\n",
       "      <td>12</td>\n",
       "      <td>октября</td>\n",
       "      <td>9300</td>\n",
       "      <td>привет хабр сегодня мы решили поделиться с со...</td>\n",
       "      <td>14:09</td>\n",
       "      <td>12  октября 14:09</td>\n",
       "    </tr>\n",
       "    <tr>\n",
       "      <th>8</th>\n",
       "      <td>52</td>\n",
       "      <td>4</td>\n",
       "      <td>сентября</td>\n",
       "      <td>52000</td>\n",
       "      <td>привет меня зовут никита бокарев я креативный...</td>\n",
       "      <td>16:44</td>\n",
       "      <td>4  сентября 16:44</td>\n",
       "    </tr>\n",
       "    <tr>\n",
       "      <th>9</th>\n",
       "      <td>5</td>\n",
       "      <td>5</td>\n",
       "      <td>июня</td>\n",
       "      <td>58000</td>\n",
       "      <td>компетентностая модель это попытка создания н...</td>\n",
       "      <td>06:21</td>\n",
       "      <td>5  июня 06:21</td>\n",
       "    </tr>\n",
       "  </tbody>\n",
       "</table>\n",
       "</div>"
      ],
      "text/plain": [
       "  rating   day       month   views  \\\n",
       "0      8   25       марта     1900   \n",
       "1      6    8     декабря     2300   \n",
       "2     12   29        июля     3500   \n",
       "3     15    4      января     8300   \n",
       "4     20    1         мая    12000   \n",
       "5     32   30      января     9300   \n",
       "6      3   24      апреля     7700   \n",
       "7     19   12     октября     9300   \n",
       "8     52    4    сентября    52000   \n",
       "9      5    5        июня    58000   \n",
       "\n",
       "                                                refs   time  \\\n",
       "0   фонд содействия инновациям проводит приём зая...  15:35   \n",
       "1   7 декабря состоялась церемония награждения ла...  09:30   \n",
       "2   российские власти планируют к концу 2022 года...  11:36   \n",
       "3   артур хачуян известный российский специалист ...  12:30   \n",
       "4   как менеджер вы должны заботиться о ваших сот...  10:00   \n",
       "5   привет хабр представляю вашему вниманию перев...  10:43   \n",
       "6   источник n умный человек не делает все ошибки...  12:37   \n",
       "7   привет хабр сегодня мы решили поделиться с со...  14:09   \n",
       "8   привет меня зовут никита бокарев я креативный...  16:44   \n",
       "9   компетентностая модель это попытка создания н...  06:21   \n",
       "\n",
       "                 data  \n",
       "0     25  марта 15:35  \n",
       "1    8  декабря 09:30  \n",
       "2      29  июля 11:36  \n",
       "3     4  января 12:30  \n",
       "4        1  мая 10:00  \n",
       "5    30  января 10:43  \n",
       "6    24  апреля 12:37  \n",
       "7   12  октября 14:09  \n",
       "8   4  сентября 16:44  \n",
       "9       5  июня 06:21  "
      ]
     },
     "execution_count": 25,
     "metadata": {},
     "output_type": "execute_result"
    }
   ],
   "source": [
    "data"
   ]
  },
  {
   "cell_type": "markdown",
   "id": "bde995c6",
   "metadata": {},
   "source": [
    "*Парсинг данных из документа Word, содеражащий название компаний.*"
   ]
  },
  {
   "cell_type": "code",
   "execution_count": 26,
   "id": "5153f6c3",
   "metadata": {},
   "outputs": [],
   "source": [
    "doc = docx.Document('data/Condidates.docx')"
   ]
  },
  {
   "cell_type": "code",
   "execution_count": 27,
   "id": "cd086287",
   "metadata": {},
   "outputs": [],
   "source": [
    "text = []\n",
    "for paragraph in doc.paragraphs:\n",
    "    text.append(paragraph.text)"
   ]
  },
  {
   "cell_type": "code",
   "execution_count": 28,
   "id": "282947e7",
   "metadata": {},
   "outputs": [],
   "source": [
    "text=pd.DataFrame(text)\n",
    "text=text[1:23]"
   ]
  },
  {
   "cell_type": "code",
   "execution_count": 29,
   "id": "97da743e",
   "metadata": {},
   "outputs": [],
   "source": [
    "text[\"name\"]=text"
   ]
  },
  {
   "cell_type": "code",
   "execution_count": 30,
   "id": "2b40f2f4",
   "metadata": {},
   "outputs": [],
   "source": [
    "del text[0]"
   ]
  },
  {
   "cell_type": "code",
   "execution_count": 31,
   "id": "6f51d5bb",
   "metadata": {},
   "outputs": [],
   "source": [
    "data=pd.concat([text, data], axis=1)"
   ]
  },
  {
   "cell_type": "code",
   "execution_count": 32,
   "id": "6334bd56",
   "metadata": {},
   "outputs": [],
   "source": [
    "data=data[:-1]"
   ]
  },
  {
   "cell_type": "code",
   "execution_count": 33,
   "id": "81fd8f47",
   "metadata": {},
   "outputs": [
    {
     "data": {
      "text/html": [
       "<div>\n",
       "<style scoped>\n",
       "    .dataframe tbody tr th:only-of-type {\n",
       "        vertical-align: middle;\n",
       "    }\n",
       "\n",
       "    .dataframe tbody tr th {\n",
       "        vertical-align: top;\n",
       "    }\n",
       "\n",
       "    .dataframe thead th {\n",
       "        text-align: right;\n",
       "    }\n",
       "</style>\n",
       "<table border=\"1\" class=\"dataframe\">\n",
       "  <thead>\n",
       "    <tr style=\"text-align: right;\">\n",
       "      <th></th>\n",
       "      <th>name</th>\n",
       "      <th>rating</th>\n",
       "      <th>day</th>\n",
       "      <th>month</th>\n",
       "      <th>views</th>\n",
       "      <th>refs</th>\n",
       "      <th>time</th>\n",
       "      <th>data</th>\n",
       "    </tr>\n",
       "  </thead>\n",
       "  <tbody>\n",
       "    <tr>\n",
       "      <th>1</th>\n",
       "      <td>Здоровье.ру</td>\n",
       "      <td>6</td>\n",
       "      <td>8</td>\n",
       "      <td>декабря</td>\n",
       "      <td>2300</td>\n",
       "      <td>7 декабря состоялась церемония награждения ла...</td>\n",
       "      <td>09:30</td>\n",
       "      <td>8  декабря 09:30</td>\n",
       "    </tr>\n",
       "    <tr>\n",
       "      <th>2</th>\n",
       "      <td>Проект по использованию технологий компьютерно...</td>\n",
       "      <td>12</td>\n",
       "      <td>29</td>\n",
       "      <td>июля</td>\n",
       "      <td>3500</td>\n",
       "      <td>российские власти планируют к концу 2022 года...</td>\n",
       "      <td>11:36</td>\n",
       "      <td>29  июля 11:36</td>\n",
       "    </tr>\n",
       "    <tr>\n",
       "      <th>3</th>\n",
       "      <td>Skillbox</td>\n",
       "      <td>15</td>\n",
       "      <td>4</td>\n",
       "      <td>января</td>\n",
       "      <td>8300</td>\n",
       "      <td>артур хачуян известный российский специалист ...</td>\n",
       "      <td>12:30</td>\n",
       "      <td>4  января 12:30</td>\n",
       "    </tr>\n",
       "    <tr>\n",
       "      <th>4</th>\n",
       "      <td>Gett</td>\n",
       "      <td>20</td>\n",
       "      <td>1</td>\n",
       "      <td>мая</td>\n",
       "      <td>12000</td>\n",
       "      <td>как менеджер вы должны заботиться о ваших сот...</td>\n",
       "      <td>10:00</td>\n",
       "      <td>1  мая 10:00</td>\n",
       "    </tr>\n",
       "    <tr>\n",
       "      <th>5</th>\n",
       "      <td>Промобот</td>\n",
       "      <td>32</td>\n",
       "      <td>30</td>\n",
       "      <td>января</td>\n",
       "      <td>9300</td>\n",
       "      <td>привет хабр представляю вашему вниманию перев...</td>\n",
       "      <td>10:43</td>\n",
       "      <td>30  января 10:43</td>\n",
       "    </tr>\n",
       "  </tbody>\n",
       "</table>\n",
       "</div>"
      ],
      "text/plain": [
       "                                                name rating   day      month  \\\n",
       "1                                        Здоровье.ру      6    8    декабря    \n",
       "2  Проект по использованию технологий компьютерно...     12   29       июля    \n",
       "3                                          Skillbox      15    4     января    \n",
       "4                                               Gett     20    1        мая    \n",
       "5                                           Промобот     32   30     января    \n",
       "\n",
       "    views                                               refs   time  \\\n",
       "1    2300   7 декабря состоялась церемония награждения ла...  09:30   \n",
       "2    3500   российские власти планируют к концу 2022 года...  11:36   \n",
       "3    8300   артур хачуян известный российский специалист ...  12:30   \n",
       "4   12000   как менеджер вы должны заботиться о ваших сот...  10:00   \n",
       "5    9300   привет хабр представляю вашему вниманию перев...  10:43   \n",
       "\n",
       "                data  \n",
       "1   8  декабря 09:30  \n",
       "2     29  июля 11:36  \n",
       "3    4  января 12:30  \n",
       "4       1  мая 10:00  \n",
       "5   30  января 10:43  "
      ]
     },
     "execution_count": 33,
     "metadata": {},
     "output_type": "execute_result"
    }
   ],
   "source": [
    "data.head(5)"
   ]
  },
  {
   "cell_type": "markdown",
   "id": "a1a66ece",
   "metadata": {},
   "source": [
    "*Теперь необходимо собрать данные из сайта habr.com, в котором хранятся статьи связанные с информационными технологиями, бизнесом и интернетом для того, что бы данные увеличились в размере, тогда прогнозирование будет сделано более качественно.А также поместить их в один dataframe, для того, что бы в дальнейшем было удобнее работать.*"
   ]
  },
  {
   "cell_type": "code",
   "execution_count": 34,
   "id": "1452b1a2",
   "metadata": {},
   "outputs": [],
   "source": [
    "areas_urls_list = []\n",
    "date=[]\n",
    "areas_urls_list_2 = []\n",
    "for i in range(1, 51):\n",
    "    url = f\"https://habr.com/ru/all/page{i}\"\n",
    "    rec=requests.get(url)\n",
    "    result=rec.content\n",
    "    soup = BeautifulSoup(result, 'lxml')\n",
    "    for tag_3 in soup.find_all(\"span\", {'class':'tm-article-datetime-published'}):\n",
    "        datetime = tag_3.find('time')\n",
    "        film_list_3 = datetime.get('datetime')\n",
    "        date.append(film_list_3)\n",
    "    for tag in soup.find_all(\"a\", {'class':'tm-title__link'}):\n",
    "        area_info = tag.get(\"href\")\n",
    "        areas_urls_list.append(\"https://habr.com\"+area_info)"
   ]
  },
  {
   "cell_type": "code",
   "execution_count": 35,
   "id": "4d7b4a81",
   "metadata": {},
   "outputs": [],
   "source": [
    "areas_urls_list_2 = []\n",
    "rating = []\n",
    "text_states=[]\n",
    "for item in areas_urls_list[:30]:\n",
    "    url_2 = item\n",
    "    rec_2=requests.get(url_2)\n",
    "    result_2=rec_2.content\n",
    "    soup_2 = BeautifulSoup(result_2, 'lxml')\n",
    "    for tag_4 in soup_2.find_all(\"span\", {'class':'tm-votes-lever__score-counter tm-votes-lever__score-counter tm-votes-lever__score-counter_rating'}):\n",
    "        rating.append(tag_4)\n",
    "   # for tag_6 in soup_2.find_all(\"div\", {'class':'tm-article-presenter'}):\n",
    "        #dey_2 = tag_6.find('a')\n",
    "       # url_3 = dey_2.get(\"title\")\n",
    "       # name.append(url_3)\n",
    "    for tag_5 in soup_2.find_all(\"div\", {'class':'tm-article-presenter'}):\n",
    "        url_5=tag_5.find(\"a\")\n",
    "        url_6 = url_5.get(\"href\")\n",
    "        areas_urls_list_2.append(\"https://habr.com\"+url_6)\n",
    "    for tag_7 in soup_2.find_all(\"div\", {'class':'article-formatted-body article-formatted-body article-formatted-body_version-2'}):\n",
    "        url_7=tag_7.find(\"p\")\n",
    "        text_states.append(url_7)\n"
   ]
  },
  {
   "cell_type": "code",
   "execution_count": 36,
   "id": "1c9f0bd6",
   "metadata": {},
   "outputs": [],
   "source": [
    "name = []\n",
    "href_add=[]\n",
    "rating = []\n",
    "for i in range(1, 18):\n",
    "    url_4 = f\"https://habr.com/ru/companies/page{i}\"\n",
    "    rec_4=requests.get(url_4)\n",
    "    result_4=rec_4.content\n",
    "    soup_4 = BeautifulSoup(result_4, 'lxml')\n",
    "    for tag_11 in soup_4.find_all(\"div\", {'class':'tm-company-snippet__info'}):\n",
    "        tag_12=tag_11.find_all(\"a\", {'class':'tm-company-snippet__title'})\n",
    "        name.append(tag_12)\n",
    "    for tag_4 in soup_2.find_all(\"span\", {'class':'tm-votes-lever__score-counter tm-votes-lever__score-counter tm-votes-lever__score-counter_rating'}):\n",
    "        rating.append(tag_4)\n",
    "    for tag_20 in soup_4.find_all(\"a\", {'class':'tm-company-snippet__title'}):\n",
    "        href = tag_20.get(\"href\")\n",
    "        href_add.append(\"https://habr.com\"+href)\n",
    "    "
   ]
  },
  {
   "cell_type": "code",
   "execution_count": 37,
   "id": "5715469d",
   "metadata": {},
   "outputs": [],
   "source": [
    "description=[]\n",
    "activity=[]\n",
    "for item in href_add:\n",
    "    url_8 = item\n",
    "    rec_8=requests.get(url_8)\n",
    "    result_8=rec_8.content\n",
    "    soup_8 = BeautifulSoup(result_8, 'lxml')\n",
    "    for tag_4 in soup_8.find_all(\"div\", {'class':'tm-company-profile__categories'}):\n",
    "        tag_5=tag_4.find(\"span\")\n",
    "        tag_15=tag_5.find(\"a\")\n",
    "        activity.append(tag_15)\n",
    "    for tag_7 in soup_8.find_all(\"span\", {'class':'tm-company-profile__content'}):\n",
    "        description.append(tag_7)"
   ]
  },
  {
   "cell_type": "code",
   "execution_count": 38,
   "id": "10838ac9",
   "metadata": {
    "scrolled": true
   },
   "outputs": [
    {
     "name": "stderr",
     "output_type": "stream",
     "text": [
      "C:\\Users\\blend\\anaconda3\\lib\\site-packages\\pandas\\core\\internals\\construction.py:576: VisibleDeprecationWarning: Creating an ndarray from ragged nested sequences (which is a list-or-tuple of lists-or-tuples-or ndarrays with different lengths or shapes) is deprecated. If you meant to do this, you must specify 'dtype=object' when creating the ndarray.\n",
      "  values = np.array([convert(v) for v in values])\n"
     ]
    }
   ],
   "source": [
    "date=pd.DataFrame(date)\n",
    "rating=pd.DataFrame(rating)\n",
    "activity=pd.DataFrame(activity)\n",
    "description=pd.DataFrame(description)\n",
    "name=pd.DataFrame(name)\n",
    "text_states=pd.DataFrame(text_states)"
   ]
  },
  {
   "cell_type": "code",
   "execution_count": 39,
   "id": "6c2cf4b0",
   "metadata": {},
   "outputs": [],
   "source": [
    "data_2= pd.concat([date, rating, activity, description, name, text_states], axis=1)"
   ]
  },
  {
   "cell_type": "code",
   "execution_count": 40,
   "id": "1dad032d",
   "metadata": {},
   "outputs": [
    {
     "data": {
      "text/html": [
       "<div>\n",
       "<style scoped>\n",
       "    .dataframe tbody tr th:only-of-type {\n",
       "        vertical-align: middle;\n",
       "    }\n",
       "\n",
       "    .dataframe tbody tr th {\n",
       "        vertical-align: top;\n",
       "    }\n",
       "\n",
       "    .dataframe thead th {\n",
       "        text-align: right;\n",
       "    }\n",
       "</style>\n",
       "<table border=\"1\" class=\"dataframe\">\n",
       "  <thead>\n",
       "    <tr style=\"text-align: right;\">\n",
       "      <th></th>\n",
       "      <th>0</th>\n",
       "      <th>0</th>\n",
       "      <th>0</th>\n",
       "      <th>0</th>\n",
       "      <th>0</th>\n",
       "      <th>0</th>\n",
       "    </tr>\n",
       "  </thead>\n",
       "  <tbody>\n",
       "    <tr>\n",
       "      <th>0</th>\n",
       "      <td>2023-05-19T16:59:55.000Z</td>\n",
       "      <td>\\n        6.1\\n</td>\n",
       "      <td>\\n              Связь и телекоммуникации\\n    ...</td>\n",
       "      <td>[Международный облачный провайдер , [RUVDS],  ...</td>\n",
       "      <td>[RUVDS.com]</td>\n",
       "      <td>[[Дисклеймер: Не повторяйте в домашних условия...</td>\n",
       "    </tr>\n",
       "    <tr>\n",
       "      <th>1</th>\n",
       "      <td>2023-05-19T16:20:33.000Z</td>\n",
       "      <td>\\n        6.1\\n</td>\n",
       "      <td>\\n              Аппаратное обеспечение\\n      ...</td>\n",
       "      <td>[[Selectel],  — ведущий в России провайдер обл...</td>\n",
       "      <td>[Selectel]</td>\n",
       "      <td>[Продолжаю цикл статей по разработке ETL-проце...</td>\n",
       "    </tr>\n",
       "    <tr>\n",
       "      <th>2</th>\n",
       "      <td>2023-05-19T16:13:11.000Z</td>\n",
       "      <td>\\n        6.1\\n</td>\n",
       "      <td>\\n              Веб-разработка\\n</td>\n",
       "      <td>[[ Timeweb Cloud ],  — облачный сервис, сочета...</td>\n",
       "      <td>[Timeweb Cloud]</td>\n",
       "      <td>[Давно интересовался как можно объединить микр...</td>\n",
       "    </tr>\n",
       "    <tr>\n",
       "      <th>3</th>\n",
       "      <td>2023-05-19T16:00:01.000Z</td>\n",
       "      <td>\\n        6.1\\n</td>\n",
       "      <td>\\n              Консалтинг и поддержка\\n      ...</td>\n",
       "      <td>[OTUS – сообщество профессионалов, которые пом...</td>\n",
       "      <td>[OTUS]</td>\n",
       "      <td>[Сингапур известен своей развитой экономикой и...</td>\n",
       "    </tr>\n",
       "    <tr>\n",
       "      <th>4</th>\n",
       "      <td>2023-05-19T15:03:46.000Z</td>\n",
       "      <td>\\n        6.1\\n</td>\n",
       "      <td>\\n              Связь и телекоммуникации\\n    ...</td>\n",
       "      <td>[Размещаем сайты клиентов на виртуальных и выд...</td>\n",
       "      <td>[FirstVDS]</td>\n",
       "      <td>[Друзья, продолжаем публиковать решения нашего...</td>\n",
       "    </tr>\n",
       "    <tr>\n",
       "      <th>...</th>\n",
       "      <td>...</td>\n",
       "      <td>...</td>\n",
       "      <td>...</td>\n",
       "      <td>...</td>\n",
       "      <td>...</td>\n",
       "      <td>...</td>\n",
       "    </tr>\n",
       "    <tr>\n",
       "      <th>995</th>\n",
       "      <td>2023-04-30T13:15:42.000Z</td>\n",
       "      <td>NaN</td>\n",
       "      <td>NaN</td>\n",
       "      <td>NaN</td>\n",
       "      <td>NaN</td>\n",
       "      <td>NaN</td>\n",
       "    </tr>\n",
       "    <tr>\n",
       "      <th>996</th>\n",
       "      <td>2023-04-30T12:36:03.000Z</td>\n",
       "      <td>NaN</td>\n",
       "      <td>NaN</td>\n",
       "      <td>NaN</td>\n",
       "      <td>NaN</td>\n",
       "      <td>NaN</td>\n",
       "    </tr>\n",
       "    <tr>\n",
       "      <th>997</th>\n",
       "      <td>2023-04-30T12:27:09.000Z</td>\n",
       "      <td>NaN</td>\n",
       "      <td>NaN</td>\n",
       "      <td>NaN</td>\n",
       "      <td>NaN</td>\n",
       "      <td>NaN</td>\n",
       "    </tr>\n",
       "    <tr>\n",
       "      <th>998</th>\n",
       "      <td>2023-04-30T12:19:05.000Z</td>\n",
       "      <td>NaN</td>\n",
       "      <td>NaN</td>\n",
       "      <td>NaN</td>\n",
       "      <td>NaN</td>\n",
       "      <td>NaN</td>\n",
       "    </tr>\n",
       "    <tr>\n",
       "      <th>999</th>\n",
       "      <td>2023-04-30T10:59:26.000Z</td>\n",
       "      <td>NaN</td>\n",
       "      <td>NaN</td>\n",
       "      <td>NaN</td>\n",
       "      <td>NaN</td>\n",
       "      <td>NaN</td>\n",
       "    </tr>\n",
       "  </tbody>\n",
       "</table>\n",
       "<p>1000 rows × 6 columns</p>\n",
       "</div>"
      ],
      "text/plain": [
       "                            0                      0  \\\n",
       "0    2023-05-19T16:59:55.000Z  \\n        6.1\\n         \n",
       "1    2023-05-19T16:20:33.000Z  \\n        6.1\\n         \n",
       "2    2023-05-19T16:13:11.000Z  \\n        6.1\\n         \n",
       "3    2023-05-19T16:00:01.000Z  \\n        6.1\\n         \n",
       "4    2023-05-19T15:03:46.000Z  \\n        6.1\\n         \n",
       "..                        ...                    ...   \n",
       "995  2023-04-30T13:15:42.000Z                    NaN   \n",
       "996  2023-04-30T12:36:03.000Z                    NaN   \n",
       "997  2023-04-30T12:27:09.000Z                    NaN   \n",
       "998  2023-04-30T12:19:05.000Z                    NaN   \n",
       "999  2023-04-30T10:59:26.000Z                    NaN   \n",
       "\n",
       "                                                     0  \\\n",
       "0    \\n              Связь и телекоммуникации\\n    ...   \n",
       "1    \\n              Аппаратное обеспечение\\n      ...   \n",
       "2         \\n              Веб-разработка\\n               \n",
       "3    \\n              Консалтинг и поддержка\\n      ...   \n",
       "4    \\n              Связь и телекоммуникации\\n    ...   \n",
       "..                                                 ...   \n",
       "995                                                NaN   \n",
       "996                                                NaN   \n",
       "997                                                NaN   \n",
       "998                                                NaN   \n",
       "999                                                NaN   \n",
       "\n",
       "                                                     0                0  \\\n",
       "0    [Международный облачный провайдер , [RUVDS],  ...      [RUVDS.com]   \n",
       "1    [[Selectel],  — ведущий в России провайдер обл...       [Selectel]   \n",
       "2    [[ Timeweb Cloud ],  — облачный сервис, сочета...  [Timeweb Cloud]   \n",
       "3    [OTUS – сообщество профессионалов, которые пом...           [OTUS]   \n",
       "4    [Размещаем сайты клиентов на виртуальных и выд...       [FirstVDS]   \n",
       "..                                                 ...              ...   \n",
       "995                                                NaN              NaN   \n",
       "996                                                NaN              NaN   \n",
       "997                                                NaN              NaN   \n",
       "998                                                NaN              NaN   \n",
       "999                                                NaN              NaN   \n",
       "\n",
       "                                                     0  \n",
       "0    [[Дисклеймер: Не повторяйте в домашних условия...  \n",
       "1    [Продолжаю цикл статей по разработке ETL-проце...  \n",
       "2    [Давно интересовался как можно объединить микр...  \n",
       "3    [Сингапур известен своей развитой экономикой и...  \n",
       "4    [Друзья, продолжаем публиковать решения нашего...  \n",
       "..                                                 ...  \n",
       "995                                                NaN  \n",
       "996                                                NaN  \n",
       "997                                                NaN  \n",
       "998                                                NaN  \n",
       "999                                                NaN  \n",
       "\n",
       "[1000 rows x 6 columns]"
      ]
     },
     "execution_count": 40,
     "metadata": {},
     "output_type": "execute_result"
    }
   ],
   "source": [
    "data_2"
   ]
  },
  {
   "cell_type": "code",
   "execution_count": 41,
   "id": "a7b46338",
   "metadata": {},
   "outputs": [],
   "source": [
    "data_2.columns = ['date', 'rate', 'activity', 'description','name', 'text_states']"
   ]
  },
  {
   "cell_type": "code",
   "execution_count": 42,
   "id": "0885fea2",
   "metadata": {},
   "outputs": [],
   "source": [
    "def data_2_raiting(input_str):\n",
    "    data_2_end=input_str.partition('\\n')[0]\n",
    "    return data_2_end"
   ]
  },
  {
   "cell_type": "code",
   "execution_count": 43,
   "id": "635caec8",
   "metadata": {},
   "outputs": [],
   "source": [
    "def zip_fish_letter(input_str):\n",
    "    end=input_str.partition('\\n')[2]\n",
    "    return end"
   ]
  },
  {
   "cell_type": "code",
   "execution_count": 44,
   "id": "3249c531",
   "metadata": {},
   "outputs": [],
   "source": [
    "def data_2_raiting_3(input_str):\n",
    "    data_2_end=input_str.partition(']')[0]\n",
    "    return data_2_end"
   ]
  },
  {
   "cell_type": "code",
   "execution_count": 45,
   "id": "74038653",
   "metadata": {},
   "outputs": [],
   "source": [
    "def zip_fish_letter_3(input_str):\n",
    "    end=input_str.partition('[')[2]\n",
    "    return end"
   ]
  },
  {
   "cell_type": "code",
   "execution_count": 46,
   "id": "9fe0f671",
   "metadata": {},
   "outputs": [],
   "source": [
    "data_2=data_2.dropna()"
   ]
  },
  {
   "cell_type": "code",
   "execution_count": 47,
   "id": "759f4e21",
   "metadata": {},
   "outputs": [
    {
     "name": "stderr",
     "output_type": "stream",
     "text": [
      "C:\\Users\\blend\\AppData\\Local\\Temp\\ipykernel_18892\\932187922.py:1: SettingWithCopyWarning: \n",
      "A value is trying to be set on a copy of a slice from a DataFrame.\n",
      "Try using .loc[row_indexer,col_indexer] = value instead\n",
      "\n",
      "See the caveats in the documentation: https://pandas.pydata.org/pandas-docs/stable/user_guide/indexing.html#returning-a-view-versus-a-copy\n",
      "  data_2['rate']=data_2['rate'].apply(zip_fish_letter)\n",
      "C:\\Users\\blend\\AppData\\Local\\Temp\\ipykernel_18892\\932187922.py:2: SettingWithCopyWarning: \n",
      "A value is trying to be set on a copy of a slice from a DataFrame.\n",
      "Try using .loc[row_indexer,col_indexer] = value instead\n",
      "\n",
      "See the caveats in the documentation: https://pandas.pydata.org/pandas-docs/stable/user_guide/indexing.html#returning-a-view-versus-a-copy\n",
      "  data_2['rate']=data_2['rate'].apply(data_2_raiting)\n"
     ]
    }
   ],
   "source": [
    "data_2['rate']=data_2['rate'].apply(zip_fish_letter)\n",
    "data_2['rate']=data_2['rate'].apply(data_2_raiting)"
   ]
  },
  {
   "cell_type": "code",
   "execution_count": 48,
   "id": "d04a700c",
   "metadata": {
    "scrolled": true
   },
   "outputs": [
    {
     "name": "stderr",
     "output_type": "stream",
     "text": [
      "C:\\Users\\blend\\AppData\\Local\\Temp\\ipykernel_18892\\3003769514.py:1: SettingWithCopyWarning: \n",
      "A value is trying to be set on a copy of a slice from a DataFrame.\n",
      "Try using .loc[row_indexer,col_indexer] = value instead\n",
      "\n",
      "See the caveats in the documentation: https://pandas.pydata.org/pandas-docs/stable/user_guide/indexing.html#returning-a-view-versus-a-copy\n",
      "  data_2['activity']=data_2['activity'].apply(zip_fish_letter)\n",
      "C:\\Users\\blend\\AppData\\Local\\Temp\\ipykernel_18892\\3003769514.py:2: SettingWithCopyWarning: \n",
      "A value is trying to be set on a copy of a slice from a DataFrame.\n",
      "Try using .loc[row_indexer,col_indexer] = value instead\n",
      "\n",
      "See the caveats in the documentation: https://pandas.pydata.org/pandas-docs/stable/user_guide/indexing.html#returning-a-view-versus-a-copy\n",
      "  data_2['activity']=data_2['activity'].apply(data_2_raiting)\n"
     ]
    }
   ],
   "source": [
    "data_2['activity']=data_2['activity'].apply(zip_fish_letter)\n",
    "data_2['activity']=data_2['activity'].apply(data_2_raiting)"
   ]
  },
  {
   "cell_type": "code",
   "execution_count": 49,
   "id": "3e53a77c",
   "metadata": {},
   "outputs": [
    {
     "name": "stderr",
     "output_type": "stream",
     "text": [
      "C:\\Users\\blend\\AppData\\Local\\Temp\\ipykernel_18892\\88556880.py:1: SettingWithCopyWarning: \n",
      "A value is trying to be set on a copy of a slice from a DataFrame.\n",
      "Try using .loc[row_indexer,col_indexer] = value instead\n",
      "\n",
      "See the caveats in the documentation: https://pandas.pydata.org/pandas-docs/stable/user_guide/indexing.html#returning-a-view-versus-a-copy\n",
      "  data_2[\"description\"] = pd.DataFrame([str(line).strip('[').strip(']') for line in data_2[\"description\"]])\n",
      "C:\\Users\\blend\\AppData\\Local\\Temp\\ipykernel_18892\\88556880.py:2: SettingWithCopyWarning: \n",
      "A value is trying to be set on a copy of a slice from a DataFrame.\n",
      "Try using .loc[row_indexer,col_indexer] = value instead\n",
      "\n",
      "See the caveats in the documentation: https://pandas.pydata.org/pandas-docs/stable/user_guide/indexing.html#returning-a-view-versus-a-copy\n",
      "  data_2[\"name\"] = pd.DataFrame([str(line).strip('[').strip(']') for line in data_2[\"name\"]])\n",
      "C:\\Users\\blend\\AppData\\Local\\Temp\\ipykernel_18892\\88556880.py:3: SettingWithCopyWarning: \n",
      "A value is trying to be set on a copy of a slice from a DataFrame.\n",
      "Try using .loc[row_indexer,col_indexer] = value instead\n",
      "\n",
      "See the caveats in the documentation: https://pandas.pydata.org/pandas-docs/stable/user_guide/indexing.html#returning-a-view-versus-a-copy\n",
      "  data_2[\"text_states\"] = pd.DataFrame([str(line).strip('[').strip(']') for line in data_2[\"text_states\"]])\n"
     ]
    }
   ],
   "source": [
    "data_2[\"description\"] = pd.DataFrame([str(line).strip('[').strip(']') for line in data_2[\"description\"]])\n",
    "data_2[\"name\"] = pd.DataFrame([str(line).strip('[').strip(']') for line in data_2[\"name\"]])\n",
    "data_2[\"text_states\"] = pd.DataFrame([str(line).strip('[').strip(']') for line in data_2[\"text_states\"]])"
   ]
  },
  {
   "cell_type": "code",
   "execution_count": 50,
   "id": "4ace8480",
   "metadata": {},
   "outputs": [],
   "source": [
    "def preprocessor(text):\n",
    "    text=re.sub('<[^>]*>', '', text)\n",
    "    emoticons=re.findall('(?::|;|=)(?:-)?(?:\\)|\\(|D|P)', text)\n",
    "    text=re.sub('[\\W]+', ' ', text.lower())+ ' '.join(emoticons).replace('-', '')\n",
    "    return text"
   ]
  },
  {
   "cell_type": "code",
   "execution_count": 51,
   "id": "dc11a770",
   "metadata": {},
   "outputs": [],
   "source": [
    "data_2=data_2.astype('str')"
   ]
  },
  {
   "cell_type": "code",
   "execution_count": 52,
   "id": "99d2a577",
   "metadata": {},
   "outputs": [],
   "source": [
    "for col in data_2.columns:\n",
    "    data_2[col]=data_2[col].apply(preprocessor)"
   ]
  },
  {
   "cell_type": "code",
   "execution_count": 53,
   "id": "986574e3",
   "metadata": {},
   "outputs": [
    {
     "data": {
      "text/html": [
       "<div>\n",
       "<style scoped>\n",
       "    .dataframe tbody tr th:only-of-type {\n",
       "        vertical-align: middle;\n",
       "    }\n",
       "\n",
       "    .dataframe tbody tr th {\n",
       "        vertical-align: top;\n",
       "    }\n",
       "\n",
       "    .dataframe thead th {\n",
       "        text-align: right;\n",
       "    }\n",
       "</style>\n",
       "<table border=\"1\" class=\"dataframe\">\n",
       "  <thead>\n",
       "    <tr style=\"text-align: right;\">\n",
       "      <th></th>\n",
       "      <th>date</th>\n",
       "      <th>rate</th>\n",
       "      <th>activity</th>\n",
       "      <th>description</th>\n",
       "      <th>name</th>\n",
       "      <th>text_states</th>\n",
       "    </tr>\n",
       "  </thead>\n",
       "  <tbody>\n",
       "    <tr>\n",
       "      <th>0</th>\n",
       "      <td>2023 05 19t16 59 55 000z</td>\n",
       "      <td>6 1</td>\n",
       "      <td>связь и телекоммуникации</td>\n",
       "      <td>международный облачный провайдер ruvds предлаг...</td>\n",
       "      <td>ruvds com</td>\n",
       "      <td>дисклеймер не повторяйте в домашних условиях с...</td>\n",
       "    </tr>\n",
       "    <tr>\n",
       "      <th>1</th>\n",
       "      <td>2023 05 19t16 20 33 000z</td>\n",
       "      <td>6 1</td>\n",
       "      <td>аппаратное обеспечение</td>\n",
       "      <td>selectel ведущий в россии провайдер облачной и...</td>\n",
       "      <td>selectel</td>\n",
       "      <td>продолжаю цикл статей по разработке etl процес...</td>\n",
       "    </tr>\n",
       "    <tr>\n",
       "      <th>2</th>\n",
       "      <td>2023 05 19t16 13 11 000z</td>\n",
       "      <td>6 1</td>\n",
       "      <td>веб разработка</td>\n",
       "      <td>timeweb cloud облачный сервис сочетающий масс...</td>\n",
       "      <td>timeweb cloud</td>\n",
       "      <td>давно интересовался как можно объединить микро...</td>\n",
       "    </tr>\n",
       "    <tr>\n",
       "      <th>3</th>\n",
       "      <td>2023 05 19t16 00 01 000z</td>\n",
       "      <td>6 1</td>\n",
       "      <td>консалтинг и поддержка</td>\n",
       "      <td>otus сообщество профессионалов которые помогут...</td>\n",
       "      <td>otus</td>\n",
       "      <td>сингапур известен своей развитой экономикой и ...</td>\n",
       "    </tr>\n",
       "    <tr>\n",
       "      <th>4</th>\n",
       "      <td>2023 05 19t15 03 46 000z</td>\n",
       "      <td>6 1</td>\n",
       "      <td>связь и телекоммуникации</td>\n",
       "      <td>размещаем сайты клиентов на виртуальных и выде...</td>\n",
       "      <td>firstvds</td>\n",
       "      <td>друзья продолжаем публиковать решения нашего c...</td>\n",
       "    </tr>\n",
       "    <tr>\n",
       "      <th>5</th>\n",
       "      <td>2023 05 19t15 00 33 000z</td>\n",
       "      <td>6 1</td>\n",
       "      <td>мобильные технологии</td>\n",
       "      <td>строим сервисы используя силу социальных сетей...</td>\n",
       "      <td>vk</td>\n",
       "      <td>инновации не имеют никакого значения без их ус...</td>\n",
       "    </tr>\n",
       "    <tr>\n",
       "      <th>6</th>\n",
       "      <td>2023 05 19t14 32 21 000z</td>\n",
       "      <td>6 1</td>\n",
       "      <td>программное обеспечение</td>\n",
       "      <td>сбер крупнейший банк в россии поставщик надёжн...</td>\n",
       "      <td>сбер</td>\n",
       "      <td>если вы занимаетесь программированием на flutt...</td>\n",
       "    </tr>\n",
       "    <tr>\n",
       "      <th>7</th>\n",
       "      <td>2023 05 19t14 18 45 000z</td>\n",
       "      <td>6 1</td>\n",
       "      <td>поисковые технологии</td>\n",
       "      <td>яндекс технологическая компания в основе наших...</td>\n",
       "      <td>яндекс</td>\n",
       "      <td>всем привет меня зовут евгений мальченко я раз...</td>\n",
       "    </tr>\n",
       "    <tr>\n",
       "      <th>8</th>\n",
       "      <td>2023 05 19t14 06 02 000z</td>\n",
       "      <td>6 1</td>\n",
       "      <td>программное обеспечение</td>\n",
       "      <td>группа компаний ланит ланит лаборатория новых ...</td>\n",
       "      <td>гк ланит</td>\n",
       "      <td>контекстная реклама пожалуй наиболее очевидный...</td>\n",
       "    </tr>\n",
       "    <tr>\n",
       "      <th>9</th>\n",
       "      <td>2023 05 19t14 01 01 000z</td>\n",
       "      <td>6 1</td>\n",
       "      <td>аппаратное обеспечение</td>\n",
       "      <td>мы с вами являемся свидетелями настоящей револ...</td>\n",
       "      <td>lamptest</td>\n",
       "      <td>всем привет меня зовут евгений мальченко я раз...</td>\n",
       "    </tr>\n",
       "    <tr>\n",
       "      <th>10</th>\n",
       "      <td>2023 05 19t13 59 01 000z</td>\n",
       "      <td>6 1</td>\n",
       "      <td>веб разработка</td>\n",
       "      <td>команда онтико создаёт пространства для обмена...</td>\n",
       "      <td>конференции олега бунина онтико</td>\n",
       "      <td>первоначально python как язык с динамической т...</td>\n",
       "    </tr>\n",
       "    <tr>\n",
       "      <th>11</th>\n",
       "      <td>2023 05 19t13 58 13 000z</td>\n",
       "      <td>6 1</td>\n",
       "      <td>рекрутинг и hr</td>\n",
       "      <td>getmatch онлайн сервис для поиска работы в it ...</td>\n",
       "      <td>getmatch</td>\n",
       "      <td>всем привет я артем семенов занимаюсь тестиров...</td>\n",
       "    </tr>\n",
       "    <tr>\n",
       "      <th>12</th>\n",
       "      <td>2023 05 19t13 37 01 000z</td>\n",
       "      <td>6 1</td>\n",
       "      <td>программное обеспечение</td>\n",
       "      <td>sberdevices компания экосистемы сбера центр эк...</td>\n",
       "      <td>sberdevices</td>\n",
       "      <td>с момента своего первого релиза в 2015 году re...</td>\n",
       "    </tr>\n",
       "    <tr>\n",
       "      <th>13</th>\n",
       "      <td>2023 05 19t13 23 45 000z</td>\n",
       "      <td>6 1</td>\n",
       "      <td>программное обеспечение</td>\n",
       "      <td>лаборатория касперского крупнейшая в мире час...</td>\n",
       "      <td>лаборатория касперского</td>\n",
       "      <td>особый подход использования графов при рассмот...</td>\n",
       "    </tr>\n",
       "    <tr>\n",
       "      <th>14</th>\n",
       "      <td>2023 05 19t13 16 52 000z</td>\n",
       "      <td>6 1</td>\n",
       "      <td>программное обеспечение</td>\n",
       "      <td>мы делаем конференции и митапы для программист...</td>\n",
       "      <td>jug ru group</td>\n",
       "      <td>кристина курдюмова ментор продактов product ma...</td>\n",
       "    </tr>\n",
       "    <tr>\n",
       "      <th>15</th>\n",
       "      <td>2023 05 19t13 15 23 000z</td>\n",
       "      <td>6 1</td>\n",
       "      <td>дизайн и юзабилити</td>\n",
       "      <td>alfa digital it подразделение альфа банка кома...</td>\n",
       "      <td>альфа банк</td>\n",
       "      <td>привет у sm lab есть ключевой заказчик как вы ...</td>\n",
       "    </tr>\n",
       "    <tr>\n",
       "      <th>16</th>\n",
       "      <td>2023 05 19t13 13 28 000z</td>\n",
       "      <td>6 1</td>\n",
       "      <td>программное обеспечение</td>\n",
       "      <td>наши разработчики продакт менеджеры аналитики ...</td>\n",
       "      <td>tinkoff</td>\n",
       "      <td>джеффри александр мур консультант по управлени...</td>\n",
       "    </tr>\n",
       "  </tbody>\n",
       "</table>\n",
       "</div>"
      ],
      "text/plain": [
       "                        date  rate                   activity  \\\n",
       "0   2023 05 19t16 59 55 000z   6 1   связь и телекоммуникации   \n",
       "1   2023 05 19t16 20 33 000z   6 1     аппаратное обеспечение   \n",
       "2   2023 05 19t16 13 11 000z   6 1             веб разработка   \n",
       "3   2023 05 19t16 00 01 000z   6 1     консалтинг и поддержка   \n",
       "4   2023 05 19t15 03 46 000z   6 1   связь и телекоммуникации   \n",
       "5   2023 05 19t15 00 33 000z   6 1       мобильные технологии   \n",
       "6   2023 05 19t14 32 21 000z   6 1    программное обеспечение   \n",
       "7   2023 05 19t14 18 45 000z   6 1       поисковые технологии   \n",
       "8   2023 05 19t14 06 02 000z   6 1    программное обеспечение   \n",
       "9   2023 05 19t14 01 01 000z   6 1     аппаратное обеспечение   \n",
       "10  2023 05 19t13 59 01 000z   6 1             веб разработка   \n",
       "11  2023 05 19t13 58 13 000z   6 1             рекрутинг и hr   \n",
       "12  2023 05 19t13 37 01 000z   6 1    программное обеспечение   \n",
       "13  2023 05 19t13 23 45 000z   6 1    программное обеспечение   \n",
       "14  2023 05 19t13 16 52 000z   6 1    программное обеспечение   \n",
       "15  2023 05 19t13 15 23 000z   6 1         дизайн и юзабилити   \n",
       "16  2023 05 19t13 13 28 000z   6 1    программное обеспечение   \n",
       "\n",
       "                                          description  \\\n",
       "0   международный облачный провайдер ruvds предлаг...   \n",
       "1   selectel ведущий в россии провайдер облачной и...   \n",
       "2    timeweb cloud облачный сервис сочетающий масс...   \n",
       "3   otus сообщество профессионалов которые помогут...   \n",
       "4   размещаем сайты клиентов на виртуальных и выде...   \n",
       "5   строим сервисы используя силу социальных сетей...   \n",
       "6   сбер крупнейший банк в россии поставщик надёжн...   \n",
       "7   яндекс технологическая компания в основе наших...   \n",
       "8   группа компаний ланит ланит лаборатория новых ...   \n",
       "9   мы с вами являемся свидетелями настоящей револ...   \n",
       "10  команда онтико создаёт пространства для обмена...   \n",
       "11  getmatch онлайн сервис для поиска работы в it ...   \n",
       "12  sberdevices компания экосистемы сбера центр эк...   \n",
       "13   лаборатория касперского крупнейшая в мире час...   \n",
       "14  мы делаем конференции и митапы для программист...   \n",
       "15  alfa digital it подразделение альфа банка кома...   \n",
       "16  наши разработчики продакт менеджеры аналитики ...   \n",
       "\n",
       "                                name  \\\n",
       "0                          ruvds com   \n",
       "1                           selectel   \n",
       "2                      timeweb cloud   \n",
       "3                               otus   \n",
       "4                           firstvds   \n",
       "5                                 vk   \n",
       "6                               сбер   \n",
       "7                             яндекс   \n",
       "8                           гк ланит   \n",
       "9                           lamptest   \n",
       "10  конференции олега бунина онтико    \n",
       "11                          getmatch   \n",
       "12                       sberdevices   \n",
       "13          лаборатория касперского    \n",
       "14                      jug ru group   \n",
       "15                        альфа банк   \n",
       "16                           tinkoff   \n",
       "\n",
       "                                          text_states  \n",
       "0   дисклеймер не повторяйте в домашних условиях с...  \n",
       "1   продолжаю цикл статей по разработке etl процес...  \n",
       "2   давно интересовался как можно объединить микро...  \n",
       "3   сингапур известен своей развитой экономикой и ...  \n",
       "4   друзья продолжаем публиковать решения нашего c...  \n",
       "5   инновации не имеют никакого значения без их ус...  \n",
       "6   если вы занимаетесь программированием на flutt...  \n",
       "7   всем привет меня зовут евгений мальченко я раз...  \n",
       "8   контекстная реклама пожалуй наиболее очевидный...  \n",
       "9   всем привет меня зовут евгений мальченко я раз...  \n",
       "10  первоначально python как язык с динамической т...  \n",
       "11  всем привет я артем семенов занимаюсь тестиров...  \n",
       "12  с момента своего первого релиза в 2015 году re...  \n",
       "13  особый подход использования графов при рассмот...  \n",
       "14  кристина курдюмова ментор продактов product ma...  \n",
       "15  привет у sm lab есть ключевой заказчик как вы ...  \n",
       "16  джеффри александр мур консультант по управлени...  "
      ]
     },
     "execution_count": 53,
     "metadata": {},
     "output_type": "execute_result"
    }
   ],
   "source": [
    "data_2"
   ]
  },
  {
   "cell_type": "code",
   "execution_count": 54,
   "id": "de4c22a4",
   "metadata": {},
   "outputs": [],
   "source": [
    "data_3 =np.concatenate([data_2['date'], data['data']], axis=0)"
   ]
  },
  {
   "cell_type": "code",
   "execution_count": 55,
   "id": "19341c33",
   "metadata": {},
   "outputs": [],
   "source": [
    "data_4 =np.concatenate([data_2['text_states'], data['refs']], axis=0)"
   ]
  },
  {
   "cell_type": "code",
   "execution_count": 56,
   "id": "c668f502",
   "metadata": {},
   "outputs": [],
   "source": [
    "data_5 =np.concatenate([data_2['name'], data['name']], axis=0)"
   ]
  },
  {
   "cell_type": "code",
   "execution_count": 57,
   "id": "ca83ffa2",
   "metadata": {},
   "outputs": [],
   "source": [
    "data_6 =np.concatenate([data_2['rate'], data['rating']], axis=0)"
   ]
  },
  {
   "cell_type": "code",
   "execution_count": 58,
   "id": "410eca63",
   "metadata": {},
   "outputs": [],
   "source": [
    "data_3=pd.DataFrame(data_3)\n",
    "data_4=pd.DataFrame(data_4)\n",
    "data_5=pd.DataFrame(data_5)\n",
    "data_6=pd.DataFrame(data_6)"
   ]
  },
  {
   "cell_type": "code",
   "execution_count": 59,
   "id": "7d411b6f",
   "metadata": {},
   "outputs": [],
   "source": [
    "data_3[\"date\"]=pd.DataFrame(data_3)\n",
    "data_4[\"refs\"]=pd.DataFrame(data_4)\n",
    "data_5[\"name\"]=pd.DataFrame(data_5)\n",
    "data_6[\"rate\"]=pd.DataFrame(data_6)"
   ]
  },
  {
   "cell_type": "code",
   "execution_count": 60,
   "id": "bf308498",
   "metadata": {},
   "outputs": [],
   "source": [
    "data= pd.concat([data_3, data_4, data_5, data_6, data_2[\"activity\"], data_2[\"description\"] ], axis=1)"
   ]
  },
  {
   "cell_type": "code",
   "execution_count": 61,
   "id": "fb334243",
   "metadata": {},
   "outputs": [],
   "source": [
    "del data[0]"
   ]
  },
  {
   "cell_type": "code",
   "execution_count": 62,
   "id": "8430559c",
   "metadata": {},
   "outputs": [
    {
     "data": {
      "text/html": [
       "<div>\n",
       "<style scoped>\n",
       "    .dataframe tbody tr th:only-of-type {\n",
       "        vertical-align: middle;\n",
       "    }\n",
       "\n",
       "    .dataframe tbody tr th {\n",
       "        vertical-align: top;\n",
       "    }\n",
       "\n",
       "    .dataframe thead th {\n",
       "        text-align: right;\n",
       "    }\n",
       "</style>\n",
       "<table border=\"1\" class=\"dataframe\">\n",
       "  <thead>\n",
       "    <tr style=\"text-align: right;\">\n",
       "      <th></th>\n",
       "      <th>date</th>\n",
       "      <th>refs</th>\n",
       "      <th>name</th>\n",
       "      <th>rate</th>\n",
       "      <th>activity</th>\n",
       "      <th>description</th>\n",
       "    </tr>\n",
       "  </thead>\n",
       "  <tbody>\n",
       "    <tr>\n",
       "      <th>0</th>\n",
       "      <td>2023 05 19t16 59 55 000z</td>\n",
       "      <td>дисклеймер не повторяйте в домашних условиях с...</td>\n",
       "      <td>ruvds com</td>\n",
       "      <td>6 1</td>\n",
       "      <td>связь и телекоммуникации</td>\n",
       "      <td>международный облачный провайдер ruvds предлаг...</td>\n",
       "    </tr>\n",
       "    <tr>\n",
       "      <th>1</th>\n",
       "      <td>2023 05 19t16 20 33 000z</td>\n",
       "      <td>продолжаю цикл статей по разработке etl процес...</td>\n",
       "      <td>selectel</td>\n",
       "      <td>6 1</td>\n",
       "      <td>аппаратное обеспечение</td>\n",
       "      <td>selectel ведущий в россии провайдер облачной и...</td>\n",
       "    </tr>\n",
       "    <tr>\n",
       "      <th>2</th>\n",
       "      <td>2023 05 19t16 13 11 000z</td>\n",
       "      <td>давно интересовался как можно объединить микро...</td>\n",
       "      <td>timeweb cloud</td>\n",
       "      <td>6 1</td>\n",
       "      <td>веб разработка</td>\n",
       "      <td>timeweb cloud облачный сервис сочетающий масс...</td>\n",
       "    </tr>\n",
       "    <tr>\n",
       "      <th>3</th>\n",
       "      <td>2023 05 19t16 00 01 000z</td>\n",
       "      <td>сингапур известен своей развитой экономикой и ...</td>\n",
       "      <td>otus</td>\n",
       "      <td>6 1</td>\n",
       "      <td>консалтинг и поддержка</td>\n",
       "      <td>otus сообщество профессионалов которые помогут...</td>\n",
       "    </tr>\n",
       "    <tr>\n",
       "      <th>4</th>\n",
       "      <td>2023 05 19t15 03 46 000z</td>\n",
       "      <td>друзья продолжаем публиковать решения нашего c...</td>\n",
       "      <td>firstvds</td>\n",
       "      <td>6 1</td>\n",
       "      <td>связь и телекоммуникации</td>\n",
       "      <td>размещаем сайты клиентов на виртуальных и выде...</td>\n",
       "    </tr>\n",
       "    <tr>\n",
       "      <th>5</th>\n",
       "      <td>2023 05 19t15 00 33 000z</td>\n",
       "      <td>инновации не имеют никакого значения без их ус...</td>\n",
       "      <td>vk</td>\n",
       "      <td>6 1</td>\n",
       "      <td>мобильные технологии</td>\n",
       "      <td>строим сервисы используя силу социальных сетей...</td>\n",
       "    </tr>\n",
       "    <tr>\n",
       "      <th>6</th>\n",
       "      <td>2023 05 19t14 32 21 000z</td>\n",
       "      <td>если вы занимаетесь программированием на flutt...</td>\n",
       "      <td>сбер</td>\n",
       "      <td>6 1</td>\n",
       "      <td>программное обеспечение</td>\n",
       "      <td>сбер крупнейший банк в россии поставщик надёжн...</td>\n",
       "    </tr>\n",
       "    <tr>\n",
       "      <th>7</th>\n",
       "      <td>2023 05 19t14 18 45 000z</td>\n",
       "      <td>всем привет меня зовут евгений мальченко я раз...</td>\n",
       "      <td>яндекс</td>\n",
       "      <td>6 1</td>\n",
       "      <td>поисковые технологии</td>\n",
       "      <td>яндекс технологическая компания в основе наших...</td>\n",
       "    </tr>\n",
       "    <tr>\n",
       "      <th>8</th>\n",
       "      <td>2023 05 19t14 06 02 000z</td>\n",
       "      <td>контекстная реклама пожалуй наиболее очевидный...</td>\n",
       "      <td>гк ланит</td>\n",
       "      <td>6 1</td>\n",
       "      <td>программное обеспечение</td>\n",
       "      <td>группа компаний ланит ланит лаборатория новых ...</td>\n",
       "    </tr>\n",
       "    <tr>\n",
       "      <th>9</th>\n",
       "      <td>2023 05 19t14 01 01 000z</td>\n",
       "      <td>всем привет меня зовут евгений мальченко я раз...</td>\n",
       "      <td>lamptest</td>\n",
       "      <td>6 1</td>\n",
       "      <td>аппаратное обеспечение</td>\n",
       "      <td>мы с вами являемся свидетелями настоящей револ...</td>\n",
       "    </tr>\n",
       "    <tr>\n",
       "      <th>10</th>\n",
       "      <td>2023 05 19t13 59 01 000z</td>\n",
       "      <td>первоначально python как язык с динамической т...</td>\n",
       "      <td>конференции олега бунина онтико</td>\n",
       "      <td>6 1</td>\n",
       "      <td>веб разработка</td>\n",
       "      <td>команда онтико создаёт пространства для обмена...</td>\n",
       "    </tr>\n",
       "    <tr>\n",
       "      <th>11</th>\n",
       "      <td>2023 05 19t13 58 13 000z</td>\n",
       "      <td>всем привет я артем семенов занимаюсь тестиров...</td>\n",
       "      <td>getmatch</td>\n",
       "      <td>6 1</td>\n",
       "      <td>рекрутинг и hr</td>\n",
       "      <td>getmatch онлайн сервис для поиска работы в it ...</td>\n",
       "    </tr>\n",
       "    <tr>\n",
       "      <th>12</th>\n",
       "      <td>2023 05 19t13 37 01 000z</td>\n",
       "      <td>с момента своего первого релиза в 2015 году re...</td>\n",
       "      <td>sberdevices</td>\n",
       "      <td>6 1</td>\n",
       "      <td>программное обеспечение</td>\n",
       "      <td>sberdevices компания экосистемы сбера центр эк...</td>\n",
       "    </tr>\n",
       "    <tr>\n",
       "      <th>13</th>\n",
       "      <td>2023 05 19t13 23 45 000z</td>\n",
       "      <td>особый подход использования графов при рассмот...</td>\n",
       "      <td>лаборатория касперского</td>\n",
       "      <td>6 1</td>\n",
       "      <td>программное обеспечение</td>\n",
       "      <td>лаборатория касперского крупнейшая в мире час...</td>\n",
       "    </tr>\n",
       "    <tr>\n",
       "      <th>14</th>\n",
       "      <td>2023 05 19t13 16 52 000z</td>\n",
       "      <td>кристина курдюмова ментор продактов product ma...</td>\n",
       "      <td>jug ru group</td>\n",
       "      <td>6 1</td>\n",
       "      <td>программное обеспечение</td>\n",
       "      <td>мы делаем конференции и митапы для программист...</td>\n",
       "    </tr>\n",
       "    <tr>\n",
       "      <th>15</th>\n",
       "      <td>2023 05 19t13 15 23 000z</td>\n",
       "      <td>привет у sm lab есть ключевой заказчик как вы ...</td>\n",
       "      <td>альфа банк</td>\n",
       "      <td>6 1</td>\n",
       "      <td>дизайн и юзабилити</td>\n",
       "      <td>alfa digital it подразделение альфа банка кома...</td>\n",
       "    </tr>\n",
       "    <tr>\n",
       "      <th>16</th>\n",
       "      <td>2023 05 19t13 13 28 000z</td>\n",
       "      <td>джеффри александр мур консультант по управлени...</td>\n",
       "      <td>tinkoff</td>\n",
       "      <td>6 1</td>\n",
       "      <td>программное обеспечение</td>\n",
       "      <td>наши разработчики продакт менеджеры аналитики ...</td>\n",
       "    </tr>\n",
       "    <tr>\n",
       "      <th>17</th>\n",
       "      <td>8  декабря 09:30</td>\n",
       "      <td>7 декабря состоялась церемония награждения ла...</td>\n",
       "      <td>Здоровье.ру</td>\n",
       "      <td>6</td>\n",
       "      <td>NaN</td>\n",
       "      <td>NaN</td>\n",
       "    </tr>\n",
       "    <tr>\n",
       "      <th>18</th>\n",
       "      <td>29  июля 11:36</td>\n",
       "      <td>российские власти планируют к концу 2022 года...</td>\n",
       "      <td>Проект по использованию технологий компьютерно...</td>\n",
       "      <td>12</td>\n",
       "      <td>NaN</td>\n",
       "      <td>NaN</td>\n",
       "    </tr>\n",
       "    <tr>\n",
       "      <th>19</th>\n",
       "      <td>4  января 12:30</td>\n",
       "      <td>артур хачуян известный российский специалист ...</td>\n",
       "      <td>Skillbox</td>\n",
       "      <td>15</td>\n",
       "      <td>NaN</td>\n",
       "      <td>NaN</td>\n",
       "    </tr>\n",
       "    <tr>\n",
       "      <th>20</th>\n",
       "      <td>1  мая 10:00</td>\n",
       "      <td>как менеджер вы должны заботиться о ваших сот...</td>\n",
       "      <td>Gett</td>\n",
       "      <td>20</td>\n",
       "      <td>NaN</td>\n",
       "      <td>NaN</td>\n",
       "    </tr>\n",
       "    <tr>\n",
       "      <th>21</th>\n",
       "      <td>30  января 10:43</td>\n",
       "      <td>привет хабр представляю вашему вниманию перев...</td>\n",
       "      <td>Промобот</td>\n",
       "      <td>32</td>\n",
       "      <td>NaN</td>\n",
       "      <td>NaN</td>\n",
       "    </tr>\n",
       "    <tr>\n",
       "      <th>22</th>\n",
       "      <td>24  апреля 12:37</td>\n",
       "      <td>источник n умный человек не делает все ошибки...</td>\n",
       "      <td>Иннотех</td>\n",
       "      <td>3</td>\n",
       "      <td>NaN</td>\n",
       "      <td>NaN</td>\n",
       "    </tr>\n",
       "    <tr>\n",
       "      <th>23</th>\n",
       "      <td>12  октября 14:09</td>\n",
       "      <td>привет хабр сегодня мы решили поделиться с со...</td>\n",
       "      <td>Cybersport.Metaratings</td>\n",
       "      <td>19</td>\n",
       "      <td>NaN</td>\n",
       "      <td>NaN</td>\n",
       "    </tr>\n",
       "    <tr>\n",
       "      <th>24</th>\n",
       "      <td>4  сентября 16:44</td>\n",
       "      <td>привет меня зовут никита бокарев я креативный...</td>\n",
       "      <td>MMA.Metaratings</td>\n",
       "      <td>52</td>\n",
       "      <td>NaN</td>\n",
       "      <td>NaN</td>\n",
       "    </tr>\n",
       "    <tr>\n",
       "      <th>25</th>\n",
       "      <td>5  июня 06:21</td>\n",
       "      <td>компетентностая модель это попытка создания н...</td>\n",
       "      <td>Goose Gaming</td>\n",
       "      <td>5</td>\n",
       "      <td>NaN</td>\n",
       "      <td>NaN</td>\n",
       "    </tr>\n",
       "    <tr>\n",
       "      <th>26</th>\n",
       "      <td>NaN</td>\n",
       "      <td>NaN</td>\n",
       "      <td>ESforce Holding</td>\n",
       "      <td>NaN</td>\n",
       "      <td>NaN</td>\n",
       "      <td>NaN</td>\n",
       "    </tr>\n",
       "    <tr>\n",
       "      <th>27</th>\n",
       "      <td>NaN</td>\n",
       "      <td>NaN</td>\n",
       "      <td>Vinci Agency</td>\n",
       "      <td>NaN</td>\n",
       "      <td>NaN</td>\n",
       "      <td>NaN</td>\n",
       "    </tr>\n",
       "    <tr>\n",
       "      <th>28</th>\n",
       "      <td>NaN</td>\n",
       "      <td>NaN</td>\n",
       "      <td>Гэллэри Сервис</td>\n",
       "      <td>NaN</td>\n",
       "      <td>NaN</td>\n",
       "      <td>NaN</td>\n",
       "    </tr>\n",
       "    <tr>\n",
       "      <th>29</th>\n",
       "      <td>NaN</td>\n",
       "      <td>NaN</td>\n",
       "      <td>Студия Артемия Лебедева</td>\n",
       "      <td>NaN</td>\n",
       "      <td>NaN</td>\n",
       "      <td>NaN</td>\n",
       "    </tr>\n",
       "    <tr>\n",
       "      <th>30</th>\n",
       "      <td>NaN</td>\n",
       "      <td>NaN</td>\n",
       "      <td>Федерация креативных индустрий</td>\n",
       "      <td>NaN</td>\n",
       "      <td>NaN</td>\n",
       "      <td>NaN</td>\n",
       "    </tr>\n",
       "    <tr>\n",
       "      <th>31</th>\n",
       "      <td>NaN</td>\n",
       "      <td>NaN</td>\n",
       "      <td>Метарейтинг</td>\n",
       "      <td>NaN</td>\n",
       "      <td>NaN</td>\n",
       "      <td>NaN</td>\n",
       "    </tr>\n",
       "    <tr>\n",
       "      <th>32</th>\n",
       "      <td>NaN</td>\n",
       "      <td>NaN</td>\n",
       "      <td>СберМаркет</td>\n",
       "      <td>NaN</td>\n",
       "      <td>NaN</td>\n",
       "      <td>NaN</td>\n",
       "    </tr>\n",
       "    <tr>\n",
       "      <th>33</th>\n",
       "      <td>NaN</td>\n",
       "      <td>NaN</td>\n",
       "      <td>Balance Platform</td>\n",
       "      <td>NaN</td>\n",
       "      <td>NaN</td>\n",
       "      <td>NaN</td>\n",
       "    </tr>\n",
       "    <tr>\n",
       "      <th>34</th>\n",
       "      <td>NaN</td>\n",
       "      <td>NaN</td>\n",
       "      <td>Московская биржа</td>\n",
       "      <td>NaN</td>\n",
       "      <td>NaN</td>\n",
       "      <td>NaN</td>\n",
       "    </tr>\n",
       "    <tr>\n",
       "      <th>35</th>\n",
       "      <td>NaN</td>\n",
       "      <td>NaN</td>\n",
       "      <td>Samsung Electronics</td>\n",
       "      <td>NaN</td>\n",
       "      <td>NaN</td>\n",
       "      <td>NaN</td>\n",
       "    </tr>\n",
       "    <tr>\n",
       "      <th>36</th>\n",
       "      <td>NaN</td>\n",
       "      <td>NaN</td>\n",
       "      <td>Нетология</td>\n",
       "      <td>NaN</td>\n",
       "      <td>NaN</td>\n",
       "      <td>NaN</td>\n",
       "    </tr>\n",
       "    <tr>\n",
       "      <th>37</th>\n",
       "      <td>NaN</td>\n",
       "      <td>NaN</td>\n",
       "      <td>Дневник МЭШ</td>\n",
       "      <td>NaN</td>\n",
       "      <td>NaN</td>\n",
       "      <td>NaN</td>\n",
       "    </tr>\n",
       "    <tr>\n",
       "      <th>38</th>\n",
       "      <td>NaN</td>\n",
       "      <td>NaN</td>\n",
       "      <td>Цифровое образование</td>\n",
       "      <td>NaN</td>\n",
       "      <td>NaN</td>\n",
       "      <td>NaN</td>\n",
       "    </tr>\n",
       "  </tbody>\n",
       "</table>\n",
       "</div>"
      ],
      "text/plain": [
       "                        date  \\\n",
       "0   2023 05 19t16 59 55 000z   \n",
       "1   2023 05 19t16 20 33 000z   \n",
       "2   2023 05 19t16 13 11 000z   \n",
       "3   2023 05 19t16 00 01 000z   \n",
       "4   2023 05 19t15 03 46 000z   \n",
       "5   2023 05 19t15 00 33 000z   \n",
       "6   2023 05 19t14 32 21 000z   \n",
       "7   2023 05 19t14 18 45 000z   \n",
       "8   2023 05 19t14 06 02 000z   \n",
       "9   2023 05 19t14 01 01 000z   \n",
       "10  2023 05 19t13 59 01 000z   \n",
       "11  2023 05 19t13 58 13 000z   \n",
       "12  2023 05 19t13 37 01 000z   \n",
       "13  2023 05 19t13 23 45 000z   \n",
       "14  2023 05 19t13 16 52 000z   \n",
       "15  2023 05 19t13 15 23 000z   \n",
       "16  2023 05 19t13 13 28 000z   \n",
       "17          8  декабря 09:30   \n",
       "18            29  июля 11:36   \n",
       "19           4  января 12:30   \n",
       "20              1  мая 10:00   \n",
       "21          30  января 10:43   \n",
       "22          24  апреля 12:37   \n",
       "23         12  октября 14:09   \n",
       "24         4  сентября 16:44   \n",
       "25             5  июня 06:21   \n",
       "26                       NaN   \n",
       "27                       NaN   \n",
       "28                       NaN   \n",
       "29                       NaN   \n",
       "30                       NaN   \n",
       "31                       NaN   \n",
       "32                       NaN   \n",
       "33                       NaN   \n",
       "34                       NaN   \n",
       "35                       NaN   \n",
       "36                       NaN   \n",
       "37                       NaN   \n",
       "38                       NaN   \n",
       "\n",
       "                                                 refs  \\\n",
       "0   дисклеймер не повторяйте в домашних условиях с...   \n",
       "1   продолжаю цикл статей по разработке etl процес...   \n",
       "2   давно интересовался как можно объединить микро...   \n",
       "3   сингапур известен своей развитой экономикой и ...   \n",
       "4   друзья продолжаем публиковать решения нашего c...   \n",
       "5   инновации не имеют никакого значения без их ус...   \n",
       "6   если вы занимаетесь программированием на flutt...   \n",
       "7   всем привет меня зовут евгений мальченко я раз...   \n",
       "8   контекстная реклама пожалуй наиболее очевидный...   \n",
       "9   всем привет меня зовут евгений мальченко я раз...   \n",
       "10  первоначально python как язык с динамической т...   \n",
       "11  всем привет я артем семенов занимаюсь тестиров...   \n",
       "12  с момента своего первого релиза в 2015 году re...   \n",
       "13  особый подход использования графов при рассмот...   \n",
       "14  кристина курдюмова ментор продактов product ma...   \n",
       "15  привет у sm lab есть ключевой заказчик как вы ...   \n",
       "16  джеффри александр мур консультант по управлени...   \n",
       "17   7 декабря состоялась церемония награждения ла...   \n",
       "18   российские власти планируют к концу 2022 года...   \n",
       "19   артур хачуян известный российский специалист ...   \n",
       "20   как менеджер вы должны заботиться о ваших сот...   \n",
       "21   привет хабр представляю вашему вниманию перев...   \n",
       "22   источник n умный человек не делает все ошибки...   \n",
       "23   привет хабр сегодня мы решили поделиться с со...   \n",
       "24   привет меня зовут никита бокарев я креативный...   \n",
       "25   компетентностая модель это попытка создания н...   \n",
       "26                                                NaN   \n",
       "27                                                NaN   \n",
       "28                                                NaN   \n",
       "29                                                NaN   \n",
       "30                                                NaN   \n",
       "31                                                NaN   \n",
       "32                                                NaN   \n",
       "33                                                NaN   \n",
       "34                                                NaN   \n",
       "35                                                NaN   \n",
       "36                                                NaN   \n",
       "37                                                NaN   \n",
       "38                                                NaN   \n",
       "\n",
       "                                                 name  rate  \\\n",
       "0                                           ruvds com   6 1   \n",
       "1                                            selectel   6 1   \n",
       "2                                       timeweb cloud   6 1   \n",
       "3                                                otus   6 1   \n",
       "4                                            firstvds   6 1   \n",
       "5                                                  vk   6 1   \n",
       "6                                                сбер   6 1   \n",
       "7                                              яндекс   6 1   \n",
       "8                                            гк ланит   6 1   \n",
       "9                                            lamptest   6 1   \n",
       "10                   конференции олега бунина онтико    6 1   \n",
       "11                                           getmatch   6 1   \n",
       "12                                        sberdevices   6 1   \n",
       "13                           лаборатория касперского    6 1   \n",
       "14                                       jug ru group   6 1   \n",
       "15                                         альфа банк   6 1   \n",
       "16                                            tinkoff   6 1   \n",
       "17                                        Здоровье.ру     6   \n",
       "18  Проект по использованию технологий компьютерно...    12   \n",
       "19                                          Skillbox     15   \n",
       "20                                               Gett    20   \n",
       "21                                           Промобот    32   \n",
       "22                                            Иннотех     3   \n",
       "23                             Cybersport.Metaratings    19   \n",
       "24                                    MMA.Metaratings    52   \n",
       "25                                       Goose Gaming     5   \n",
       "26                                    ESforce Holding   NaN   \n",
       "27                                       Vinci Agency   NaN   \n",
       "28                                     Гэллэри Сервис   NaN   \n",
       "29                            Студия Артемия Лебедева   NaN   \n",
       "30                     Федерация креативных индустрий   NaN   \n",
       "31                                        Метарейтинг   NaN   \n",
       "32                                         СберМаркет   NaN   \n",
       "33                                   Balance Platform   NaN   \n",
       "34                                   Московская биржа   NaN   \n",
       "35                                Samsung Electronics   NaN   \n",
       "36                                          Нетология   NaN   \n",
       "37                                        Дневник МЭШ   NaN   \n",
       "38                               Цифровое образование   NaN   \n",
       "\n",
       "                     activity  \\\n",
       "0    связь и телекоммуникации   \n",
       "1      аппаратное обеспечение   \n",
       "2              веб разработка   \n",
       "3      консалтинг и поддержка   \n",
       "4    связь и телекоммуникации   \n",
       "5        мобильные технологии   \n",
       "6     программное обеспечение   \n",
       "7        поисковые технологии   \n",
       "8     программное обеспечение   \n",
       "9      аппаратное обеспечение   \n",
       "10             веб разработка   \n",
       "11             рекрутинг и hr   \n",
       "12    программное обеспечение   \n",
       "13    программное обеспечение   \n",
       "14    программное обеспечение   \n",
       "15         дизайн и юзабилити   \n",
       "16    программное обеспечение   \n",
       "17                        NaN   \n",
       "18                        NaN   \n",
       "19                        NaN   \n",
       "20                        NaN   \n",
       "21                        NaN   \n",
       "22                        NaN   \n",
       "23                        NaN   \n",
       "24                        NaN   \n",
       "25                        NaN   \n",
       "26                        NaN   \n",
       "27                        NaN   \n",
       "28                        NaN   \n",
       "29                        NaN   \n",
       "30                        NaN   \n",
       "31                        NaN   \n",
       "32                        NaN   \n",
       "33                        NaN   \n",
       "34                        NaN   \n",
       "35                        NaN   \n",
       "36                        NaN   \n",
       "37                        NaN   \n",
       "38                        NaN   \n",
       "\n",
       "                                          description  \n",
       "0   международный облачный провайдер ruvds предлаг...  \n",
       "1   selectel ведущий в россии провайдер облачной и...  \n",
       "2    timeweb cloud облачный сервис сочетающий масс...  \n",
       "3   otus сообщество профессионалов которые помогут...  \n",
       "4   размещаем сайты клиентов на виртуальных и выде...  \n",
       "5   строим сервисы используя силу социальных сетей...  \n",
       "6   сбер крупнейший банк в россии поставщик надёжн...  \n",
       "7   яндекс технологическая компания в основе наших...  \n",
       "8   группа компаний ланит ланит лаборатория новых ...  \n",
       "9   мы с вами являемся свидетелями настоящей револ...  \n",
       "10  команда онтико создаёт пространства для обмена...  \n",
       "11  getmatch онлайн сервис для поиска работы в it ...  \n",
       "12  sberdevices компания экосистемы сбера центр эк...  \n",
       "13   лаборатория касперского крупнейшая в мире час...  \n",
       "14  мы делаем конференции и митапы для программист...  \n",
       "15  alfa digital it подразделение альфа банка кома...  \n",
       "16  наши разработчики продакт менеджеры аналитики ...  \n",
       "17                                                NaN  \n",
       "18                                                NaN  \n",
       "19                                                NaN  \n",
       "20                                                NaN  \n",
       "21                                                NaN  \n",
       "22                                                NaN  \n",
       "23                                                NaN  \n",
       "24                                                NaN  \n",
       "25                                                NaN  \n",
       "26                                                NaN  \n",
       "27                                                NaN  \n",
       "28                                                NaN  \n",
       "29                                                NaN  \n",
       "30                                                NaN  \n",
       "31                                                NaN  \n",
       "32                                                NaN  \n",
       "33                                                NaN  \n",
       "34                                                NaN  \n",
       "35                                                NaN  \n",
       "36                                                NaN  \n",
       "37                                                NaN  \n",
       "38                                                NaN  "
      ]
     },
     "execution_count": 62,
     "metadata": {},
     "output_type": "execute_result"
    }
   ],
   "source": [
    "data"
   ]
  },
  {
   "cell_type": "markdown",
   "id": "0373bcb1",
   "metadata": {},
   "source": [
    "*Сохраняем наши данные для дальнейшего использования в других модулях*"
   ]
  },
  {
   "cell_type": "code",
   "execution_count": 63,
   "id": "89e7f58c",
   "metadata": {},
   "outputs": [],
   "source": [
    "data.to_csv(\"meeting/data_2.csv\")"
   ]
  },
  {
   "cell_type": "markdown",
   "id": "8b63c4ff",
   "metadata": {},
   "source": [
    "### 1.3 Предварительная обработка текстовых данных  "
   ]
  },
  {
   "cell_type": "markdown",
   "id": "ebc2967a",
   "metadata": {},
   "source": [
    "*В этом разделе необходимо обработать данные, для того, чтобы в дальнейшем обучение модели происходило более качественно, и в дальнейшем можно было разработать API.*"
   ]
  },
  {
   "cell_type": "markdown",
   "id": "4016f8e0",
   "metadata": {},
   "source": [
    "*С помощью функции $info()$ вывожу информацию о данных*"
   ]
  },
  {
   "cell_type": "code",
   "execution_count": 64,
   "id": "34b43586",
   "metadata": {},
   "outputs": [
    {
     "name": "stdout",
     "output_type": "stream",
     "text": [
      "<class 'pandas.core.frame.DataFrame'>\n",
      "Int64Index: 39 entries, 0 to 38\n",
      "Data columns (total 6 columns):\n",
      " #   Column       Non-Null Count  Dtype \n",
      "---  ------       --------------  ----- \n",
      " 0   date         26 non-null     object\n",
      " 1   refs         26 non-null     object\n",
      " 2   name         39 non-null     object\n",
      " 3   rate         26 non-null     object\n",
      " 4   activity     17 non-null     object\n",
      " 5   description  17 non-null     object\n",
      "dtypes: object(6)\n",
      "memory usage: 673.0 KB\n"
     ]
    }
   ],
   "source": [
    "data.info(memory_usage='deep')"
   ]
  },
  {
   "cell_type": "markdown",
   "id": "6da6128f",
   "metadata": {},
   "source": [
    "*С помощью функции $describe()$ смотрю статистическую таблицу*"
   ]
  },
  {
   "cell_type": "code",
   "execution_count": 65,
   "id": "13805d6f",
   "metadata": {},
   "outputs": [
    {
     "data": {
      "text/html": [
       "<div>\n",
       "<style scoped>\n",
       "    .dataframe tbody tr th:only-of-type {\n",
       "        vertical-align: middle;\n",
       "    }\n",
       "\n",
       "    .dataframe tbody tr th {\n",
       "        vertical-align: top;\n",
       "    }\n",
       "\n",
       "    .dataframe thead th {\n",
       "        text-align: right;\n",
       "    }\n",
       "</style>\n",
       "<table border=\"1\" class=\"dataframe\">\n",
       "  <thead>\n",
       "    <tr style=\"text-align: right;\">\n",
       "      <th></th>\n",
       "      <th>count</th>\n",
       "      <th>unique</th>\n",
       "      <th>top</th>\n",
       "      <th>freq</th>\n",
       "    </tr>\n",
       "  </thead>\n",
       "  <tbody>\n",
       "    <tr>\n",
       "      <th>date</th>\n",
       "      <td>26</td>\n",
       "      <td>26</td>\n",
       "      <td>2023 05 19t16 59 55 000z</td>\n",
       "      <td>1</td>\n",
       "    </tr>\n",
       "    <tr>\n",
       "      <th>refs</th>\n",
       "      <td>26</td>\n",
       "      <td>26</td>\n",
       "      <td>дисклеймер не повторяйте в домашних условиях с...</td>\n",
       "      <td>1</td>\n",
       "    </tr>\n",
       "    <tr>\n",
       "      <th>name</th>\n",
       "      <td>39</td>\n",
       "      <td>39</td>\n",
       "      <td>ruvds com</td>\n",
       "      <td>1</td>\n",
       "    </tr>\n",
       "    <tr>\n",
       "      <th>rate</th>\n",
       "      <td>26</td>\n",
       "      <td>10</td>\n",
       "      <td>6 1</td>\n",
       "      <td>17</td>\n",
       "    </tr>\n",
       "    <tr>\n",
       "      <th>activity</th>\n",
       "      <td>17</td>\n",
       "      <td>9</td>\n",
       "      <td>программное обеспечение</td>\n",
       "      <td>6</td>\n",
       "    </tr>\n",
       "    <tr>\n",
       "      <th>description</th>\n",
       "      <td>17</td>\n",
       "      <td>17</td>\n",
       "      <td>международный облачный провайдер ruvds предлаг...</td>\n",
       "      <td>1</td>\n",
       "    </tr>\n",
       "  </tbody>\n",
       "</table>\n",
       "</div>"
      ],
      "text/plain": [
       "            count unique                                                top  \\\n",
       "date           26     26                           2023 05 19t16 59 55 000z   \n",
       "refs           26     26  дисклеймер не повторяйте в домашних условиях с...   \n",
       "name           39     39                                          ruvds com   \n",
       "rate           26     10                                                6 1   \n",
       "activity       17      9                            программное обеспечение   \n",
       "description    17     17  международный облачный провайдер ruvds предлаг...   \n",
       "\n",
       "            freq  \n",
       "date           1  \n",
       "refs           1  \n",
       "name           1  \n",
       "rate          17  \n",
       "activity       6  \n",
       "description    1  "
      ]
     },
     "execution_count": 65,
     "metadata": {},
     "output_type": "execute_result"
    }
   ],
   "source": [
    "data.describe().T"
   ]
  },
  {
   "cell_type": "markdown",
   "id": "cda73e3e",
   "metadata": {},
   "source": [
    "*Также необхожимо проанализировать, есть ли в данных пропущенные значения.Для этого волспользуюсь функцией **isnull().sum()**.*"
   ]
  },
  {
   "cell_type": "code",
   "execution_count": 66,
   "id": "c8802037",
   "metadata": {},
   "outputs": [
    {
     "data": {
      "text/plain": [
       "date           13\n",
       "refs           13\n",
       "name            0\n",
       "rate           13\n",
       "activity       22\n",
       "description    22\n",
       "dtype: int64"
      ]
     },
     "execution_count": 66,
     "metadata": {},
     "output_type": "execute_result"
    }
   ],
   "source": [
    "data.isnull().sum()"
   ]
  },
  {
   "cell_type": "markdown",
   "id": "c01c921b",
   "metadata": {},
   "source": [
    "*Теперь можно сделать вывод, что большинство значений категориальные, а значит метод обработки данных должен включать обработку текста(токенизацию, лемматизацию, обработку пропущеннных значений, выделение значимых частей речи, а также удаление стоп-слов, пунктуации, спецсимволов). По статистической таблицы видно, что не выбросов, не полхой дисперсии в данных нет, поэтому эти методы обработки применяться не будут.*"
   ]
  },
  {
   "cell_type": "markdown",
   "id": "f06f6d9b",
   "metadata": {},
   "source": [
    "*В начале обработаем все значения, которые пропущенны.Так как данных и так не много, воспользуемся стандартными методом.Для категориальных признаков-заменой на моду числа, для количественных-на медианное значение.*"
   ]
  },
  {
   "cell_type": "code",
   "execution_count": 67,
   "id": "13ddb05f",
   "metadata": {},
   "outputs": [
    {
     "name": "stdout",
     "output_type": "stream",
     "text": [
      "imputing missing values for: date\n",
      "imputing missing values for: refs\n",
      "imputing missing values for: rate\n",
      "imputing missing values for: activity\n",
      "imputing missing values for: description\n"
     ]
    }
   ],
   "source": [
    "df_non_numeric = data.select_dtypes(exclude=[np.number])\n",
    "non_numeric_cols = df_non_numeric.columns.values\n",
    "\n",
    "for col in non_numeric_cols:\n",
    "    missing = data[col].isnull()\n",
    "    num_missing = np.sum(missing)\n",
    "    \n",
    "    if num_missing > 0:\n",
    "        print('imputing missing values for: {}'.format(col))        \n",
    "        top = data[col].describe()['top']\n",
    "        data[col] = data[col].fillna(top)"
   ]
  },
  {
   "cell_type": "code",
   "execution_count": 68,
   "id": "0379acb9",
   "metadata": {},
   "outputs": [],
   "source": [
    "df_numeric = data.select_dtypes(include=[np.number])\n",
    "numeric_cols = df_numeric.columns.values\n",
    "\n",
    "for col in numeric_cols:\n",
    "    missing = data[col].isnull()\n",
    "    num_missing = np.sum(missing)\n",
    "    \n",
    "    if num_missing > 0: \n",
    "        print('imputing missing values for: {}'.format(col))\n",
    "        med = data[col].median()\n",
    "        data[col] = data[col].fillna(med)"
   ]
  },
  {
   "cell_type": "markdown",
   "id": "741f3f17",
   "metadata": {},
   "source": [
    "*Теперь обработаем весь текст в данных методами nltk.Для начало необходимо разделить текст на токены. Дальше исключю стоп-слова из исходного текста, обработаем стриминг текста(удаление окончания слов)-Русский язык обладает богатой морфологической структурой. Слово хороший и хорошая имеют тот же смысл, но разную форму, например, хорошая мебель и хороший стул. Поэтому для машинного обучения (Machine Learning) лучше привести их к одной форме для уменьшения размерности, приведем к начальному значению.* "
   ]
  },
  {
   "cell_type": "markdown",
   "id": "90a1c90b",
   "metadata": {},
   "source": [
    "**Токенизация**"
   ]
  },
  {
   "cell_type": "code",
   "execution_count": 69,
   "id": "b0b51ea8",
   "metadata": {},
   "outputs": [
    {
     "name": "stdout",
     "output_type": "stream",
     "text": [
      "[nltk_data] Downloading package punkt to\n",
      "[nltk_data]     C:\\Users\\blend\\AppData\\Roaming\\nltk_data...\n",
      "[nltk_data]   Package punkt is already up-to-date!\n"
     ]
    }
   ],
   "source": [
    "nltk.download('punkt');"
   ]
  },
  {
   "cell_type": "code",
   "execution_count": 70,
   "id": "ab818369",
   "metadata": {},
   "outputs": [],
   "source": [
    "def tokenize(column):\n",
    "    tokens = nltk.word_tokenize(column)\n",
    "    return [w for w in tokens if w.isalpha()]    "
   ]
  },
  {
   "cell_type": "code",
   "execution_count": 71,
   "id": "5533b9ca",
   "metadata": {},
   "outputs": [],
   "source": [
    "data['name'] = data.apply(lambda x: tokenize(x['name']), axis=1)"
   ]
  },
  {
   "cell_type": "code",
   "execution_count": 72,
   "id": "c6c9d445",
   "metadata": {},
   "outputs": [],
   "source": [
    "data['description'] = data.apply(lambda x: tokenize(x['description']), axis=1)"
   ]
  },
  {
   "cell_type": "code",
   "execution_count": 73,
   "id": "08ef8389",
   "metadata": {},
   "outputs": [],
   "source": [
    "data['activity'] = data.apply(lambda x: tokenize(x['activity']), axis=1)"
   ]
  },
  {
   "cell_type": "markdown",
   "id": "4d9b11b3",
   "metadata": {},
   "source": [
    "**Исключение стоп-слова**"
   ]
  },
  {
   "cell_type": "code",
   "execution_count": 74,
   "id": "4bcddb12",
   "metadata": {},
   "outputs": [
    {
     "name": "stdout",
     "output_type": "stream",
     "text": [
      "<class 'pandas.core.frame.DataFrame'>\n",
      "Int64Index: 39 entries, 0 to 38\n",
      "Data columns (total 6 columns):\n",
      " #   Column       Non-Null Count  Dtype \n",
      "---  ------       --------------  ----- \n",
      " 0   date         39 non-null     object\n",
      " 1   refs         39 non-null     object\n",
      " 2   name         39 non-null     object\n",
      " 3   rate         39 non-null     object\n",
      " 4   activity     39 non-null     object\n",
      " 5   description  39 non-null     object\n",
      "dtypes: object(6)\n",
      "memory usage: 2.1+ KB\n"
     ]
    }
   ],
   "source": [
    "data.info()"
   ]
  },
  {
   "cell_type": "code",
   "execution_count": 75,
   "id": "59ff5c6e",
   "metadata": {},
   "outputs": [],
   "source": [
    "data=data.astype('str')"
   ]
  },
  {
   "cell_type": "code",
   "execution_count": 76,
   "id": "fb8e800f",
   "metadata": {},
   "outputs": [],
   "source": [
    "stop_words = stopwords.words('russian')\n",
    "data['name'] = data['name'].apply(lambda x: ' '.join([word for word in x.split() if word not in (stop_words)]))"
   ]
  },
  {
   "cell_type": "markdown",
   "id": "9633e03d",
   "metadata": {},
   "source": [
    "**Стриминг**"
   ]
  },
  {
   "cell_type": "code",
   "execution_count": 77,
   "id": "07b1cbb9",
   "metadata": {},
   "outputs": [
    {
     "name": "stderr",
     "output_type": "stream",
     "text": [
      "C:\\Users\\blend\\AppData\\Local\\Temp\\ipykernel_18892\\1706472779.py:3: FutureWarning: Passing a negative integer is deprecated in version 1.0 and will not be supported in future version. Instead, use None to not limit the column width.\n",
      "  pd.set_option('display.max_colwidth', -1)\n"
     ]
    }
   ],
   "source": [
    "stemmer = SnowballStemmer(\"russian\")\n",
    "data['stemmer'] = data['description'].str.split()\n",
    "pd.set_option('display.max_colwidth', -1)"
   ]
  },
  {
   "cell_type": "markdown",
   "id": "b4214aef",
   "metadata": {},
   "source": [
    "**Лемматизация**"
   ]
  },
  {
   "cell_type": "code",
   "execution_count": 78,
   "id": "3e6d9aef",
   "metadata": {},
   "outputs": [],
   "source": [
    "w_tokenizer = nltk.tokenize.WhitespaceTokenizer()\n",
    "lemmatizer = nltk.stem.WordNetLemmatizer()\n",
    "\n",
    "def lemmatize_text(text):\n",
    "    return [lemmatizer.lemmatize(w) for w in w_tokenizer.tokenize(text)]\n",
    "data['text_lemmatized'] = data.description.apply(lemmatize_text)"
   ]
  },
  {
   "cell_type": "markdown",
   "id": "09106e20",
   "metadata": {},
   "source": [
    "### 1.2 Формирование структуры набора данных"
   ]
  },
  {
   "cell_type": "markdown",
   "id": "90456eba",
   "metadata": {},
   "source": [
    "*Для выбора признаков, которые следует удалить из данных, я воспользуюсь алгоритмом SBS. Он основан на последовательном удалении признаков из полнопризнакового подмножества.Я взяла конкретно этот алгоритм, потому-что считаю что он один из немногих может обучить текстовые данные хорошо,а также хорошо может работать с данными маленького размера, так как сделан на основе логистической регрессии.*"
   ]
  },
  {
   "cell_type": "markdown",
   "id": "a338edd4",
   "metadata": {},
   "source": [
    "*Для успешного использования алгоритма, необходимо закодировать категориальные значения.Это позволит улучшить точность выбоора признака.Также необходимо разделить выборку на тестовую и тренировочную.*"
   ]
  },
  {
   "cell_type": "code",
   "execution_count": 79,
   "id": "61e69c3b",
   "metadata": {},
   "outputs": [],
   "source": [
    "lbl=LabelEncoder()\n",
    "non_nomic=data.select_dtypes(exclude=[np.number])\n",
    "non_momic_cols=non_nomic.columns.values\n",
    "for col in non_momic_cols:\n",
    "    data[col]=lbl.fit_transform(data[col].astype(str))"
   ]
  },
  {
   "cell_type": "code",
   "execution_count": 80,
   "id": "7f8054f8",
   "metadata": {},
   "outputs": [],
   "source": [
    "max_min=MinMaxScaler()"
   ]
  },
  {
   "cell_type": "code",
   "execution_count": 81,
   "id": "e9610180",
   "metadata": {},
   "outputs": [],
   "source": [
    "df_scal=max_min.fit_transform(data.drop('rate', axis=1))\n",
    "pd_df_scal=pd.DataFrame(df_scal,columns=data.drop('rate', axis=1).columns)"
   ]
  },
  {
   "cell_type": "code",
   "execution_count": 82,
   "id": "4355d486",
   "metadata": {},
   "outputs": [],
   "source": [
    "X=df_scal.copy()\n",
    "Y=data['rate']\n",
    "X_train_std, X_test_std, y_train, y_test=train_test_split(X,Y, test_size=0.2, random_state=30)"
   ]
  },
  {
   "cell_type": "code",
   "execution_count": 83,
   "id": "4613e2e0",
   "metadata": {},
   "outputs": [
    {
     "name": "stdout",
     "output_type": "stream",
     "text": [
      "Training accuracy: 0.7419354838709677\n",
      "Test accuracy: 0.875\n"
     ]
    }
   ],
   "source": [
    "lr = LogisticRegression(penalty='l2', C=0.1)\n",
    "lr.fit(X_train_std, y_train)\n",
    "print('Training accuracy:', lr.score(X_train_std, y_train))\n",
    "print('Test accuracy:', lr.score(X_test_std, y_test))"
   ]
  },
  {
   "cell_type": "code",
   "execution_count": 84,
   "id": "00101a02",
   "metadata": {},
   "outputs": [],
   "source": [
    "from sklearn.base import clone\n",
    "from itertools import combinations\n",
    "import numpy as np\n",
    "from sklearn.metrics import accuracy_score\n",
    "from sklearn.model_selection import train_test_split\n",
    "\n",
    "\n",
    "class SBS():\n",
    "    def __init__(self, estimator, k_features, scoring=accuracy_score,\n",
    "                 test_size=0.25, random_state=1):\n",
    "        self.scoring = scoring\n",
    "        self.estimator = clone(estimator)\n",
    "        self.k_features = k_features\n",
    "        self.test_size = test_size\n",
    "        self.random_state = random_state\n",
    "\n",
    "    def fit(self, X, y):\n",
    "        \n",
    "        X_train, X_test, y_train, y_test = \\\n",
    "            train_test_split(X, y, test_size=self.test_size,\n",
    "                             random_state=self.random_state)\n",
    "\n",
    "        dim = X_train.shape[1]\n",
    "        self.indices_ = tuple(range(dim))\n",
    "        self.subsets_ = [self.indices_]\n",
    "        score = self._calc_score(X_train, y_train, \n",
    "                                 X_test, y_test, self.indices_)\n",
    "        self.scores_ = [score]\n",
    "\n",
    "        while dim > self.k_features:\n",
    "            scores = []\n",
    "            subsets = []\n",
    "\n",
    "            for p in combinations(self.indices_, r=dim - 1):\n",
    "                score = self._calc_score(X_train, y_train, \n",
    "                                         X_test, y_test, p)\n",
    "                scores.append(score)\n",
    "                subsets.append(p)\n",
    "\n",
    "            best = np.argmax(scores)\n",
    "            self.indices_ = subsets[best]\n",
    "            self.subsets_.append(self.indices_)\n",
    "            dim -= 1\n",
    "\n",
    "            self.scores_.append(scores[best])\n",
    "        self.k_score_ = self.scores_[-1]\n",
    "\n",
    "        return self\n",
    "\n",
    "    def transform(self, X):\n",
    "        return X[:, self.indices_]\n",
    "\n",
    "    def _calc_score(self, X_train, y_train, X_test, y_test, indices):\n",
    "        self.estimator.fit(X_train[:, indices], y_train)\n",
    "        y_pred = self.estimator.predict(X_test[:, indices])\n",
    "        score = self.scoring(y_test, y_pred)\n",
    "        return score"
   ]
  },
  {
   "cell_type": "code",
   "execution_count": 86,
   "id": "0ec30719",
   "metadata": {},
   "outputs": [
    {
     "data": {
      "image/png": "[encoded data removed]",
      "text/plain": [
       "<Figure size 432x288 with 1 Axes>"
      ]
     },
     "metadata": {
      "needs_background": "light"
     },
     "output_type": "display_data"
    }
   ],
   "source": [
    "import matplotlib.pyplot as plt\n",
    "from sklearn.neighbors import KNeighborsClassifier\n",
    "\n",
    "knn = KNeighborsClassifier(n_neighbors=2)\n",
    "\n",
    "# selecting features\n",
    "sbs = SBS(knn, k_features=1)\n",
    "sbs.fit(X_train_std, y_train)\n",
    "\n",
    "# plotting performance of feature subsets\n",
    "k_feat = [len(k) for k in sbs.subsets_]\n",
    "\n",
    "plt.plot(k_feat, sbs.scores_, marker='o')\n",
    "plt.ylim([0.7, 1.1])\n",
    "plt.ylabel('Accuracy')\n",
    "plt.xlabel('Number of features')\n",
    "plt.grid()\n",
    "plt.tight_layout()\n",
    "# plt.savefig('./sbs.png', dpi=300)\n",
    "plt.show()"
   ]
  },
  {
   "cell_type": "code",
   "execution_count": 87,
   "id": "08f642a2",
   "metadata": {},
   "outputs": [
    {
     "name": "stdout",
     "output_type": "stream",
     "text": [
      "Training accuracy: 0.8709677419354839\n",
      "Test accuracy: 0.875\n"
     ]
    }
   ],
   "source": [
    "knn.fit(X_train_std, y_train)\n",
    "print('Training accuracy:', knn.score(X_train_std, y_train))\n",
    "print('Test accuracy:', knn.score(X_test_std, y_test))"
   ]
  },
  {
   "cell_type": "markdown",
   "id": "f664e4b4",
   "metadata": {},
   "source": [
    "*По данному обучению видно, что все данные нужны в обучение.Так как у всех признаков очень хорошая вероятность после обучения.Также были добавлены признаки в начале моуля.*"
   ]
  },
  {
   "cell_type": "markdown",
   "id": "c93cc3bd",
   "metadata": {},
   "source": [
    "*Сохраняем обработанные данные для дольнейшей работы*"
   ]
  },
  {
   "cell_type": "code",
   "execution_count": 90,
   "id": "32f80964",
   "metadata": {},
   "outputs": [],
   "source": [
    "data.to_csv(\"meeting/data_3.csv\")"
   ]
  },
  {
   "cell_type": "markdown",
   "id": "e19ed862",
   "metadata": {},
   "source": [
    "### 1.4 Подготовка отчета"
   ]
  },
  {
   "cell_type": "markdown",
   "id": "13a86750",
   "metadata": {},
   "source": [
    "*В данном модули были собраны данные с интернет-ресурса **habr.com** и с представленного файл.Произведено предварительное следование данных для того, что-бы понять, какой конкретно метод обработки использовать.Произведена предобработка данных для дальнейшего обучения модели и разработки api.Также были отобраны признаки, которые больше всего зависят от целевой переменной, а также предварительная обрабоотка текста, что бы разделение на кластеры было более качественно сделано.По итогу файл с предобработанными данными был загружен, для дальнейшего использования.*"
   ]
  }
 ],
 "metadata": {
  "kernelspec": {
   "display_name": "Python 3 (ipykernel)",
   "language": "python",
   "name": "python3"
  },
  "language_info": {
   "codemirror_mode": {
    "name": "ipython",
    "version": 3
   },
   "file_extension": ".py",
   "mimetype": "text/x-python",
   "name": "python",
   "nbconvert_exporter": "python",
   "pygments_lexer": "ipython3",
   "version": "3.9.12"
  }
 },
 "nbformat": 4,
 "nbformat_minor": 5
}
