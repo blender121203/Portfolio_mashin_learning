{
 "cells": [
  {
   "cell_type": "markdown",
   "id": "3374ff68",
   "metadata": {},
   "source": [
    "# Модуль Г.  Разработка программного продукта"
   ]
  },
  {
   "cell_type": "markdown",
   "id": "8429d72f",
   "metadata": {},
   "source": [
    "### 4.1 Предсказание целевой переменной "
   ]
  },
  {
   "cell_type": "code",
   "execution_count": 34,
   "id": "fd7b8f23",
   "metadata": {},
   "outputs": [
    {
     "data": {
      "text/plain": [
       "XGBClassifier(colsample_bytree=0.8, learning_rate=0.19, max_depth=6,\n",
       "              n_estmats=22, nthread=4, objective='multi:softprob',\n",
       "              random_state=1111, seed=27, subsample=0.9)"
      ]
     },
     "execution_count": 34,
     "metadata": {},
     "output_type": "execute_result"
    }
   ],
   "source": [
    "xgb.max_depth = 6\n",
    "xgb.random_state =1111\n",
    "xgb.fit(x_train,y_train)"
   ]
  },
  {
   "cell_type": "code",
   "execution_count": 35,
   "id": "c8abf5eb",
   "metadata": {},
   "outputs": [
    {
     "name": "stdout",
     "output_type": "stream",
     "text": [
      "9    12\n",
      "2     1\n",
      "dtype: int64\n",
      "Первыми предсказанными вероятностями являются: [0.00424473 0.00350752 0.00573545 0.00239445 0.00204021 0.00916343\n",
      " 0.00312372 0.96979046]\n"
     ]
    }
   ],
   "source": [
    "classification_predictions = xgb.predict(x_test)\n",
    "probability_predictions = xgb.predict_proba(x_test)\n",
    "# Распечатать количество двоичных прогнозов\n",
    "print(pd.Series(classification_predictions).value_counts())\n",
    "# Вывести первое значение из probability_predictions\n",
    "print('Первыми предсказанными вероятностями являются: {}'.format(probability_predictions[0]))"
   ]
  },
  {
   "cell_type": "markdown",
   "id": "22842784",
   "metadata": {},
   "source": [
    "*Сохранение предсказаний для дальнейших использований*"
   ]
  },
  {
   "cell_type": "code",
   "execution_count": 36,
   "id": "31f2aed5",
   "metadata": {},
   "outputs": [],
   "source": [
    "from flask import render_template, request, jsonify\n",
    "import flask\n",
    "import numpy as np\n",
    "import traceback\n",
    "import pickle\n",
    "import pandas as pd"
   ]
  },
  {
   "cell_type": "code",
   "execution_count": 37,
   "id": "c1a62741",
   "metadata": {},
   "outputs": [],
   "source": [
    "import pickle\n",
    "with open('predict.pkl','wb') as file:\n",
    "    pickle.dump(probability_predictions, file)"
   ]
  },
  {
   "cell_type": "markdown",
   "id": "84ef69da",
   "metadata": {},
   "source": [
    "### 4.2 Разработка прикладного решения"
   ]
  },
  {
   "cell_type": "code",
   "execution_count": 37,
   "id": "8476a002",
   "metadata": {},
   "outputs": [
    {
     "name": "stdout",
     "output_type": "stream",
     "text": [
      "Writing movieclassifier_with_update/app.py\n"
     ]
    }
   ],
   "source": [
    "%%writefile movieclassifier_with_update/app.py\n",
    "from flask import Flask, render_template, request\n",
    "from wtforms import Form, TextAreaField, validators\n",
    "import pickle\n",
    "import sqlite3\n",
    "import os\n",
    "import numpy as np\n",
    "from vectorizer import vect\n",
    "\n",
    "app = Flask(__name__)\n",
    "\n",
    "cur_dir = os.path.dirname(__file__)\n",
    "clf = pickle.load(open(os.path.join(cur_dir,\n",
    "                 'pkl_objects',\n",
    "                 'predict.pkl'), 'rb'))\n",
    "db = os.path.join(cur_dir, 'reviews.sqlite')\n",
    "\n",
    "def classify(document):\n",
    "    label = {0: 'negative', 1: 'positive'}\n",
    "    X = vect.transform([document])\n",
    "    y = clf.predict(X)[0]\n",
    "    proba = np.max(clf.predict_proba(X))\n",
    "    return label[y], proba\n",
    "\n",
    "def train(document, y):\n",
    "    X = vect.transform([document])\n",
    "    clf.partial_fit(X, [y])\n",
    "\n",
    "def sqlite_entry(path, document, y):\n",
    "    conn = sqlite3.connect(path)\n",
    "    c = conn.cursor()\n",
    "    c.execute(\"INSERT INTO review_db (review, sentiment, date)\"\\\n",
    "    \" VALUES (?, ?, DATETIME('now'))\", (document, y))\n",
    "    conn.commit()\n",
    "    conn.close()\n",
    "\n",
    "######## Flask\n",
    "class ReviewForm(Form):\n",
    "    moviereview = TextAreaField('',\n",
    "                                [validators.DataRequired(),\n",
    "                                validators.length(min=15)])\n",
    "\n",
    "@app.route('/')\n",
    "def index():\n",
    "    form = ReviewForm(request.form)\n",
    "    return render_template('reviewform.html', form=form)\n",
    "\n",
    "@app.route('/results', methods=['POST'])\n",
    "def results():\n",
    "    form = ReviewForm(request.form)\n",
    "    if request.method == 'POST' and form.validate():\n",
    "        review = request.form['moviereview']\n",
    "        y, proba = classify(review)\n",
    "        return render_template('results.html',\n",
    "                                content=review,\n",
    "                                prediction=y,\n",
    "                                probability=round(proba*100, 2))\n",
    "    return render_template('reviewform.html', form=form)\n",
    "\n",
    "@app.route('/thanks', methods=['POST'])\n",
    "def feedback():\n",
    "    feedback = request.form['feedback_button']\n",
    "    review = request.form['review']\n",
    "    prediction = request.form['prediction']\n",
    "\n",
    "    inv_label = {'negative': 0, 'positive': 1}\n",
    "    y = inv_label[prediction]\n",
    "    if feedback == 'Incorrect':\n",
    "        y = int(not(y))\n",
    "    train(review, y)\n",
    "    sqlite_entry(db, review, y)\n",
    "    return render_template('thanks.html')\n",
    "\n",
    "if __name__ == '__main__':\n",
    "    app.run(debug=True)"
   ]
  },
  {
   "cell_type": "code",
   "execution_count": 39,
   "id": "aad1145d",
   "metadata": {},
   "outputs": [],
   "source": [
    "%%writefile movieclassifier_with_update/templates/_formhelpers.html\n",
    "{% macro render_field(field) %}\n",
    "  <dt>{{ field.label }}\n",
    "  <dd>{{ field(**kwargs)|safe }}\n",
    "  {% if field.errors %}\n",
    "    <ul class=errors>\n",
    "    {% for error in field.errors %}\n",
    "      <li>{{ error }}</li>\n",
    "    {% endfor %}\n",
    "    </ul>\n",
    "  {% endif %}\n",
    "  </dd>\n",
    "{% endmacro %}"
   ]
  },
  {
   "cell_type": "code",
   "execution_count": 40,
   "id": "19c725b6",
   "metadata": {},
   "outputs": [],
   "source": [
    "%%writefile movieclassifier_with_update/templates/results.html\n",
    "<!doctype html>\n",
    "<html>\n",
    "  <head>\n",
    "    <title>Прогнозирование номинаций по публикациям</title>\n",
    "<link rel=\"stylesheet\" href=\"{{ url_for('static', filename='style.css') }}\">\n",
    "  </head>\n",
    "  <body>\n",
    "\n",
    "<h3>номинации:</h3>\n",
    "<div>{{ content }}</div>\n",
    "\n",
    "<h3>Прогноз:</h3>\n",
    "<div>Этот публикация является <strong>{{ prediction }}</strong>\n",
    "(с вероятностью:{{ probability }}%).</div>\n",
    "\n",
    "<div id='button'>\n",
    "<form action=\"/thanks\" method=\"post\">\n",
    "        <input type=hidden value='{{ prediction }}' name='prediction'>\n",
    "        <input type=hidden value='{{ content }}' name='review'>\n",
    "    </form>\n",
    "</div>\n",
    "\n",
    "<div id='button'>\n",
    "     <form action=\"/\">\n",
    "        <input type=submit value='Отправить публикацию'>\n",
    "     </form>\n",
    "</div>\n",
    "\n",
    "  </body>\n",
    "</html>"
   ]
  },
  {
   "cell_type": "code",
   "execution_count": null,
   "id": "4f07bb42",
   "metadata": {},
   "outputs": [],
   "source": [
    "%%writefile movieclassifier_with_update/templates/thanks.html\n",
    "<!doctype html>\n",
    "<html>\n",
    "  <head>\n",
    "    <title>Прогнозирование номинаций по публикациям</title>\n",
    "    <link rel=\"stylesheet\" href=\"{{ url_for('static', filename='style.css') }}\">\n",
    "  </head>\n",
    "  <body>\n",
    "<div id='button'>\n",
    "        <form action=\"/\">\n",
    "        <input type=submit value='Отправить ещё публикацию'>\n",
    "        </form>\n",
    "</div>\n",
    "\n",
    "  </body>\n",
    "</html>"
   ]
  },
  {
   "cell_type": "code",
   "execution_count": 43,
   "id": "55b318e0",
   "metadata": {},
   "outputs": [],
   "source": [
    "%%writefile movieclassifier_with_update/static/style.css\n",
    "body{\n",
    "    width:600px;\n",
    "}\n",
    "\n",
    ".button{\n",
    "    padding-top: 20px;\n",
    "}"
   ]
  },
  {
   "cell_type": "code",
   "execution_count": 42,
   "id": "c0fd7f15",
   "metadata": {},
   "outputs": [],
   "source": [
    "%%writefile movieclassifier_with_update/update.py\n",
    "import pickle\n",
    "import sqlite3\n",
    "import numpy as np\n",
    "import os\n",
    "from vectorizer import vect\n",
    "\n",
    "def update_model(db_path, model, batch_size=10000):\n",
    "\n",
    "    conn = sqlite3.connect(db_path)\n",
    "    c = conn.cursor()\n",
    "    c.execute('SELECT * from review_db')\n",
    "\n",
    "    results = c.fetchmany(batch_size)\n",
    "    while results:\n",
    "        data = np.array(results)\n",
    "        X = data[:, 0]\n",
    "        y = data[:, 1].astype(int)\n",
    "\n",
    "        classes = np.array([0, 1])\n",
    "        X_train = vect.transform(X)\n",
    "        model.partial_fit(X_train, y, classes=classes)\n",
    "        results = c.fetchmany(batch_size)\n",
    "\n",
    "    conn.close()\n",
    "    return model\n",
    "\n",
    "cur_dir = os.path.dirname(__file__)\n",
    "\n",
    "clf = pickle.load(open(os.path.join(cur_dir,\n",
    "                  'pkl_objects',\n",
    "                  'predict.pkl'), 'rb'))\n",
    "db = os.path.join(cur_dir, 'reviews.sqlite')\n",
    "\n",
    "clf = update_model(db_path=db, model=clf, batch_size=10000)"
   ]
  },
  {
   "cell_type": "markdown",
   "id": "3372d975",
   "metadata": {},
   "source": [
    "### 4.3 Подготовка отчета"
   ]
  },
  {
   "cell_type": "markdown",
   "id": "e563958a",
   "metadata": {},
   "source": [
    "*В этом модуле продолжается работа с данными, подготовленными в предыдущей сессии. Мне предстоит выполнить прогноз для тестовой выборки. Также необходимо было выполнить развертывание модели машинного обучения в рабочей среде в качестве API.*"
   ]
  }
 ],
 "metadata": {
  "kernelspec": {
   "display_name": "Python 3 (ipykernel)",
   "language": "python",
   "name": "python3"
  },
  "language_info": {
   "codemirror_mode": {
    "name": "ipython",
    "version": 3
   },
   "file_extension": ".py",
   "mimetype": "text/x-python",
   "name": "python",
   "nbconvert_exporter": "python",
   "pygments_lexer": "ipython3",
   "version": "3.9.12"
  }
 },
 "nbformat": 4,
 "nbformat_minor": 5
}
