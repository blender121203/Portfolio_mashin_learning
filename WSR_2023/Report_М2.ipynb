{
 "cells": [
  {
   "cell_type": "markdown",
   "id": "168aa0e4",
   "metadata": {},
   "source": [
    "# Модуль Б.  Разведочный анализ данных"
   ]
  },
  {
   "cell_type": "markdown",
   "id": "3cb51d4e",
   "metadata": {},
   "source": [
    "### 2.1 Поиск ключевых слов/n-грамм. Векторизация текстов"
   ]
  },
  {
   "cell_type": "markdown",
   "id": "9e69db33",
   "metadata": {},
   "source": [
    "**Логарифмирование**"
   ]
  },
  {
   "cell_type": "markdown",
   "id": "00f5dc8b",
   "metadata": {},
   "source": [
    "*Самый очевидный способ формирования признакового описания текстов — векторизация. Простой способ заключается в подсчёте, сколько раз встретилось каждое слово в тексте. Получаем вектор длиной в количество уникальных слов, встречающихся во всех объектах выборки. В таком векторе много нулей, поэтому его удобнее хранить в разреженном виде.\n",
    "Пусть у нас имеется коллекция текстов D={di}li=1 и словарь всех слов, встречающихся в выборке V={vj}dj=1.В этом случае некоторый текст описывается вектором (xij)dj=1, где.*"
   ]
  },
  {
   "cell_type": "markdown",
   "id": "474adcb4",
   "metadata": {},
   "source": [
    "\\begin{equation*}\n",
    "x_{ij}=\\left(\\sum_{v∈d_i}[v=v_j] \\right)\n",
    "\\end{equation*}"
   ]
  },
  {
   "cell_type": "markdown",
   "id": "d56aaaba",
   "metadata": {},
   "source": [
    "*Таким образом, текст описывается вектором количества вхождений каждого слова из словаря в данный текст.*"
   ]
  },
  {
   "cell_type": "code",
   "execution_count": 5,
   "id": "3bf3ea05",
   "metadata": {},
   "outputs": [],
   "source": [
    "from sklearn.feature_extraction.text import CountVectorizer\n",
    "\n",
    "vectorizer = CountVectorizer(encoding='utf8', min_df=1)\n",
    "_ = vectorizer.fit(data)"
   ]
  },
  {
   "cell_type": "code",
   "execution_count": 6,
   "id": "7016e26e",
   "metadata": {},
   "outputs": [
    {
     "data": {
      "text/plain": [
       "<7x7 sparse matrix of type '<class 'numpy.int64'>'\n",
       "\twith 7 stored elements in Compressed Sparse Row format>"
      ]
     },
     "execution_count": 6,
     "metadata": {},
     "output_type": "execute_result"
    }
   ],
   "source": [
    "vectorizer.transform(data[:1])"
   ]
  },
  {
   "cell_type": "code",
   "execution_count": 7,
   "id": "2aedb395",
   "metadata": {},
   "outputs": [],
   "source": [
    "from sklearn.feature_extraction.text import TfidfVectorizer\n",
    "vectorizer = TfidfVectorizer(encoding='utf8', min_df=1)\n",
    "_ = vectorizer.fit(data)"
   ]
  },
  {
   "cell_type": "code",
   "execution_count": 8,
   "id": "2e99c31d",
   "metadata": {},
   "outputs": [
    {
     "name": "stderr",
     "output_type": "stream",
     "text": [
      " 18%|████████████████▎                                                                          | 7/39 [00:00<?, ?it/s]\n"
     ]
    }
   ],
   "source": [
    "stemmer = nltk.stem.snowball.EnglishStemmer()\n",
    "def stem_text(text, stemmer):\n",
    "    tokens = text.split()\n",
    "    return ' '.join(map(lambda w: stemmer.stem(w), tokens))\n",
    "\n",
    "stemmed_texts = []\n",
    "for t in tqdm(data[:1000]):\n",
    "    stemmed_texts.append(stem_text(t, stemmer))"
   ]
  },
  {
   "cell_type": "code",
   "execution_count": 9,
   "id": "f9c0f9cf",
   "metadata": {},
   "outputs": [],
   "source": [
    "import pymorphy2\n",
    "morph = pymorphy2.MorphAnalyzer()"
   ]
  },
  {
   "cell_type": "markdown",
   "id": "c5e18ffb",
   "metadata": {},
   "source": [
    "*Для векторизации текста я буду использовать алгоритм линейной регрессии, так как по полученным коэффициентам регрессии можно судить о том, как тот или иной фактор влияет на результат, а значит, этот алгоритм сможет более точно определить повторяющие слова.*"
   ]
  },
  {
   "cell_type": "code",
   "execution_count": 10,
   "id": "b21d5534",
   "metadata": {},
   "outputs": [],
   "source": [
    "text=data.copy()"
   ]
  },
  {
   "cell_type": "code",
   "execution_count": 11,
   "id": "8eae3a28",
   "metadata": {},
   "outputs": [],
   "source": [
    "lbl=LabelEncoder()\n",
    "non_nomic=data.select_dtypes(exclude=[np.number])\n",
    "non_momic_cols=non_nomic.columns.values\n",
    "for col in non_momic_cols:\n",
    "    data[col]=lbl.fit_transform(data[col].astype(str))"
   ]
  },
  {
   "cell_type": "code",
   "execution_count": 12,
   "id": "8c34b18c",
   "metadata": {},
   "outputs": [],
   "source": [
    "data = data.drop(columns=[\"name\"])\n",
    "y = data[\"rate\"]\n",
    "X = data.drop(columns=[\"rate\"])"
   ]
  },
  {
   "cell_type": "code",
   "execution_count": 13,
   "id": "5fec4795",
   "metadata": {},
   "outputs": [
    {
     "name": "stderr",
     "output_type": "stream",
     "text": [
      "C:\\Users\\blend\\anaconda3\\lib\\site-packages\\seaborn\\distributions.py:2619: FutureWarning: `distplot` is a deprecated function and will be removed in a future version. Please adapt your code to use either `displot` (a figure-level function with similar flexibility) or `histplot` (an axes-level function for histograms).\n",
      "  warnings.warn(msg, FutureWarning)\n",
      "C:\\Users\\blend\\anaconda3\\lib\\site-packages\\seaborn\\distributions.py:2619: FutureWarning: `distplot` is a deprecated function and will be removed in a future version. Please adapt your code to use either `displot` (a figure-level function with similar flexibility) or `histplot` (an axes-level function for histograms).\n",
      "  warnings.warn(msg, FutureWarning)\n"
     ]
    },
    {
     "data": {
      "image/png": "[encoded data removed]",
      "text/plain": [
       "<Figure size 864x360 with 2 Axes>"
      ]
     },
     "metadata": {
      "needs_background": "light"
     },
     "output_type": "display_data"
    }
   ],
   "source": [
    "plt.figure(figsize=(12, 5))\n",
    "plt.subplot(1, 2, 1)\n",
    "sns.distplot(y, label='rate')\n",
    "plt.title('rate')\n",
    "plt.subplot(1, 2, 2)\n",
    "sns.distplot(data.refs, label='refs')\n",
    "plt.title('refs')\n",
    "plt.show()"
   ]
  },
  {
   "cell_type": "code",
   "execution_count": 14,
   "id": "cc356d97",
   "metadata": {},
   "outputs": [],
   "source": [
    "X_train, X_test, y_train, y_test = train_test_split(\n",
    "    X, y, test_size=0.3, random_state=10)\n",
    "\n",
    "numeric_data = X_train.select_dtypes([np.number])\n",
    "numeric_data_mean = numeric_data.mean()\n",
    "numeric_features = numeric_data.columns\n",
    "\n",
    "X_train = X_train.fillna(numeric_data_mean)[numeric_features]\n",
    "X_test = X_test.fillna(numeric_data_mean)[numeric_features]"
   ]
  },
  {
   "cell_type": "code",
   "execution_count": 15,
   "id": "88966c66",
   "metadata": {},
   "outputs": [
    {
     "name": "stderr",
     "output_type": "stream",
     "text": [
      "C:\\Users\\blend\\anaconda3\\lib\\site-packages\\seaborn\\distributions.py:2619: FutureWarning: `distplot` is a deprecated function and will be removed in a future version. Please adapt your code to use either `displot` (a figure-level function with similar flexibility) or `histplot` (an axes-level function for histograms).\n",
      "  warnings.warn(msg, FutureWarning)\n"
     ]
    },
    {
     "data": {
      "image/png": "[encoded data removed]",
      "text/plain": [
       "<Figure size 432x288 with 1 Axes>"
      ]
     },
     "metadata": {
      "needs_background": "light"
     },
     "output_type": "display_data"
    }
   ],
   "source": [
    "sns.distplot(np.log(y+1), label='target')\n",
    "plt.show()"
   ]
  },
  {
   "cell_type": "code",
   "execution_count": 16,
   "id": "48b847b9",
   "metadata": {},
   "outputs": [
    {
     "name": "stdout",
     "output_type": "stream",
     "text": [
      "Test RMSE = 1.8101\n"
     ]
    }
   ],
   "source": [
    "model = Ridge()\n",
    "model.fit(X_train, y_train)\n",
    "y_pred = model.predict(X_test)\n",
    "print(\"Test RMSE = %.4f\" % mean_squared_error(y_test, y_pred) ** 0.5)"
   ]
  },
  {
   "cell_type": "code",
   "execution_count": 17,
   "id": "f5c38923",
   "metadata": {},
   "outputs": [
    {
     "name": "stdout",
     "output_type": "stream",
     "text": [
      "Test RMSE = 2.3835\n"
     ]
    }
   ],
   "source": [
    "model = Ridge()\n",
    "model.fit(X_train, np.log(y_train+1))\n",
    "y_pred = np.exp(model.predict(X_test))-1\n",
    "print(\"Test RMSE = %.4f\" % mean_squared_error(y_test, y_pred) ** 0.5)"
   ]
  },
  {
   "cell_type": "markdown",
   "id": "e767c951",
   "metadata": {},
   "source": [
    "*Можно заметить, что после обучения на линейной регрессии, точность увеличилась, а значит алгоритм был подобран верно.*"
   ]
  },
  {
   "cell_type": "markdown",
   "id": "b03798ec",
   "metadata": {},
   "source": [
    "**Бинаризация**"
   ]
  },
  {
   "cell_type": "code",
   "execution_count": 18,
   "id": "fad0a62d",
   "metadata": {},
   "outputs": [],
   "source": [
    "from sklearn.linear_model import LinearRegression\n",
    "np.random.seed(36)\n",
    "X = np.random.uniform(0, 1, size=100)\n",
    "y = np.cos(1.5 * np.pi * X) + np.random.normal(scale=0.1, size=X.shape)"
   ]
  },
  {
   "cell_type": "code",
   "execution_count": 19,
   "id": "831c2227",
   "metadata": {},
   "outputs": [
    {
     "data": {
      "text/plain": [
       "<matplotlib.collections.PathCollection at 0x15e12946400>"
      ]
     },
     "execution_count": 19,
     "metadata": {},
     "output_type": "execute_result"
    },
    {
     "data": {
      "image/png": "[encoded data removed]",
      "text/plain": [
       "<Figure size 432x288 with 1 Axes>"
      ]
     },
     "metadata": {
      "needs_background": "light"
     },
     "output_type": "display_data"
    }
   ],
   "source": [
    "plt.scatter(X, y)"
   ]
  },
  {
   "cell_type": "code",
   "execution_count": 20,
   "id": "71fcde4f",
   "metadata": {},
   "outputs": [],
   "source": [
    "X = X.reshape((-1, 1))\n",
    "thresholds = np.arange(0.2, 1.1, 0.2).reshape((1, -1))\n",
    "\n",
    "X_expand = np.hstack((\n",
    "    X,\n",
    "    ((X > thresholds[:, :-1]) & (X <= thresholds[:, 1:])).astype(int)))"
   ]
  },
  {
   "cell_type": "markdown",
   "id": "46575da2",
   "metadata": {},
   "source": [
    "### 2.2 Тематическое моделирование"
   ]
  },
  {
   "cell_type": "markdown",
   "id": "28bcc6a5",
   "metadata": {},
   "source": [
    "*У нас есть все необходимое для обучения модели LDA. В дополнение к корпусу и словарю необходимо также указать количество тем.Кроме того, alpha и eta являются гиперпараметрами, которые влияют на разреженность тем. Согласно документации Gensim, оба значения по умолчанию равны 1.0 / num_topics.chunksize – это количество документов, которые будут использоваться в каждом обучающем чанке. update_every определяет, как часто параметры модели должны обновляться, а passes – это общее количество проходов обучения.*"
   ]
  },
  {
   "cell_type": "code",
   "execution_count": 21,
   "id": "a623a82f",
   "metadata": {},
   "outputs": [
    {
     "name": "stderr",
     "output_type": "stream",
     "text": [
      "[nltk_data] Downloading package stopwords to\n",
      "[nltk_data]     C:\\Users\\blend\\AppData\\Roaming\\nltk_data...\n",
      "[nltk_data]   Package stopwords is already up-to-date!\n"
     ]
    },
    {
     "data": {
      "text/plain": [
       "True"
      ]
     },
     "execution_count": 21,
     "metadata": {},
     "output_type": "execute_result"
    }
   ],
   "source": [
    "import nltk; nltk.download('stopwords')"
   ]
  },
  {
   "cell_type": "code",
   "execution_count": 22,
   "id": "b6d88723",
   "metadata": {},
   "outputs": [],
   "source": [
    "import re\n",
    "import numpy as np\n",
    "import pandas as pd\n",
    "from pprint import pprint\n",
    "# Gensim\n",
    "import gensim\n",
    "import gensim.corpora as corpora\n",
    "from gensim.utils import simple_preprocess\n",
    "from gensim.models import CoherenceModel\n",
    "import matplotlib.pyplot as plt\n",
    "%matplotlib inline\n",
    "import logging\n",
    "logging.basicConfig(format='%(asctime)s : %(levelname)s : %(message)s', level=logging.ERROR)\n",
    "import warnings\n",
    "warnings.filterwarnings(\"ignore\",category=DeprecationWarning)"
   ]
  },
  {
   "cell_type": "markdown",
   "id": "f1f84b6f",
   "metadata": {},
   "source": [
    "**LDA**"
   ]
  },
  {
   "cell_type": "markdown",
   "id": "4268835d",
   "metadata": {},
   "source": [
    "*В LDA каждый документ может рассматриваться как набор случайных скрытых тем, где каждая тема определяется распределением слов, при этом каждое слово в конкретном документе можно отнести к одной из его тем. Подобный подход схож с pLSA с той разницей, что в LDA качестве априорного распределения для тем используется распределение Дирихле. Это улучшает качество получающихся тем.*"
   ]
  },
  {
   "cell_type": "code",
   "execution_count": 23,
   "id": "000f3f2d",
   "metadata": {},
   "outputs": [],
   "source": [
    "from sklearn.feature_extraction.text import CountVectorizer\n",
    "count_vect = CountVectorizer(max_df=0.8, min_df=2, stop_words='english')\n",
    "doc_term_matrix = count_vect.fit_transform(text['refs'].values.astype('U'))"
   ]
  },
  {
   "cell_type": "code",
   "execution_count": 24,
   "id": "67af503b",
   "metadata": {},
   "outputs": [
    {
     "data": {
      "text/plain": [
       "<39x2771 sparse matrix of type '<class 'numpy.int64'>'\n",
       "\twith 8299 stored elements in Compressed Sparse Row format>"
      ]
     },
     "execution_count": 24,
     "metadata": {},
     "output_type": "execute_result"
    }
   ],
   "source": [
    "doc_term_matrix"
   ]
  },
  {
   "cell_type": "code",
   "execution_count": 25,
   "id": "2ac0a776",
   "metadata": {},
   "outputs": [
    {
     "data": {
      "text/plain": [
       "LatentDirichletAllocation(n_components=5, random_state=42)"
      ]
     },
     "execution_count": 25,
     "metadata": {},
     "output_type": "execute_result"
    }
   ],
   "source": [
    "from sklearn.decomposition import LatentDirichletAllocation\n",
    "LDA = LatentDirichletAllocation(n_components=5, random_state=42)\n",
    "LDA.fit(doc_term_matrix)"
   ]
  },
  {
   "cell_type": "code",
   "execution_count": 26,
   "id": "e5de33a2",
   "metadata": {},
   "outputs": [
    {
     "name": "stdout",
     "output_type": "stream",
     "text": [
      "маркетинговых\n",
      "ему\n",
      "своё\n",
      "технологиях\n",
      "динамику\n",
      "ваша\n",
      "получил\n",
      "nсразу\n",
      "специалистов\n",
      "поддержка\n"
     ]
    },
    {
     "name": "stderr",
     "output_type": "stream",
     "text": [
      "C:\\Users\\blend\\anaconda3\\lib\\site-packages\\sklearn\\utils\\deprecation.py:87: FutureWarning: Function get_feature_names is deprecated; get_feature_names is deprecated in 1.0 and will be removed in 1.2. Please use get_feature_names_out instead.\n",
      "  warnings.warn(msg, category=FutureWarning)\n"
     ]
    }
   ],
   "source": [
    "import random\n",
    "for i in range(10):\n",
    "    random_id = random.randint(0,len(count_vect.get_feature_names()))\n",
    "    print(count_vect.get_feature_names()[random_id])\n"
   ]
  },
  {
   "cell_type": "code",
   "execution_count": 27,
   "id": "3628088c",
   "metadata": {},
   "outputs": [],
   "source": [
    "first_topic = LDA.components_[0]"
   ]
  },
  {
   "cell_type": "code",
   "execution_count": 28,
   "id": "b071c74f",
   "metadata": {},
   "outputs": [
    {
     "name": "stdout",
     "output_type": "stream",
     "text": [
      "[4.6248099  2.20000171 5.10494589 ... 0.22657943 0.20000022 0.20000002]\n"
     ]
    }
   ],
   "source": [
    "print(first_topic)"
   ]
  },
  {
   "cell_type": "code",
   "execution_count": 29,
   "id": "25244896",
   "metadata": {},
   "outputs": [
    {
     "name": "stderr",
     "output_type": "stream",
     "text": [
      "C:\\Users\\blend\\anaconda3\\lib\\site-packages\\seaborn\\distributions.py:2619: FutureWarning: `distplot` is a deprecated function and will be removed in a future version. Please adapt your code to use either `displot` (a figure-level function with similar flexibility) or `histplot` (an axes-level function for histograms).\n",
      "  warnings.warn(msg, FutureWarning)\n"
     ]
    },
    {
     "data": {
      "image/png": "[encoded data removed]",
      "text/plain": [
       "<Figure size 432x288 with 1 Axes>"
      ]
     },
     "metadata": {
      "needs_background": "light"
     },
     "output_type": "display_data"
    }
   ],
   "source": [
    "sns.distplot(first_topic, label='target')\n",
    "plt.show()"
   ]
  },
  {
   "cell_type": "code",
   "execution_count": 30,
   "id": "f069a7a5",
   "metadata": {},
   "outputs": [
    {
     "name": "stdout",
     "output_type": "stream",
     "text": [
      "Top 10 words for topic #0:\n",
      "['информационных', 'системы', 'что', 'модели', 'данных', 'не', 'xa0', 'для', 'на', 'по']\n",
      "\n",
      "\n",
      "Top 10 words for topic #1:\n",
      "['киберспорта', 'для', 'nan', 'киберспорт', 'то', 'не', 'по', 'что', 'это', 'на']\n",
      "\n",
      "\n",
      "Top 10 words for topic #2:\n",
      "['есть', 'вы', 'мы', 'для', 'как', 'на', 'это', 'не', 'то', 'что']\n",
      "\n",
      "\n",
      "Top 10 words for topic #3:\n",
      "['или', 'также', 'это', 'как', 'по', 'для', 'что', 'не', 'мы', 'на']\n",
      "\n",
      "\n",
      "Top 10 words for topic #4:\n",
      "['при', 'году', 'развитие', 'правительство', 'не', 'москвы', 'на', 'для', 'по', 'проект']\n",
      "\n",
      "\n"
     ]
    },
    {
     "name": "stderr",
     "output_type": "stream",
     "text": [
      "C:\\Users\\blend\\anaconda3\\lib\\site-packages\\sklearn\\utils\\deprecation.py:87: FutureWarning: Function get_feature_names is deprecated; get_feature_names is deprecated in 1.0 and will be removed in 1.2. Please use get_feature_names_out instead.\n",
      "  warnings.warn(msg, category=FutureWarning)\n"
     ]
    }
   ],
   "source": [
    "for i,topic in enumerate(LDA.components_):\n",
    "    print(f'Top 10 words for topic #{i}:')\n",
    "    print([count_vect.get_feature_names()[i] for i in topic.argsort()[-10:]])\n",
    "    print('\\n')"
   ]
  },
  {
   "cell_type": "code",
   "execution_count": 31,
   "id": "dca87ba5",
   "metadata": {},
   "outputs": [
    {
     "data": {
      "text/plain": [
       "(39, 5)"
      ]
     },
     "execution_count": 31,
     "metadata": {},
     "output_type": "execute_result"
    }
   ],
   "source": [
    "topic_values = LDA.transform(doc_term_matrix)\n",
    "topic_values.shape"
   ]
  },
  {
   "cell_type": "code",
   "execution_count": 32,
   "id": "80eaebe1",
   "metadata": {},
   "outputs": [],
   "source": [
    "text['topic'] = topic_values.argmax(axis=1)"
   ]
  },
  {
   "cell_type": "code",
   "execution_count": 33,
   "id": "3105a69b",
   "metadata": {},
   "outputs": [
    {
     "data": {
      "text/html": [
       "<div>\n",
       "<style scoped>\n",
       "    .dataframe tbody tr th:only-of-type {\n",
       "        vertical-align: middle;\n",
       "    }\n",
       "\n",
       "    .dataframe tbody tr th {\n",
       "        vertical-align: top;\n",
       "    }\n",
       "\n",
       "    .dataframe thead th {\n",
       "        text-align: right;\n",
       "    }\n",
       "</style>\n",
       "<table border=\"1\" class=\"dataframe\">\n",
       "  <thead>\n",
       "    <tr style=\"text-align: right;\">\n",
       "      <th></th>\n",
       "      <th>Unnamed: 0</th>\n",
       "      <th>date</th>\n",
       "      <th>refs</th>\n",
       "      <th>name</th>\n",
       "      <th>rate</th>\n",
       "      <th>activity</th>\n",
       "      <th>description</th>\n",
       "      <th>topic</th>\n",
       "    </tr>\n",
       "  </thead>\n",
       "  <tbody>\n",
       "    <tr>\n",
       "      <th>0</th>\n",
       "      <td>0</td>\n",
       "      <td>2023 05 19t16 59 55 000z</td>\n",
       "      <td>дисклеймер не повторяйте в домашних условиях с...</td>\n",
       "      <td>ruvds com</td>\n",
       "      <td>6 1</td>\n",
       "      <td>связь и телекоммуникации</td>\n",
       "      <td>международный облачный провайдер ruvds предлаг...</td>\n",
       "      <td>2</td>\n",
       "    </tr>\n",
       "    <tr>\n",
       "      <th>1</th>\n",
       "      <td>1</td>\n",
       "      <td>2023 05 19t16 20 33 000z</td>\n",
       "      <td>продолжаю цикл статей по разработке etl процес...</td>\n",
       "      <td>selectel</td>\n",
       "      <td>6 1</td>\n",
       "      <td>аппаратное обеспечение</td>\n",
       "      <td>selectel ведущий в россии провайдер облачной и...</td>\n",
       "      <td>2</td>\n",
       "    </tr>\n",
       "    <tr>\n",
       "      <th>2</th>\n",
       "      <td>2</td>\n",
       "      <td>2023 05 19t16 13 11 000z</td>\n",
       "      <td>давно интересовался как можно объединить микро...</td>\n",
       "      <td>timeweb cloud</td>\n",
       "      <td>6 1</td>\n",
       "      <td>веб разработка</td>\n",
       "      <td>timeweb cloud облачный сервис сочетающий масс...</td>\n",
       "      <td>2</td>\n",
       "    </tr>\n",
       "    <tr>\n",
       "      <th>3</th>\n",
       "      <td>3</td>\n",
       "      <td>2023 05 19t16 00 01 000z</td>\n",
       "      <td>сингапур известен своей развитой экономикой и ...</td>\n",
       "      <td>otus</td>\n",
       "      <td>6 1</td>\n",
       "      <td>консалтинг и поддержка</td>\n",
       "      <td>otus сообщество профессионалов которые помогут...</td>\n",
       "      <td>1</td>\n",
       "    </tr>\n",
       "    <tr>\n",
       "      <th>4</th>\n",
       "      <td>4</td>\n",
       "      <td>2023 05 19t15 03 46 000z</td>\n",
       "      <td>друзья продолжаем публиковать решения нашего c...</td>\n",
       "      <td>firstvds</td>\n",
       "      <td>6 1</td>\n",
       "      <td>связь и телекоммуникации</td>\n",
       "      <td>размещаем сайты клиентов на виртуальных и выде...</td>\n",
       "      <td>3</td>\n",
       "    </tr>\n",
       "  </tbody>\n",
       "</table>\n",
       "</div>"
      ],
      "text/plain": [
       "   Unnamed: 0                      date  \\\n",
       "0           0  2023 05 19t16 59 55 000z   \n",
       "1           1  2023 05 19t16 20 33 000z   \n",
       "2           2  2023 05 19t16 13 11 000z   \n",
       "3           3  2023 05 19t16 00 01 000z   \n",
       "4           4  2023 05 19t15 03 46 000z   \n",
       "\n",
       "                                                refs           name  rate  \\\n",
       "0  дисклеймер не повторяйте в домашних условиях с...      ruvds com   6 1   \n",
       "1  продолжаю цикл статей по разработке etl процес...       selectel   6 1   \n",
       "2  давно интересовался как можно объединить микро...  timeweb cloud   6 1   \n",
       "3  сингапур известен своей развитой экономикой и ...           otus   6 1   \n",
       "4  друзья продолжаем публиковать решения нашего c...       firstvds   6 1   \n",
       "\n",
       "                    activity  \\\n",
       "0   связь и телекоммуникации   \n",
       "1     аппаратное обеспечение   \n",
       "2             веб разработка   \n",
       "3     консалтинг и поддержка   \n",
       "4   связь и телекоммуникации   \n",
       "\n",
       "                                         description  topic  \n",
       "0  международный облачный провайдер ruvds предлаг...      2  \n",
       "1  selectel ведущий в россии провайдер облачной и...      2  \n",
       "2   timeweb cloud облачный сервис сочетающий масс...      2  \n",
       "3  otus сообщество профессионалов которые помогут...      1  \n",
       "4  размещаем сайты клиентов на виртуальных и выде...      3  "
      ]
     },
     "execution_count": 33,
     "metadata": {},
     "output_type": "execute_result"
    }
   ],
   "source": [
    "text.head()"
   ]
  },
  {
   "cell_type": "markdown",
   "id": "ab5b24b5",
   "metadata": {},
   "source": [
    "**NMF**"
   ]
  },
  {
   "cell_type": "markdown",
   "id": "a8aac64a",
   "metadata": {},
   "source": [
    "*Неотрицательная матричная факторизация также является контролируемым методом обучения, который выполняет кластеризацию, а также уменьшение размерности. Он может быть использован в сочетании со схемой TF-IDF для выполнения тематического моделирования.*"
   ]
  },
  {
   "cell_type": "code",
   "execution_count": 34,
   "id": "576aa153",
   "metadata": {},
   "outputs": [],
   "source": [
    "from sklearn.feature_extraction.text import TfidfVectorizer\n",
    "tfidf_vect = TfidfVectorizer(max_df=0.8, min_df=2, stop_words='english')\n",
    "doc_term_matrix = tfidf_vect.fit_transform(text['refs'].values.astype('U'))"
   ]
  },
  {
   "cell_type": "code",
   "execution_count": 35,
   "id": "f3e84d14",
   "metadata": {},
   "outputs": [
    {
     "name": "stdout",
     "output_type": "stream",
     "text": [
      "которых\n",
      "участвовать\n",
      "компаниям\n",
      "источников\n",
      "передачу\n",
      "примера\n",
      "оно\n",
      "необходимость\n",
      "весьма\n",
      "первоначально\n"
     ]
    },
    {
     "name": "stderr",
     "output_type": "stream",
     "text": [
      "C:\\Users\\blend\\anaconda3\\lib\\site-packages\\sklearn\\utils\\deprecation.py:87: FutureWarning: Function get_feature_names is deprecated; get_feature_names is deprecated in 1.0 and will be removed in 1.2. Please use get_feature_names_out instead.\n",
      "  warnings.warn(msg, category=FutureWarning)\n"
     ]
    }
   ],
   "source": [
    "import random\n",
    "for i in range(10):\n",
    "    random_id = random.randint(0,len(tfidf_vect.get_feature_names()))\n",
    "    print(tfidf_vect.get_feature_names()[random_id])"
   ]
  },
  {
   "cell_type": "code",
   "execution_count": 96,
   "id": "968d0919",
   "metadata": {},
   "outputs": [
    {
     "name": "stderr",
     "output_type": "stream",
     "text": [
      "C:\\Users\\blend\\anaconda3\\lib\\site-packages\\sklearn\\decomposition\\_nmf.py:289: FutureWarning: The 'init' value, when 'init=None' and n_components is less than n_samples and n_features, will be changed from 'nndsvd' to 'nndsvda' in 1.1 (renaming of 0.26).\n",
      "  warnings.warn(\n"
     ]
    },
    {
     "data": {
      "text/plain": [
       "NMF(n_components=5, random_state=42)"
      ]
     },
     "execution_count": 96,
     "metadata": {},
     "output_type": "execute_result"
    }
   ],
   "source": [
    "from sklearn.decomposition import NMF\n",
    "\n",
    "nmf = NMF(n_components=5, random_state=42)\n",
    "nmf.fit(doc_term_matrix )"
   ]
  },
  {
   "cell_type": "code",
   "execution_count": 38,
   "id": "a740e11e",
   "metadata": {},
   "outputs": [],
   "source": [
    "first_topic = nmf.components_[0]\n",
    "top_topic_words = first_topic.argsort()[-10:]"
   ]
  },
  {
   "cell_type": "code",
   "execution_count": 39,
   "id": "aa0404bc",
   "metadata": {},
   "outputs": [
    {
     "name": "stderr",
     "output_type": "stream",
     "text": [
      "C:\\Users\\blend\\anaconda3\\lib\\site-packages\\seaborn\\distributions.py:2619: FutureWarning: `distplot` is a deprecated function and will be removed in a future version. Please adapt your code to use either `displot` (a figure-level function with similar flexibility) or `histplot` (an axes-level function for histograms).\n",
      "  warnings.warn(msg, FutureWarning)\n"
     ]
    },
    {
     "data": {
      "image/png": "[encoded data removed]",
      "text/plain": [
       "<Figure size 432x288 with 1 Axes>"
      ]
     },
     "metadata": {
      "needs_background": "light"
     },
     "output_type": "display_data"
    }
   ],
   "source": [
    "sns.distplot(top_topic_words, label='target')\n",
    "plt.show()"
   ]
  },
  {
   "cell_type": "code",
   "execution_count": 41,
   "id": "9f866654",
   "metadata": {},
   "outputs": [
    {
     "name": "stdout",
     "output_type": "stream",
     "text": [
      "Top 10 words for topic #0:\n",
      "['концов', 'кооперации', 'копейки', 'копирайт', 'короткий', 'короче', 'корпоратив', 'концепция', 'ящик', 'nan']\n",
      "\n",
      "\n",
      "Top 10 words for topic #1:\n",
      "['но', 'или', 'мы', 'для', 'как', 'на', 'это', 'то', 'не', 'что']\n",
      "\n",
      "\n",
      "Top 10 words for topic #2:\n",
      "['зовут', 'эксперимент', 'провели', 'опытом', 'мы', 'занимаюсь', 'микрофронтендов', 'мальченко', 'евгений', 'qiwi']\n",
      "\n",
      "\n",
      "Top 10 words for topic #3:\n",
      "['разработке', 'статьи', 'процессов', 'как', 'объединить', 'для', 'пк', 'процесс', 'python', 'на']\n",
      "\n",
      "\n",
      "Top 10 words for topic #4:\n",
      "['на', 'xa0', 'года', 'вшэ', 'правительство', 'программы', 'москвы', 'киберспорта', 'проект', 'по']\n",
      "\n",
      "\n"
     ]
    },
    {
     "name": "stderr",
     "output_type": "stream",
     "text": [
      "C:\\Users\\blend\\anaconda3\\lib\\site-packages\\sklearn\\utils\\deprecation.py:87: FutureWarning: Function get_feature_names is deprecated; get_feature_names is deprecated in 1.0 and will be removed in 1.2. Please use get_feature_names_out instead.\n",
      "  warnings.warn(msg, category=FutureWarning)\n"
     ]
    }
   ],
   "source": [
    "for i,topic in enumerate(nmf.components_):\n",
    "    print(f'Top 10 words for topic #{i}:')\n",
    "    print([tfidf_vect.get_feature_names()[i] for i in topic.argsort()[-10:]])\n",
    "    print('\\n')"
   ]
  },
  {
   "cell_type": "code",
   "execution_count": 42,
   "id": "60e98321",
   "metadata": {},
   "outputs": [
    {
     "name": "stdout",
     "output_type": "stream",
     "text": [
      "Top 10 words for topic #0:\n",
      "['концов', 'кооперации', 'копейки', 'копирайт', 'короткий', 'короче', 'корпоратив', 'концепция', 'ящик', 'nan']\n",
      "\n",
      "\n",
      "Top 10 words for topic #1:\n",
      "['но', 'или', 'мы', 'для', 'как', 'на', 'это', 'то', 'не', 'что']\n",
      "\n",
      "\n",
      "Top 10 words for topic #2:\n",
      "['зовут', 'эксперимент', 'провели', 'опытом', 'мы', 'занимаюсь', 'микрофронтендов', 'мальченко', 'евгений', 'qiwi']\n",
      "\n",
      "\n",
      "Top 10 words for topic #3:\n",
      "['разработке', 'статьи', 'процессов', 'как', 'объединить', 'для', 'пк', 'процесс', 'python', 'на']\n",
      "\n",
      "\n",
      "Top 10 words for topic #4:\n",
      "['на', 'xa0', 'года', 'вшэ', 'правительство', 'программы', 'москвы', 'киберспорта', 'проект', 'по']\n",
      "\n",
      "\n"
     ]
    }
   ],
   "source": [
    "for i,topic in enumerate(nmf.components_):\n",
    "    print(f'Top 10 words for topic #{i}:')\n",
    "    print([tfidf_vect.get_feature_names()[i] for i in topic.argsort()[-10:]])\n",
    "    print('\\n')"
   ]
  },
  {
   "cell_type": "code",
   "execution_count": 43,
   "id": "adca17b7",
   "metadata": {},
   "outputs": [
    {
     "data": {
      "text/html": [
       "<div>\n",
       "<style scoped>\n",
       "    .dataframe tbody tr th:only-of-type {\n",
       "        vertical-align: middle;\n",
       "    }\n",
       "\n",
       "    .dataframe tbody tr th {\n",
       "        vertical-align: top;\n",
       "    }\n",
       "\n",
       "    .dataframe thead th {\n",
       "        text-align: right;\n",
       "    }\n",
       "</style>\n",
       "<table border=\"1\" class=\"dataframe\">\n",
       "  <thead>\n",
       "    <tr style=\"text-align: right;\">\n",
       "      <th></th>\n",
       "      <th>Unnamed: 0</th>\n",
       "      <th>date</th>\n",
       "      <th>refs</th>\n",
       "      <th>name</th>\n",
       "      <th>rate</th>\n",
       "      <th>activity</th>\n",
       "      <th>description</th>\n",
       "      <th>topic</th>\n",
       "      <th>topic_2</th>\n",
       "    </tr>\n",
       "  </thead>\n",
       "  <tbody>\n",
       "    <tr>\n",
       "      <th>0</th>\n",
       "      <td>0</td>\n",
       "      <td>2023 05 19t16 59 55 000z</td>\n",
       "      <td>дисклеймер не повторяйте в домашних условиях с...</td>\n",
       "      <td>ruvds com</td>\n",
       "      <td>6 1</td>\n",
       "      <td>связь и телекоммуникации</td>\n",
       "      <td>международный облачный провайдер ruvds предлаг...</td>\n",
       "      <td>2</td>\n",
       "      <td>1</td>\n",
       "    </tr>\n",
       "    <tr>\n",
       "      <th>1</th>\n",
       "      <td>1</td>\n",
       "      <td>2023 05 19t16 20 33 000z</td>\n",
       "      <td>продолжаю цикл статей по разработке etl процес...</td>\n",
       "      <td>selectel</td>\n",
       "      <td>6 1</td>\n",
       "      <td>аппаратное обеспечение</td>\n",
       "      <td>selectel ведущий в россии провайдер облачной и...</td>\n",
       "      <td>2</td>\n",
       "      <td>3</td>\n",
       "    </tr>\n",
       "    <tr>\n",
       "      <th>2</th>\n",
       "      <td>2</td>\n",
       "      <td>2023 05 19t16 13 11 000z</td>\n",
       "      <td>давно интересовался как можно объединить микро...</td>\n",
       "      <td>timeweb cloud</td>\n",
       "      <td>6 1</td>\n",
       "      <td>веб разработка</td>\n",
       "      <td>timeweb cloud облачный сервис сочетающий масс...</td>\n",
       "      <td>2</td>\n",
       "      <td>3</td>\n",
       "    </tr>\n",
       "    <tr>\n",
       "      <th>3</th>\n",
       "      <td>3</td>\n",
       "      <td>2023 05 19t16 00 01 000z</td>\n",
       "      <td>сингапур известен своей развитой экономикой и ...</td>\n",
       "      <td>otus</td>\n",
       "      <td>6 1</td>\n",
       "      <td>консалтинг и поддержка</td>\n",
       "      <td>otus сообщество профессионалов которые помогут...</td>\n",
       "      <td>1</td>\n",
       "      <td>4</td>\n",
       "    </tr>\n",
       "    <tr>\n",
       "      <th>4</th>\n",
       "      <td>4</td>\n",
       "      <td>2023 05 19t15 03 46 000z</td>\n",
       "      <td>друзья продолжаем публиковать решения нашего c...</td>\n",
       "      <td>firstvds</td>\n",
       "      <td>6 1</td>\n",
       "      <td>связь и телекоммуникации</td>\n",
       "      <td>размещаем сайты клиентов на виртуальных и выде...</td>\n",
       "      <td>3</td>\n",
       "      <td>4</td>\n",
       "    </tr>\n",
       "  </tbody>\n",
       "</table>\n",
       "</div>"
      ],
      "text/plain": [
       "   Unnamed: 0                      date  \\\n",
       "0           0  2023 05 19t16 59 55 000z   \n",
       "1           1  2023 05 19t16 20 33 000z   \n",
       "2           2  2023 05 19t16 13 11 000z   \n",
       "3           3  2023 05 19t16 00 01 000z   \n",
       "4           4  2023 05 19t15 03 46 000z   \n",
       "\n",
       "                                                refs           name  rate  \\\n",
       "0  дисклеймер не повторяйте в домашних условиях с...      ruvds com   6 1   \n",
       "1  продолжаю цикл статей по разработке etl процес...       selectel   6 1   \n",
       "2  давно интересовался как можно объединить микро...  timeweb cloud   6 1   \n",
       "3  сингапур известен своей развитой экономикой и ...           otus   6 1   \n",
       "4  друзья продолжаем публиковать решения нашего c...       firstvds   6 1   \n",
       "\n",
       "                    activity  \\\n",
       "0   связь и телекоммуникации   \n",
       "1     аппаратное обеспечение   \n",
       "2             веб разработка   \n",
       "3     консалтинг и поддержка   \n",
       "4   связь и телекоммуникации   \n",
       "\n",
       "                                         description  topic  topic_2  \n",
       "0  международный облачный провайдер ruvds предлаг...      2        1  \n",
       "1  selectel ведущий в россии провайдер облачной и...      2        3  \n",
       "2   timeweb cloud облачный сервис сочетающий масс...      2        3  \n",
       "3  otus сообщество профессионалов которые помогут...      1        4  \n",
       "4  размещаем сайты клиентов на виртуальных и выде...      3        4  "
      ]
     },
     "execution_count": 43,
     "metadata": {},
     "output_type": "execute_result"
    }
   ],
   "source": [
    "topic_values = nmf.transform(doc_term_matrix)\n",
    "text['topic_2'] = topic_values.argmax(axis=1)\n",
    "text.head()"
   ]
  },
  {
   "cell_type": "markdown",
   "id": "40ca66cf",
   "metadata": {},
   "source": [
    "**LSI (LSA)**"
   ]
  },
  {
   "cell_type": "markdown",
   "id": "549be179",
   "metadata": {},
   "source": [
    "*Проблема этого метода в том, что он предполагает, что слова и документы имеют нормальное распределение, но в реальности это не так. Поэтому на практике чаще используется pLSA, основанный на мультиномиальном распределении. Если LSA — это чистая линейная алгебра, то pLSA имеет еще и статистические основания.Согласно pLSA, совместная встречаемость терма и документа  (w,d)  моделируется как сочетание независимых мультиномиальных распределений, где  c  — тема. Количество тем — это гиперпараметр, который выбирается до начала анализа.*"
   ]
  },
  {
   "cell_type": "code",
   "execution_count": 44,
   "id": "089e5995",
   "metadata": {},
   "outputs": [],
   "source": [
    "import os\n",
    "import pandas as pd\n",
    "from nltk.tokenize import RegexpTokenizer\n",
    "from sklearn.feature_extraction.text import TfidfVectorizer\n",
    "from sklearn.decomposition import TruncatedSVD"
   ]
  },
  {
   "cell_type": "code",
   "execution_count": 45,
   "id": "56d8a6fe",
   "metadata": {},
   "outputs": [
    {
     "data": {
      "text/plain": [
       "TruncatedSVD(n_components=5, random_state=42)"
      ]
     },
     "execution_count": 45,
     "metadata": {},
     "output_type": "execute_result"
    }
   ],
   "source": [
    "from sklearn.decomposition import LatentDirichletAllocation\n",
    "SVD = TruncatedSVD(n_components=5, random_state=42)\n",
    "SVD.fit(doc_term_matrix)"
   ]
  },
  {
   "cell_type": "code",
   "execution_count": 46,
   "id": "ac2905d2",
   "metadata": {},
   "outputs": [
    {
     "name": "stdout",
     "output_type": "stream",
     "text": [
      "сложные\n",
      "изначального\n",
      "сайта\n",
      "создали\n",
      "идут\n",
      "случаев\n",
      "решать\n",
      "вторых\n",
      "оплаты\n",
      "разработчиков\n"
     ]
    },
    {
     "name": "stderr",
     "output_type": "stream",
     "text": [
      "C:\\Users\\blend\\anaconda3\\lib\\site-packages\\sklearn\\utils\\deprecation.py:87: FutureWarning: Function get_feature_names is deprecated; get_feature_names is deprecated in 1.0 and will be removed in 1.2. Please use get_feature_names_out instead.\n",
      "  warnings.warn(msg, category=FutureWarning)\n"
     ]
    }
   ],
   "source": [
    "import random\n",
    "for i in range(10):\n",
    "    random_id = random.randint(0,len(count_vect.get_feature_names()))\n",
    "    print(count_vect.get_feature_names()[random_id])\n"
   ]
  },
  {
   "cell_type": "code",
   "execution_count": 47,
   "id": "95c0e6fb",
   "metadata": {},
   "outputs": [],
   "source": [
    "first_topic = SVD.components_[0]"
   ]
  },
  {
   "cell_type": "code",
   "execution_count": 48,
   "id": "79f3bf04",
   "metadata": {},
   "outputs": [
    {
     "name": "stdout",
     "output_type": "stream",
     "text": [
      "[ 2.51551621e-09  5.03146751e-10 -4.01487008e-09 ...  3.65296449e-10\n",
      "  3.35955252e-09 -6.75575740e-10]\n"
     ]
    }
   ],
   "source": [
    "print(first_topic)"
   ]
  },
  {
   "cell_type": "code",
   "execution_count": 49,
   "id": "5a2de866",
   "metadata": {},
   "outputs": [
    {
     "name": "stderr",
     "output_type": "stream",
     "text": [
      "C:\\Users\\blend\\anaconda3\\lib\\site-packages\\seaborn\\distributions.py:2619: FutureWarning: `distplot` is a deprecated function and will be removed in a future version. Please adapt your code to use either `displot` (a figure-level function with similar flexibility) or `histplot` (an axes-level function for histograms).\n",
      "  warnings.warn(msg, FutureWarning)\n"
     ]
    },
    {
     "data": {
      "image/png": "[encoded data removed]",
      "text/plain": [
       "<Figure size 432x288 with 1 Axes>"
      ]
     },
     "metadata": {
      "needs_background": "light"
     },
     "output_type": "display_data"
    }
   ],
   "source": [
    "sns.distplot(first_topic, label='target')\n",
    "plt.show()"
   ]
  },
  {
   "cell_type": "markdown",
   "id": "e483dbce",
   "metadata": {},
   "source": [
    "*Исходя из реализованных алгоритмов можно сделать вывод, что, лучшим алгоритмом для иходных данных является -  NMF, так как он показал наиболее выокую вероятность обучения*"
   ]
  },
  {
   "cell_type": "markdown",
   "id": "4b43f5f2",
   "metadata": {},
   "source": [
    "### 2.3 Кластеризация"
   ]
  },
  {
   "cell_type": "code",
   "execution_count": 50,
   "id": "1e103e07",
   "metadata": {},
   "outputs": [],
   "source": [
    "from sklearn.cluster import KMeans\n",
    "from sklearn.decomposition import PCA\n",
    "from sklearn.manifold import TSNE\n",
    "from sklearn import decomposition\n",
    "from sklearn.metrics import silhouette_score\n",
    "from sklearn.cluster import AgglomerativeClustering\n",
    "from sklearn.model_selection import train_test_split"
   ]
  },
  {
   "cell_type": "code",
   "execution_count": 51,
   "id": "960c328c",
   "metadata": {},
   "outputs": [],
   "source": [
    "import numpy as np # linear algebra\n",
    "import pandas as pd # data processing, CSV file I/O (e.g. pd.read_csv)\n",
    "import matplotlib.pyplot as plt\n",
    "import seaborn as sns\n",
    "from sklearn.preprocessing import StandardScaler\n",
    "from sklearn.cluster import KMeans\n",
    "from sklearn.decomposition import PCA\n",
    "from sklearn.metrics.pairwise import cosine_similarity"
   ]
  },
  {
   "cell_type": "markdown",
   "id": "e457ddfd",
   "metadata": {},
   "source": [
    "*Для того, что-бы приступить к обучению модели, необходимо выбрать алгоритмы для кластеризации.Наиболее подходящим алгоритмом будет являться:k-means- из-за простоты в реализации, и умении работать с большим количеством значений, PCA-он основан на уменьшении размерности выборки, TSNE-преимущества такиеже как и у анализа главных компонентов.*"
   ]
  },
  {
   "cell_type": "code",
   "execution_count": 52,
   "id": "03398f49",
   "metadata": {},
   "outputs": [],
   "source": [
    "from sklearn.linear_model import LassoCV\n",
    "from sklearn.linear_model import RidgeCV\n",
    "from sklearn.linear_model import ElasticNetCV\n",
    "from sklearn.metrics import mean_squared_error"
   ]
  },
  {
   "cell_type": "markdown",
   "id": "820ccd8d",
   "metadata": {},
   "source": [
    "**PCA**"
   ]
  },
  {
   "cell_type": "code",
   "execution_count": 53,
   "id": "9a2eab0c",
   "metadata": {},
   "outputs": [
    {
     "name": "stderr",
     "output_type": "stream",
     "text": [
      "C:\\Users\\blend\\AppData\\Local\\Temp\\ipykernel_7844\\2952694243.py:1: FutureWarning: In a future version of pandas all arguments of DataFrame.drop except for the argument 'labels' will be keyword-only.\n",
      "  x = data.drop('refs', 1)\n"
     ]
    }
   ],
   "source": [
    "x = data.drop('refs', 1)\n",
    "y = data['refs']"
   ]
  },
  {
   "cell_type": "code",
   "execution_count": 54,
   "id": "8b839ade",
   "metadata": {},
   "outputs": [
    {
     "name": "stdout",
     "output_type": "stream",
     "text": [
      "Количество признаков после обработки PCA: 4\n"
     ]
    }
   ],
   "source": [
    "pca = decomposition.PCA(n_components=4)\n",
    "X_pca=pca.fit_transform(x)\n",
    "print(\"Количество признаков после обработки PCA: {0}\".format(X_pca.shape[1]))"
   ]
  },
  {
   "cell_type": "code",
   "execution_count": 55,
   "id": "35dc7e5d",
   "metadata": {},
   "outputs": [
    {
     "name": "stdout",
     "output_type": "stream",
     "text": [
      "0.9926486084591094\n"
     ]
    }
   ],
   "source": [
    "print(format(sum(pca.explained_variance_ratio_)))"
   ]
  },
  {
   "cell_type": "code",
   "execution_count": 56,
   "id": "a3025ac5",
   "metadata": {},
   "outputs": [
    {
     "name": "stdout",
     "output_type": "stream",
     "text": [
      "Точность после обработки PCA:0.25905275317138315\n"
     ]
    }
   ],
   "source": [
    "print(\"Точность после обработки PCA:{0}\".format(silhouette_score(X_pca,y)))"
   ]
  },
  {
   "cell_type": "markdown",
   "id": "6b84ccc6",
   "metadata": {},
   "source": [
    "**t-SNE**"
   ]
  },
  {
   "cell_type": "code",
   "execution_count": 57,
   "id": "d8550059",
   "metadata": {},
   "outputs": [],
   "source": [
    "samples = data.iloc[:, :-1].values\n",
    "varieties = data.iloc[:, -1].values"
   ]
  },
  {
   "cell_type": "code",
   "execution_count": 58,
   "id": "63e894cc",
   "metadata": {},
   "outputs": [
    {
     "data": {
      "image/png": "[encoded data removed]",
      "text/plain": [
       "<Figure size 1080x360 with 1 Axes>"
      ]
     },
     "metadata": {
      "needs_background": "light"
     },
     "output_type": "display_data"
    }
   ],
   "source": [
    "from scipy.cluster.hierarchy import linkage, dendrogram\n",
    "\n",
    "# Calculate the linkage: mergings\n",
    "mergings = linkage(samples, method='complete')\n",
    "\n",
    "# Plot the dendrogram, using varieties as labels\n",
    "plt.figure(figsize=(15, 5))\n",
    "dendrogram(mergings,\n",
    "           labels=varieties,\n",
    "           leaf_rotation=90,\n",
    "           leaf_font_size=6,\n",
    "          );"
   ]
  },
  {
   "cell_type": "code",
   "execution_count": 59,
   "id": "fa64a378",
   "metadata": {},
   "outputs": [],
   "source": [
    "tsne = TSNE(learning_rate=50)"
   ]
  },
  {
   "cell_type": "code",
   "execution_count": 60,
   "id": "36ebcb5a",
   "metadata": {},
   "outputs": [
    {
     "name": "stderr",
     "output_type": "stream",
     "text": [
      "C:\\Users\\blend\\anaconda3\\lib\\site-packages\\sklearn\\manifold\\_t_sne.py:780: FutureWarning: The default initialization in TSNE will change from 'random' to 'pca' in 1.2.\n",
      "  warnings.warn(\n"
     ]
    }
   ],
   "source": [
    "y_pred_tsne=tsne.fit_transform(x)"
   ]
  },
  {
   "cell_type": "code",
   "execution_count": 61,
   "id": "55b83dc2",
   "metadata": {},
   "outputs": [
    {
     "name": "stdout",
     "output_type": "stream",
     "text": [
      "Количество признаков после обработки t-SNE: 2\n"
     ]
    }
   ],
   "source": [
    "print(\"Количество признаков после обработки t-SNE: {0}\".format(y_pred_tsne.shape[1]))"
   ]
  },
  {
   "cell_type": "code",
   "execution_count": 62,
   "id": "1c82c4eb",
   "metadata": {},
   "outputs": [
    {
     "name": "stdout",
     "output_type": "stream",
     "text": [
      "Точность после обработки t-SNE:0.2655460834503174\n"
     ]
    }
   ],
   "source": [
    "print(\"Точность после обработки t-SNE:{0}\".format(silhouette_score(y_pred_tsne,y)))"
   ]
  },
  {
   "cell_type": "markdown",
   "id": "c33f6b69",
   "metadata": {},
   "source": [
    "**k-means**"
   ]
  },
  {
   "cell_type": "code",
   "execution_count": 63,
   "id": "b4d546a2",
   "metadata": {},
   "outputs": [],
   "source": [
    "mean=KMeans(n_clusters=4, random_state=101)"
   ]
  },
  {
   "cell_type": "code",
   "execution_count": 64,
   "id": "f6e3976c",
   "metadata": {},
   "outputs": [],
   "source": [
    "y_pred_means=mean.fit_transform(x)"
   ]
  },
  {
   "cell_type": "code",
   "execution_count": 65,
   "id": "af20fd51",
   "metadata": {},
   "outputs": [
    {
     "name": "stdout",
     "output_type": "stream",
     "text": [
      "Количество признаков после обработки k_means: 4\n"
     ]
    }
   ],
   "source": [
    "print(\"Количество признаков после обработки k_means: {0}\".format(y_pred_means.shape[1]))"
   ]
  },
  {
   "cell_type": "code",
   "execution_count": 66,
   "id": "098d0b9e",
   "metadata": {},
   "outputs": [
    {
     "name": "stdout",
     "output_type": "stream",
     "text": [
      "Точность после обработки k_means:0.25309736616047496\n"
     ]
    }
   ],
   "source": [
    "print(\"Точность после обработки k_means:{0}\".format(silhouette_score(y_pred_means,y)))"
   ]
  },
  {
   "cell_type": "markdown",
   "id": "f910fe56",
   "metadata": {},
   "source": [
    "*Теперь можно сравнить работу алгоритмов*"
   ]
  },
  {
   "cell_type": "code",
   "execution_count": 67,
   "id": "5d9e0da7",
   "metadata": {},
   "outputs": [
    {
     "data": {
      "text/plain": [
       "<AxesSubplot:title={'center':'Cuisine Preference'}, ylabel='model'>"
      ]
     },
     "execution_count": 67,
     "metadata": {},
     "output_type": "execute_result"
    },
    {
     "data": {
      "image/png": "[encoded data removed]",
      "text/plain": [
       "<Figure size 432x288 with 1 Axes>"
      ]
     },
     "metadata": {
      "needs_background": "light"
     },
     "output_type": "display_data"
    }
   ],
   "source": [
    "model_comparison = pd.DataFrame({'model': ['t-sne', 'k-means', 'pca'],\n",
    "                                 'cluster': [silhouette_score(y_pred_tsne,y), silhouette_score(y_pred_means,y), silhouette_score(X_pca,y)]})  \n",
    "# Plot a bar chart\n",
    "model_comparison.plot.barh(x='model', y='cluster',\n",
    "             title='Cuisine Preference', color='green')"
   ]
  },
  {
   "cell_type": "markdown",
   "id": "21c31186",
   "metadata": {},
   "source": [
    "*Исходя из графика можно сделать вывод, что лучше всех с обучением справился алгоритм t-sne*"
   ]
  },
  {
   "cell_type": "code",
   "execution_count": 68,
   "id": "6b7154bf",
   "metadata": {},
   "outputs": [],
   "source": [
    "tsne=[]"
   ]
  },
  {
   "cell_type": "code",
   "execution_count": 69,
   "id": "acf4da7f",
   "metadata": {},
   "outputs": [],
   "source": [
    "tsne=y_pred_tsne"
   ]
  },
  {
   "cell_type": "code",
   "execution_count": 70,
   "id": "571069f4",
   "metadata": {},
   "outputs": [],
   "source": [
    "tsne=pd.DataFrame(tsne)"
   ]
  },
  {
   "cell_type": "code",
   "execution_count": 71,
   "id": "a51c7f98",
   "metadata": {},
   "outputs": [],
   "source": [
    "del tsne[0]"
   ]
  },
  {
   "cell_type": "code",
   "execution_count": 72,
   "id": "42f926af",
   "metadata": {},
   "outputs": [],
   "source": [
    "text[\"cluster\"]=tsne"
   ]
  },
  {
   "cell_type": "markdown",
   "id": "224f269a",
   "metadata": {},
   "source": [
    "### 2.4 Разведочный анализ"
   ]
  },
  {
   "cell_type": "markdown",
   "id": "0c59ef38",
   "metadata": {},
   "source": [
    "**Визуализация зависимости кластера от даты**"
   ]
  },
  {
   "cell_type": "code",
   "execution_count": 73,
   "id": "369fd5bb",
   "metadata": {},
   "outputs": [
    {
     "data": {
      "image/png": "[encoded data removed]",
      "text/plain": [
       "<Figure size 360x360 with 1 Axes>"
      ]
     },
     "metadata": {
      "needs_background": "light"
     },
     "output_type": "display_data"
    }
   ],
   "source": [
    "sns.relplot(x =\"date\", y =\"cluster\",\n",
    "            data = text);"
   ]
  },
  {
   "cell_type": "markdown",
   "id": "f45f8087",
   "metadata": {},
   "source": [
    "*На графике видно, что от кластер от временных признаков зависит хорошо, так как точки кластера лежат на всей плоскости графика.Таже стоит сказать, что чем больше временной признак, тем больше кластеров.*"
   ]
  },
  {
   "cell_type": "markdown",
   "id": "6b1de82a",
   "metadata": {},
   "source": [
    "**Визуализация зависимости кластера от рейтинга**"
   ]
  },
  {
   "cell_type": "code",
   "execution_count": 74,
   "id": "b42cafdf",
   "metadata": {},
   "outputs": [
    {
     "data": {
      "image/png": "[encoded data removed]",
      "text/plain": [
       "<Figure size 360x360 with 1 Axes>"
      ]
     },
     "metadata": {
      "needs_background": "light"
     },
     "output_type": "display_data"
    }
   ],
   "source": [
    "sns.relplot(x =\"rate\", y =\"cluster\",\n",
    "            data = text);"
   ]
  },
  {
   "cell_type": "markdown",
   "id": "a6d88b26",
   "metadata": {},
   "source": [
    "*На данном графике можно увидеть, что рейтинг компании от кластера зависит хорошо, так как точки кластера лежат на всей плоскости графика. Можно увидеть, что больше всего кластеров соответствует рейтинг 6.1*"
   ]
  },
  {
   "cell_type": "markdown",
   "id": "c1a3e1d2",
   "metadata": {},
   "source": [
    "**Визуализация зависимости кластера от ключевых слов**"
   ]
  },
  {
   "cell_type": "code",
   "execution_count": 75,
   "id": "ce863c44",
   "metadata": {},
   "outputs": [
    {
     "data": {
      "image/png": "[encoded data removed]",
      "text/plain": [
       "<Figure size 360x360 with 1 Axes>"
      ]
     },
     "metadata": {
      "needs_background": "light"
     },
     "output_type": "display_data"
    }
   ],
   "source": [
    "sns.relplot(x =\"topic_2\", y =\"cluster\",\n",
    "            data = text);"
   ]
  },
  {
   "cell_type": "markdown",
   "id": "482752e9",
   "metadata": {},
   "source": [
    "*На данном графике можно заметить, что больше всего ключевых слов соответствуют кластеру 1, также можно увидеть, что зависимости ключевых слов от кластерапрактически нет.*"
   ]
  },
  {
   "cell_type": "markdown",
   "id": "ef772ee0",
   "metadata": {},
   "source": [
    "**Визуальный анализ статистики публикаций**"
   ]
  },
  {
   "cell_type": "markdown",
   "id": "312cd5e5",
   "metadata": {},
   "source": [
    "**дальний участок**"
   ]
  },
  {
   "cell_type": "code",
   "execution_count": 87,
   "id": "4b670539",
   "metadata": {},
   "outputs": [
    {
     "data": {
      "text/html": [
       "<div>\n",
       "<style scoped>\n",
       "    .dataframe tbody tr th:only-of-type {\n",
       "        vertical-align: middle;\n",
       "    }\n",
       "\n",
       "    .dataframe tbody tr th {\n",
       "        vertical-align: top;\n",
       "    }\n",
       "\n",
       "    .dataframe thead th {\n",
       "        text-align: right;\n",
       "    }\n",
       "</style>\n",
       "<table border=\"1\" class=\"dataframe\">\n",
       "  <thead>\n",
       "    <tr style=\"text-align: right;\">\n",
       "      <th></th>\n",
       "      <th>Unnamed: 0</th>\n",
       "      <th>date</th>\n",
       "      <th>refs</th>\n",
       "      <th>name</th>\n",
       "      <th>rate</th>\n",
       "      <th>activity</th>\n",
       "      <th>description</th>\n",
       "      <th>topic</th>\n",
       "      <th>topic_2</th>\n",
       "      <th>cluster</th>\n",
       "    </tr>\n",
       "  </thead>\n",
       "  <tbody>\n",
       "    <tr>\n",
       "      <th>0</th>\n",
       "      <td>0</td>\n",
       "      <td>2023 05 19t16 59 55 000z</td>\n",
       "      <td>дисклеймер не повторяйте в домашних условиях с...</td>\n",
       "      <td>ruvds com</td>\n",
       "      <td>6 1</td>\n",
       "      <td>связь и телекоммуникации</td>\n",
       "      <td>международный облачный провайдер ruvds предлаг...</td>\n",
       "      <td>2</td>\n",
       "      <td>1</td>\n",
       "      <td>1.346571</td>\n",
       "    </tr>\n",
       "    <tr>\n",
       "      <th>1</th>\n",
       "      <td>1</td>\n",
       "      <td>2023 05 19t16 20 33 000z</td>\n",
       "      <td>продолжаю цикл статей по разработке etl процес...</td>\n",
       "      <td>selectel</td>\n",
       "      <td>6 1</td>\n",
       "      <td>аппаратное обеспечение</td>\n",
       "      <td>selectel ведущий в россии провайдер облачной и...</td>\n",
       "      <td>2</td>\n",
       "      <td>3</td>\n",
       "      <td>1.237431</td>\n",
       "    </tr>\n",
       "  </tbody>\n",
       "</table>\n",
       "</div>"
      ],
      "text/plain": [
       "   Unnamed: 0                      date  \\\n",
       "0           0  2023 05 19t16 59 55 000z   \n",
       "1           1  2023 05 19t16 20 33 000z   \n",
       "\n",
       "                                                refs       name  rate  \\\n",
       "0  дисклеймер не повторяйте в домашних условиях с...  ruvds com   6 1   \n",
       "1  продолжаю цикл статей по разработке etl процес...   selectel   6 1   \n",
       "\n",
       "                    activity  \\\n",
       "0   связь и телекоммуникации   \n",
       "1     аппаратное обеспечение   \n",
       "\n",
       "                                         description  topic  topic_2   cluster  \n",
       "0  международный облачный провайдер ruvds предлаг...      2        1  1.346571  \n",
       "1  selectel ведущий в россии провайдер облачной и...      2        3  1.237431  "
      ]
     },
     "execution_count": 87,
     "metadata": {},
     "output_type": "execute_result"
    }
   ],
   "source": [
    "text[:2]"
   ]
  },
  {
   "cell_type": "code",
   "execution_count": 88,
   "id": "0d790b03",
   "metadata": {},
   "outputs": [],
   "source": [
    "lbl=LabelEncoder()\n",
    "non_nomic=text.select_dtypes(exclude=[np.number])\n",
    "non_momic_cols=non_nomic.columns.values\n",
    "for col in non_momic_cols:\n",
    "    text[col]=lbl.fit_transform(text[col].astype(str))"
   ]
  },
  {
   "cell_type": "code",
   "execution_count": 90,
   "id": "671c112b",
   "metadata": {},
   "outputs": [
    {
     "data": {
      "text/html": [
       "<div>\n",
       "<style scoped>\n",
       "    .dataframe tbody tr th:only-of-type {\n",
       "        vertical-align: middle;\n",
       "    }\n",
       "\n",
       "    .dataframe tbody tr th {\n",
       "        vertical-align: top;\n",
       "    }\n",
       "\n",
       "    .dataframe thead th {\n",
       "        text-align: right;\n",
       "    }\n",
       "</style>\n",
       "<table border=\"1\" class=\"dataframe\">\n",
       "  <thead>\n",
       "    <tr style=\"text-align: right;\">\n",
       "      <th></th>\n",
       "      <th>Unnamed: 0</th>\n",
       "      <th>date</th>\n",
       "      <th>refs</th>\n",
       "      <th>name</th>\n",
       "      <th>rate</th>\n",
       "      <th>activity</th>\n",
       "      <th>description</th>\n",
       "      <th>topic</th>\n",
       "      <th>topic_2</th>\n",
       "      <th>cluster</th>\n",
       "    </tr>\n",
       "  </thead>\n",
       "  <tbody>\n",
       "    <tr>\n",
       "      <th>0</th>\n",
       "      <td>0</td>\n",
       "      <td>25</td>\n",
       "      <td>15</td>\n",
       "      <td>15</td>\n",
       "      <td>9</td>\n",
       "      <td>8</td>\n",
       "      <td>10</td>\n",
       "      <td>2</td>\n",
       "      <td>1</td>\n",
       "      <td>1.346571</td>\n",
       "    </tr>\n",
       "    <tr>\n",
       "      <th>1</th>\n",
       "      <td>1</td>\n",
       "      <td>24</td>\n",
       "      <td>24</td>\n",
       "      <td>17</td>\n",
       "      <td>9</td>\n",
       "      <td>0</td>\n",
       "      <td>7</td>\n",
       "      <td>2</td>\n",
       "      <td>3</td>\n",
       "      <td>1.237431</td>\n",
       "    </tr>\n",
       "  </tbody>\n",
       "</table>\n",
       "</div>"
      ],
      "text/plain": [
       "   Unnamed: 0  date  refs  name  rate  activity  description  topic  topic_2  \\\n",
       "0           0    25    15    15     9         8           10      2        1   \n",
       "1           1    24    24    17     9         0            7      2        3   \n",
       "\n",
       "    cluster  \n",
       "0  1.346571  \n",
       "1  1.237431  "
      ]
     },
     "execution_count": 90,
     "metadata": {},
     "output_type": "execute_result"
    }
   ],
   "source": [
    "text[:2]"
   ]
  },
  {
   "cell_type": "code",
   "execution_count": 92,
   "id": "59745bff",
   "metadata": {},
   "outputs": [
    {
     "data": {
      "text/plain": [
       "<seaborn.axisgrid.JointGrid at 0x15e1a96dee0>"
      ]
     },
     "execution_count": 92,
     "metadata": {},
     "output_type": "execute_result"
    },
    {
     "data": {
      "image/png": "[encoded data removed]",
      "text/plain": [
       "<Figure size 432x432 with 3 Axes>"
      ]
     },
     "metadata": {
      "needs_background": "light"
     },
     "output_type": "display_data"
    }
   ],
   "source": [
    "sns.jointplot(x = 'description', y = 'rate', data = text)"
   ]
  },
  {
   "cell_type": "markdown",
   "id": "03b839d5",
   "metadata": {},
   "source": [
    "*Из графика выше можно увидеть, что больше всего публикацей с рейтингом 9*"
   ]
  },
  {
   "cell_type": "code",
   "execution_count": 86,
   "id": "d6418546",
   "metadata": {},
   "outputs": [
    {
     "data": {
      "text/plain": [
       "<seaborn.axisgrid.JointGrid at 0x15e1a6eb3d0>"
      ]
     },
     "execution_count": 86,
     "metadata": {},
     "output_type": "execute_result"
    },
    {
     "data": {
      "image/png": "[encoded data removed]",
      "text/plain": [
       "<Figure size 432x432 with 3 Axes>"
      ]
     },
     "metadata": {
      "needs_background": "light"
     },
     "output_type": "display_data"
    }
   ],
   "source": [
    "sns.jointplot(x = 'description', y = 'rate', data = data ,kind = 'hex')"
   ]
  },
  {
   "cell_type": "markdown",
   "id": "05273362",
   "metadata": {},
   "source": [
    "*Еще одно четкое визуальное представление, глубина цвета представляет частоту.*"
   ]
  },
  {
   "cell_type": "code",
   "execution_count": 93,
   "id": "64511033",
   "metadata": {},
   "outputs": [
    {
     "data": {
      "text/plain": [
       "<seaborn.axisgrid.JointGrid at 0x15e1aa94a30>"
      ]
     },
     "execution_count": 93,
     "metadata": {},
     "output_type": "execute_result"
    },
    {
     "data": {
      "image/png": "[encoded data removed]",
      "text/plain": [
       "<Figure size 432x432 with 3 Axes>"
      ]
     },
     "metadata": {
      "needs_background": "light"
     },
     "output_type": "display_data"
    }
   ],
   "source": [
    "sns.jointplot(x = 'description', y = 'topic', data = text ,kind = 'reg')"
   ]
  },
  {
   "cell_type": "markdown",
   "id": "e143a701",
   "metadata": {},
   "source": [
    "*Здесь был осуществлен ввывод графика линейной регрессии, практически все точки лежат рядом с линией, это говорит о том, что у публикации и ключевых слов очень хорошая зависимость*"
   ]
  },
  {
   "cell_type": "markdown",
   "id": "d59b32c0",
   "metadata": {},
   "source": [
    "### 2.5 Подготовка отчета"
   ]
  },
  {
   "cell_type": "markdown",
   "id": "40c7a08d",
   "metadata": {},
   "source": [
    "*В этом модуле продолжается работа с данными, подготовленными в предыдущей сессии. Требуется осуществить выбор алгоритма классификации, построить модель и   провести оптимизацию полученной модели машинного обучения в контексте исследуемой задачи.*"
   ]
  }
 ],
 "metadata": {
  "kernelspec": {
   "display_name": "Python 3 (ipykernel)",
   "language": "python",
   "name": "python3"
  },
  "language_info": {
   "codemirror_mode": {
    "name": "ipython",
    "version": 3
   },
   "file_extension": ".py",
   "mimetype": "text/x-python",
   "name": "python",
   "nbconvert_exporter": "python",
   "pygments_lexer": "ipython3",
   "version": "3.9.12"
  }
 },
 "nbformat": 4,
 "nbformat_minor": 5
}
